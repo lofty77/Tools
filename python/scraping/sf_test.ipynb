{
 "cells": [
  {
   "cell_type": "code",
   "execution_count": 1,
   "metadata": {},
   "outputs": [],
   "source": [
    "from selenium import webdriver\n",
    "from selenium.webdriver.common.by import By\n",
    "from selenium.webdriver.support.ui import WebDriverWait\n",
    "from selenium.webdriver.support import expected_conditions as EC\n",
    "import json\n",
    "import time\n",
    "import csv\n",
    "import pandas as pd"
   ]
  },
  {
   "cell_type": "code",
   "execution_count": 2,
   "metadata": {},
   "outputs": [],
   "source": [
    "csvFile = open(\"namelist.csv\",\"w+\")\n",
    "writer = csv.writer(csvFile)\n",
    "writer.writerow(('name','url'))\n",
    "urlList = []"
   ]
  },
  {
   "cell_type": "code",
   "execution_count": 3,
   "metadata": {},
   "outputs": [],
   "source": [
    "sourceUrl = \"https://sf.taobao.com/item_list.htm?category=50025969&auction_source=0&province=%CC%EC%BD%F2&sorder=2\" \\\n",
    "                 \"&st_param=-1&auction_start_from=2018-01-01&auction_start_to=2019-05-13&spm=a213w.3064813.9001.2\"  \n",
    "\n"
   ]
  },
  {
   "cell_type": "code",
   "execution_count": 4,
   "metadata": {},
   "outputs": [],
   "source": [
    "# Start the driver\n",
    "driver = webdriver.Chrome()\n",
    "# Setup wait for later\n",
    "wait = WebDriverWait(driver, 10)\n",
    "\n",
    "driver.get(sourceUrl)\n",
    "\n",
    "# Store the ID of the original window\n",
    "original_window = driver.current_window_handle\n",
    "\n",
    "# Check we don't have other windows open already\n",
    "assert len(driver.window_handles) == 1"
   ]
  },
  {
   "cell_type": "code",
   "execution_count": 5,
   "metadata": {},
   "outputs": [],
   "source": [
    "WebDriverWait(driver, 10).until(EC.presence_of_element_located((By.CLASS_NAME, \"page-total\")))\n",
    "\n",
    "pages = driver.find_element_by_class_name(\"page-total\").text\n"
   ]
  },
  {
   "cell_type": "code",
   "execution_count": null,
   "metadata": {},
   "outputs": [],
   "source": []
  },
  {
   "cell_type": "code",
   "execution_count": 6,
   "metadata": {},
   "outputs": [
    {
     "name": "stdout",
     "output_type": "stream",
     "text": [
      "结束:杨宁\n",
      "1:0:本场拍卖已结束 ！天津市西青区泰佳道与汇川路交口东南侧武台馨苑13-1-2205号 - 司法拍卖 - 阿里拍卖\n",
      "url:https://sf-item.taobao.com/sf_item/591345585914.htm?spm=a213w.7398504.paiList.1.4b4c26cdIV7YFs#J_Confirmation\n",
      "结束:魏环利\n",
      "1:1:本场拍卖已结束 ！天津市和平区西安道与长沙路交口东北侧诚基经贸中心1-2-902 - 司法拍卖 - 阿里拍卖\n",
      "url:https://sf-item.taobao.com/sf_item/593056639808.htm?spm=a213w.7398504.paiList.2.4b4c26cdIV7YFs#J_Confirmation\n"
     ]
    }
   ],
   "source": [
    "#for j in range(1,int(pages)+1):\n",
    "for j in range(1,2):\n",
    "\n",
    "    if (j > 1):\n",
    "        driver.find_element_by_link_text(str(j)).click()\n",
    "        time.sleep(1)\n",
    "        #WebDriverWait(driver, 10).until(EC.presence_of_element_located((By.CLASS_NAME, \"current\")))\n",
    "\n",
    "    else:\n",
    "        pass\n",
    "    \n",
    "    WebDriverWait(driver, 10).until(EC.presence_of_element_located((By.ID, \"sf-item-list-data\")))\n",
    "    data = driver.find_element_by_id(\"sf-item-list-data\").get_attribute('innerHTML')\n",
    "    jsonData =  json.loads(data)\n",
    "    jd = jsonData[\"data\"]\n",
    "    \n",
    "    \n",
    "    \n",
    "    \n",
    "    #for i in range(len(jd)):\n",
    "    for i in range(2):\n",
    "        num = jd[i][\"id\"]\n",
    "        url = \"#pai-item-\"+str(num)+\" .pic\"\n",
    "        urlList.append(url)\n",
    "        # Click the link which opens in a new window\n",
    "        driver.find_element_by_css_selector(url).click()\n",
    "        # Wait for the new window or tab\n",
    "        wait.until(EC.number_of_windows_to_be(2))\n",
    "        \n",
    "        handles = driver.window_handles\n",
    "        #print(handles)\n",
    "        driver.switch_to.window(handles[1])\n",
    "        WebDriverWait(driver, 10).until(EC.presence_of_element_located((By.CLASS_NAME, \"bid-fail\")))\n",
    "        data = driver.find_element_by_class_name(\"bid-fail\").text\n",
    "        bidStatus = data[5:7]\n",
    "        if(bidStatus !=\"结束\"):\n",
    "            print(\"流拍 or 失败\")\n",
    "            print(str(j)+\":\"+str(i) +\":\"+ data+driver.title)\n",
    "            print(\"url\"+driver.current_url)\n",
    "        else:\n",
    "            url2 = driver.current_url+\"#J_Confirmation\"\n",
    "            driver.get(url2)\n",
    "            WebDriverWait(driver, 10).until(EC.presence_of_element_located((By.CLASS_NAME, \"c-content\")))\n",
    "            info = driver.find_element_by_class_name(\"c-content\").text\n",
    "            index = info.find(\"通过\")\n",
    "            name = info[4:index]\n",
    "            print(\"结束\"+\":\"+name)\n",
    "            print(str(j)+\":\"+str(i) +\":\"+ data+driver.title)\n",
    "            print(\"url:\"+driver.current_url)\n",
    "            \n",
    "            # add to file\n",
    "            writer.writerow((name,driver.current_url))\n",
    "            \n",
    "\n",
    "        driver.close()\n",
    "        driver.switch_to.window(handles[0])\n"
   ]
  },
  {
   "cell_type": "code",
   "execution_count": 7,
   "metadata": {},
   "outputs": [],
   "source": [
    "driver.quit()"
   ]
  },
  {
   "cell_type": "code",
   "execution_count": 8,
   "metadata": {},
   "outputs": [],
   "source": [
    "csvFile.close()\n",
    "csv = pd.read_csv('namelist.csv', encoding='utf-8')\n",
    "csv.to_excel('namelist.xlsx', sheet_name='data')"
   ]
  },
  {
   "cell_type": "code",
   "execution_count": 9,
   "metadata": {},
   "outputs": [],
   "source": [
    "#for i in range(len(urlList))\n",
    "\n",
    "\n",
    "#     driver.switchTo().window(\"vars.get(\"root\").toString()\");\n",
    "#     driver.findElement(By.cssSelector(\"#pai-item-591508706185 .pic\")).click();\n",
    "#     driver.switchTo().window(\"vars.get(\"win8140\").toString()\");\n",
    "#     driver.close();"
   ]
  },
  {
   "cell_type": "code",
   "execution_count": 10,
   "metadata": {},
   "outputs": [],
   "source": [
    "#urlList"
   ]
  },
  {
   "cell_type": "code",
   "execution_count": null,
   "metadata": {},
   "outputs": [],
   "source": []
  },
  {
   "cell_type": "code",
   "execution_count": 11,
   "metadata": {},
   "outputs": [],
   "source": [
    "#590871909472\n",
    "#pai-item-591508706185 .pic"
   ]
  },
  {
   "cell_type": "code",
   "execution_count": null,
   "metadata": {},
   "outputs": [],
   "source": []
  },
  {
   "cell_type": "code",
   "execution_count": null,
   "metadata": {},
   "outputs": [],
   "source": []
  },
  {
   "cell_type": "code",
   "execution_count": null,
   "metadata": {},
   "outputs": [],
   "source": []
  },
  {
   "cell_type": "code",
   "execution_count": 12,
   "metadata": {},
   "outputs": [],
   "source": [
    "#data = driver.find_element_by_class_name(\"bid-fail\").text\n",
    "#print(data)"
   ]
  },
  {
   "cell_type": "code",
   "execution_count": 13,
   "metadata": {},
   "outputs": [],
   "source": [
    "#d = driver.find_element_by_id(\"sf-item-list-data\").get_attribute('innerHTML')\n"
   ]
  },
  {
   "cell_type": "code",
   "execution_count": 14,
   "metadata": {},
   "outputs": [],
   "source": [
    "#jd = json.loads(d)\n"
   ]
  },
  {
   "cell_type": "code",
   "execution_count": 15,
   "metadata": {},
   "outputs": [],
   "source": [
    "# for i in range(len(jd[\"data\"])):\n",
    "#     print(jd[\"data\"][i][\"id\"])"
   ]
  },
  {
   "cell_type": "code",
   "execution_count": 16,
   "metadata": {},
   "outputs": [],
   "source": [
    "#driver.find_element_by_css_selector(url).click()"
   ]
  }
 ],
 "metadata": {
  "kernelspec": {
   "display_name": "Python 3",
   "language": "python",
   "name": "python3"
  },
  "language_info": {
   "codemirror_mode": {
    "name": "ipython",
    "version": 3
   },
   "file_extension": ".py",
   "mimetype": "text/x-python",
   "name": "python",
   "nbconvert_exporter": "python",
   "pygments_lexer": "ipython3",
   "version": "3.7.1"
  }
 },
 "nbformat": 4,
 "nbformat_minor": 2
}
