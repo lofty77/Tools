{
 "cells": [
  {
   "cell_type": "code",
   "execution_count": 1,
   "metadata": {},
   "outputs": [],
   "source": [
    "Debug = True   # if debug mode.  Debug = True. if Release mode, Debug = False.\n",
    "DebugPageLen = 1\n",
    "DebugItemLen = 6"
   ]
  },
  {
   "cell_type": "code",
   "execution_count": 2,
   "metadata": {},
   "outputs": [],
   "source": [
    "from selenium import webdriver\n",
    "from selenium.webdriver.common.by import By\n",
    "from selenium.webdriver.support.ui import WebDriverWait\n",
    "from selenium.webdriver.support import expected_conditions as EC\n",
    "import json\n",
    "import time\n",
    "import csv\n",
    "import pandas as pd\n",
    "import re"
   ]
  },
  {
   "cell_type": "code",
   "execution_count": 3,
   "metadata": {},
   "outputs": [],
   "source": [
    "# time\n",
    "def getCurrentTimeStamp():\n",
    "    t = time.time()\n",
    "    print(time.strftime('%Y-%m-%d %H:%M:%S',time.localtime(t)))\n",
    "    return t\n",
    "\n",
    "\n",
    "def printDuration(start, end):\n",
    "    seconds = end - start\n",
    "    m, s = divmod(seconds, 60)\n",
    "    h, m = divmod(m, 60)\n",
    "    print (\"%02d:%02d:%02d\" % (h, m, s))"
   ]
  },
  {
   "cell_type": "code",
   "execution_count": 4,
   "metadata": {},
   "outputs": [],
   "source": [
    "class DataManagement:\n",
    "    def __init__(self):\n",
    "        self.data = {}\n",
    "        self.cvsFileName = 'namelist.csv'\n",
    "        self.xlsxFileName = 'shanghai2019.xlsx'\n",
    "        \n",
    "        self.__openFile()\n",
    "\n",
    "    def __processName(self,attribute, data):\n",
    "        if(attribute == \"name\"):\n",
    "            index = data.find(\"通过\")\n",
    "            data = data[4:index]\n",
    "            self.data[attribute] =  data     \n",
    "            \n",
    "    def __processArea(self,attribute, data):\n",
    "        index1 = data.find(\"建筑面积\")\n",
    "        index2 = data.find(\"面积\")\n",
    "        left = index1 if index1 > 0 else index2\n",
    "        if(left != -1):\n",
    "            size = data[(left+2) : (left+22)]\n",
    "            areas = re.findall(r\"\\d+\\.?\\d*\",size)\n",
    "            self.data[attribute] = areas[0] if areas else 0\n",
    "        else:\n",
    "            self.data[attribute] = 0\n",
    "                \n",
    "    def __processCommon(self,attribute, data):\n",
    "        self.data[attribute] =  data        \n",
    "\n",
    "\n",
    "    def setData(self,attribute, data):\n",
    "        if(attribute == \"name\"):\n",
    "            self.__processName(attribute, data)\n",
    "        elif(attribute == \"areaA\" or attribute == \"areaB\"):\n",
    "            self.__processArea(attribute, data)\n",
    "        else:\n",
    "            self.__processCommon(attribute,data)\n",
    "\n",
    "    \n",
    "    def __processData(self):\n",
    "        # \n",
    "        if (int(self.data[\"consultPrice\"]) > 0):\n",
    "            originPrice = self.data[\"consultPrice\"]\n",
    "        else:\n",
    "            originPrice = self.data[\"marketPrice\"]\n",
    "        #\n",
    "                \n",
    "        if (int(originPrice)  == 0):\n",
    "            self.data[\"discount\"] = \"error\"\n",
    "        else:\n",
    "            self.data[\"discount\"]  = float(\"%.2f\" % float(int(self.data[\"currentPrice\"])/originPrice))\n",
    " \n",
    "       # change unit to from RMB yuan to  RMB Wan\n",
    "        self.data[\"originPrice\"]  = float(\"%.2f\" % float(int(originPrice)/10000))        \n",
    "        self.data[\"currentPrice\"] = float(\"%.2f\" % float(int(self.data[\"currentPrice\"])/10000))\n",
    "\n",
    "      # set area\n",
    "        if(self.data[\"areaA\"] != 0 and self.data[\"areaA\"] == self.data[\"areaB\"]):\n",
    "            self.data[\"area\"]  = self.data[\"areaA\"]\n",
    "            self.data[\"unit\"] = float(\"%.2f\" % float(int(self.data[\"currentPrice\"])/float(self.data[\"area\"]) ))\n",
    "        else:\n",
    "            self.data[\"area\"] = 0\n",
    "            self.data[\"unit\"] = 0\n",
    "       #unit price\n",
    "        \n",
    "        \n",
    "    \n",
    "    def getData(self,attribute):\n",
    "        return self.data[attribute]\n",
    "    \n",
    "    def __openFile(self):\n",
    "        self.csvFile = open(self.cvsFileName,\"w+\")\n",
    "        self.writer = csv.writer(self.csvFile)        \n",
    "        header = (\"name\",\"date\",\"title\",\"originPrice\",\"currentPrice\",\"discount\",\"unit\",\"bidCount\",\"delayCount\",\"applyCount\",\"area\",\"areaA\",\"areaB\",\"url\")\n",
    "        self.writer.writerow(header)\n",
    "\n",
    "    def writeFile(self):\n",
    "        \n",
    "        self.__processData()\n",
    "        \n",
    "        \n",
    "        self.writer.writerow((\n",
    "                              self.data[\"name\"],\n",
    "                              self.data[\"date\"],\n",
    "                              self.data[\"title\"],\n",
    "                              self.data[\"originPrice\"],\n",
    "                              self.data[\"currentPrice\"],\n",
    "                              self.data[\"discount\"],\n",
    "                              self.data[\"unit\"],\n",
    "                              self.data[\"bidCount\"],\n",
    "                              self.data[\"delayCount\"],\n",
    "                              self.data[\"applyCount\"],\n",
    "                              self.data[\"area\"],\n",
    "                              self.data[\"areaA\"],\n",
    "                              self.data[\"areaB\"],\n",
    "                              self.data[\"url\"]\n",
    "                           ))\n",
    "\n",
    "    \n",
    "    def closeFile(self):\n",
    "        self.csvFile.close()\n",
    "        csv = pd.read_csv(self.cvsFileName, encoding='utf-8')\n",
    "        csv.to_excel(self.xlsxFileName, sheet_name='data')\n",
    "            \n"
   ]
  },
  {
   "cell_type": "code",
   "execution_count": 5,
   "metadata": {},
   "outputs": [
    {
     "name": "stdout",
     "output_type": "stream",
     "text": [
      "2019-05-25 16:28:58\n"
     ]
    }
   ],
   "source": [
    "# time\n",
    "startTime =  getCurrentTimeStamp()"
   ]
  },
  {
   "cell_type": "code",
   "execution_count": null,
   "metadata": {},
   "outputs": [],
   "source": []
  },
  {
   "cell_type": "code",
   "execution_count": 6,
   "metadata": {},
   "outputs": [],
   "source": [
    "data = DataManagement()\n"
   ]
  },
  {
   "cell_type": "code",
   "execution_count": 7,
   "metadata": {},
   "outputs": [],
   "source": [
    "# tianjin\n",
    "# sourceUrl = \"https://sf.taobao.com/item_list.htm?category=50025969&auction_source=0&province=%CC%EC%BD%F2&sorder=2\" \\\n",
    "#                  \"&st_param=-1&auction_start_from=2018-01-01&auction_start_to=2019-05-13&spm=a213w.3064813.9001.2\"  \n",
    "\n",
    "\n",
    "# wuhan\n",
    "# sourceUrl = \"https://sf.taobao.com/item_list.htm?category=50025969&auction_source=0&city=%CE%E4%BA%BA&sorder=2\" \\\n",
    "#                   \"&st_param=-1&auction_start_from=2018-01-01&auction_start_to=2019-05-19&spm=a213w.3064813.9001.2\"\n",
    "\n",
    "#shanghai\n",
    "sourceUrl = \"https://sf.taobao.com/item_list.htm?category=50025969&auction_source=0&province=%C9%CF%BA%A3&sorder=2\" \\\n",
    "                 \"&st_param=-1&auction_start_from=2019-01-01&auction_start_to=2019-05-24&spm=a213w.3064813.9001.2\""
   ]
  },
  {
   "cell_type": "code",
   "execution_count": 8,
   "metadata": {},
   "outputs": [],
   "source": [
    "# Start the driver\n",
    "driver = webdriver.Chrome()\n",
    "# Setup wait for later\n",
    "wait = WebDriverWait(driver, 10)\n",
    "\n",
    "driver.get(sourceUrl)\n",
    "\n",
    "# Store the ID of the original window\n",
    "original_window = driver.current_window_handle\n",
    "\n",
    "# Check we don't have other windows open already\n",
    "assert len(driver.window_handles) == 1"
   ]
  },
  {
   "cell_type": "code",
   "execution_count": 9,
   "metadata": {},
   "outputs": [
    {
     "data": {
      "text/plain": [
       "<selenium.webdriver.remote.webelement.WebElement (session=\"cc03e3868a1c8822b0d6fd14e7bce5ea\", element=\"0.4544146584701152-1\")>"
      ]
     },
     "execution_count": 9,
     "metadata": {},
     "output_type": "execute_result"
    }
   ],
   "source": [
    "wait.until(EC.presence_of_element_located((By.CLASS_NAME, \"page-total\")))\n"
   ]
  },
  {
   "cell_type": "code",
   "execution_count": 10,
   "metadata": {},
   "outputs": [],
   "source": [
    "# TEST\n",
    "\n",
    "if(Debug == True):\n",
    "    pages = DebugPageLen\n",
    "else:\n",
    "    pages = driver.find_element_by_class_name(\"page-total\").text\n"
   ]
  },
  {
   "cell_type": "code",
   "execution_count": null,
   "metadata": {},
   "outputs": [],
   "source": []
  },
  {
   "cell_type": "code",
   "execution_count": 11,
   "metadata": {},
   "outputs": [],
   "source": [
    "for page in range(1,int(pages)+1):\n",
    "    if(page > 1):\n",
    "        driver.find_element_by_link_text(str(page)).click()\n",
    "        time.sleep(1)\n",
    "    \n",
    "    wait.until(EC.presence_of_element_located((By.CLASS_NAME, \"sf-pai-item-list\")))\n",
    "    jsonData =  json.loads(driver.find_element_by_id(\"sf-item-list-data\").get_attribute('innerHTML'))\n",
    "    items = jsonData[\"data\"]\n",
    "    \n",
    "    if(Debug ==True):\n",
    "        itemLen = DebugItemLen\n",
    "    else:\n",
    "        itemLen = len(items)\n",
    "\n",
    "\n",
    "    for item in range(itemLen):            \n",
    "        if(items[item][\"status\"] == \"done\"):            \n",
    "            data.setData(\"id\",items[item][\"id\"])\n",
    "            data.setData(\"title\",items[item][\"title\"])\n",
    "            data.setData(\"currentPrice\",items[item][\"currentPrice\"])\n",
    "            data.setData(\"consultPrice\",items[item][\"consultPrice\"])\n",
    "            data.setData(\"marketPrice\",items[item][\"marketPrice\"])\n",
    "            data.setData(\"bidCount\",items[item][\"bidCount\"])\n",
    "            data.setData(\"delayCount\",items[item][\"delayCount\"])\n",
    "            data.setData(\"applyCount\",items[item][\"applyCount\"])\n",
    "            \n",
    "\n",
    "            url = \"#pai-item-\"+str(data.getData(\"id\"))\n",
    "                        \n",
    "            # Click the link which opens in a new window\n",
    "            driver.find_element_by_css_selector(url).click()\n",
    "            time.sleep(1) # have to wait sometime\n",
    "\n",
    "            # Wait for the new window or tab\n",
    "            wait.until(EC.number_of_windows_to_be(2))\n",
    "            handles = driver.window_handles\n",
    "            driver.switch_to.window(handles[1])\n",
    "            # size\n",
    "            \n",
    "            urlNew = driver.current_url\n",
    "            data.setData(\"url\",urlNew)\n",
    "\n",
    "            \n",
    "            url2 = str(urlNew)+\"#J_Confirmation\"\n",
    "            driver.get(url2)\n",
    "            \n",
    "            \n",
    "            wait.until(EC.presence_of_element_located((By.CLASS_NAME, \"content-wrap\")))            \n",
    "            data.setData(\"name\",driver.find_element_by_class_name(\"c-content\").text)\n",
    "            data.setData(\"date\",driver.find_element_by_class_name(\"c-stamp\").text)\n",
    "\n",
    "           # get area\n",
    "            driver.get(str(urlNew)+\"#NoticeDetail\")\n",
    "            time.sleep(1)\n",
    "            data.setData(\"areaA\",driver.find_element_by_id(\"J_NoticeDetail\").get_attribute('textContent'))\n",
    "\n",
    "           ###  Tip\n",
    "            driver.get(str(urlNew)+\"#RemindTip\")\n",
    "            time.sleep(1)\n",
    "            data.setData(\"areaB\",driver.find_element_by_id(\"J_desc\").get_attribute('textContent'))\n",
    "                \n",
    "\n",
    "### write into file\n",
    "            data.writeFile()\n",
    "          \n",
    "            driver.close()\n",
    "            driver.switch_to.window(handles[0])\n",
    "        else:\n",
    "            pass\n",
    "           # print(\"***item failed******\"+\": Page :\"+str(page)+\"   Item :\"+str(item))\n",
    "\n"
   ]
  },
  {
   "cell_type": "code",
   "execution_count": 12,
   "metadata": {},
   "outputs": [],
   "source": [
    "driver.quit()"
   ]
  },
  {
   "cell_type": "code",
   "execution_count": 13,
   "metadata": {},
   "outputs": [],
   "source": [
    "data.closeFile()"
   ]
  },
  {
   "cell_type": "code",
   "execution_count": 14,
   "metadata": {},
   "outputs": [
    {
     "name": "stdout",
     "output_type": "stream",
     "text": [
      "2019-05-25 16:29:31\n",
      "00:00:32\n"
     ]
    }
   ],
   "source": [
    "endTime = getCurrentTimeStamp()\n",
    "\n",
    "printDuration(startTime, endTime)"
   ]
  },
  {
   "cell_type": "code",
   "execution_count": null,
   "metadata": {},
   "outputs": [],
   "source": []
  },
  {
   "cell_type": "code",
   "execution_count": null,
   "metadata": {},
   "outputs": [],
   "source": [
    "\n"
   ]
  },
  {
   "cell_type": "code",
   "execution_count": null,
   "metadata": {},
   "outputs": [],
   "source": [
    "\n"
   ]
  },
  {
   "cell_type": "code",
   "execution_count": null,
   "metadata": {},
   "outputs": [],
   "source": []
  },
  {
   "cell_type": "code",
   "execution_count": 15,
   "metadata": {},
   "outputs": [],
   "source": [
    "# a = 5384000\n",
    "# c = float(\"%.2f\" % float(a/10000))\n",
    "# c"
   ]
  },
  {
   "cell_type": "code",
   "execution_count": 16,
   "metadata": {},
   "outputs": [],
   "source": [
    "# connsultPrice\n",
    "\n",
    "#marektPrice\n",
    "\n",
    "#only one "
   ]
  }
 ],
 "metadata": {
  "kernelspec": {
   "display_name": "Python 3",
   "language": "python",
   "name": "python3"
  },
  "language_info": {
   "codemirror_mode": {
    "name": "ipython",
    "version": 3
   },
   "file_extension": ".py",
   "mimetype": "text/x-python",
   "name": "python",
   "nbconvert_exporter": "python",
   "pygments_lexer": "ipython3",
   "version": "3.7.1"
  }
 },
 "nbformat": 4,
 "nbformat_minor": 2
}
