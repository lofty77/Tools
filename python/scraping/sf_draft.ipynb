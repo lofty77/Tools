{
 "cells": [
  {
   "cell_type": "code",
   "execution_count": null,
   "metadata": {},
   "outputs": [],
   "source": [
    "from selenium import webdriver\n",
    "from selenium.webdriver.common.by import By\n",
    "from selenium.webdriver.support.ui import WebDriverWait\n",
    "from selenium.webdriver.support import expected_conditions as EC\n",
    "import json\n",
    "import time\n",
    "import csv\n",
    "import pandas as pd\n",
    "import re\n",
    "#test\n",
    "#testURL = \"https://sf-item.taobao.com/sf_item/564864058728.htm?spm=a213w.7398504.paiList.12.328e26cdDu0PJF\"\n",
    "#testURL = \"https://sf-item.taobao.com/sf_item/571120945902.htm?spm=a213w.7398504.paiList.12.4bd326cdTYOUzJ\"\n",
    "testURL =\"https://sf-item.taobao.com/sf_item/590204222735.htm?spm=a213w.7398504.paiList.30.571726cdw9Wk85\"\n",
    "# Start the driver\n",
    "driver = webdriver.Chrome()\n",
    "# Setup wait for later\n",
    "wait = WebDriverWait(driver, 10)\n",
    "\n",
    "driver.get(str(testURL)+\"#NoticeDetail\")\n",
    "\n",
    "time.sleep(2)\n",
    "notice = driver.find_element_by_id(\"J_NoticeDetail\").get_attribute('textContent') \n",
    "left = notice.find(\"建筑\")\n",
    "right = notice.find(\"方米\",left)\n",
    "\n",
    "if(left != -1):\n",
    "    size = notice[(left+2) : (left+22)]   \n",
    "    areas = re.findall(r\"\\d+\\.\\d*\",size)\n",
    "    print(\"left:\"+str(left))\n",
    "    print(\"right:\"+str(right))\n",
    "    print(notice)\n",
    "    print(areas)\n",
    "else:\n",
    "    print(\"can not find areas\")"
   ]
  },
  {
   "cell_type": "code",
   "execution_count": null,
   "metadata": {},
   "outputs": [],
   "source": []
  },
  {
   "cell_type": "code",
   "execution_count": null,
   "metadata": {},
   "outputs": [],
   "source": []
  },
  {
   "cell_type": "code",
   "execution_count": 5,
   "metadata": {},
   "outputs": [],
   "source": [
    "import time\n",
    "\n",
    "def getCurrentTimeStamp():\n",
    "    t = time.time()\n",
    "    print(time.strftime('%Y-%m-%d %H:%M:%S',time.localtime(t)))\n",
    "    return t\n",
    "\n",
    "\n",
    "def printDuration(start, end):\n",
    "    seconds = t2 - t1\n",
    "    m, s = divmod(seconds, 60)\n",
    "    h, m = divmod(m, 60)\n",
    "    print (\"%02d:%02d:%02d\" % (h, m, s))\n",
    "    "
   ]
  },
  {
   "cell_type": "code",
   "execution_count": 6,
   "metadata": {},
   "outputs": [
    {
     "name": "stdout",
     "output_type": "stream",
     "text": [
      "2019-05-20 06:14:46\n"
     ]
    }
   ],
   "source": [
    "t1 =  getCurrentTimeStamp()"
   ]
  },
  {
   "cell_type": "code",
   "execution_count": 7,
   "metadata": {},
   "outputs": [
    {
     "name": "stdout",
     "output_type": "stream",
     "text": [
      "2019-05-20 06:14:48\n"
     ]
    }
   ],
   "source": [
    "t2 = getCurrentTimeStamp()"
   ]
  },
  {
   "cell_type": "code",
   "execution_count": 8,
   "metadata": {},
   "outputs": [
    {
     "name": "stdout",
     "output_type": "stream",
     "text": [
      "00:00:01\n"
     ]
    }
   ],
   "source": [
    "printDuration(t1, t2)"
   ]
  },
  {
   "cell_type": "code",
   "execution_count": null,
   "metadata": {},
   "outputs": [],
   "source": []
  },
  {
   "cell_type": "code",
   "execution_count": null,
   "metadata": {},
   "outputs": [],
   "source": []
  }
 ],
 "metadata": {
  "kernelspec": {
   "display_name": "Python 3",
   "language": "python",
   "name": "python3"
  },
  "language_info": {
   "codemirror_mode": {
    "name": "ipython",
    "version": 3
   },
   "file_extension": ".py",
   "mimetype": "text/x-python",
   "name": "python",
   "nbconvert_exporter": "python",
   "pygments_lexer": "ipython3",
   "version": "3.7.1"
  }
 },
 "nbformat": 4,
 "nbformat_minor": 2
}
