{
 "cells": [
  {
   "cell_type": "code",
   "execution_count": 1,
   "metadata": {},
   "outputs": [],
   "source": [
    "from selenium import webdriver\n",
    "from selenium.webdriver.common.by import By\n",
    "from selenium.webdriver.support.ui import WebDriverWait\n",
    "from selenium.webdriver.support import expected_conditions as EC\n",
    "import json\n",
    "import time\n",
    "import csv\n",
    "import pandas as pd\n",
    "import re"
   ]
  },
  {
   "cell_type": "code",
   "execution_count": 2,
   "metadata": {},
   "outputs": [
    {
     "data": {
      "text/plain": [
       "'2019-05-18 13:03:18'"
      ]
     },
     "execution_count": 2,
     "metadata": {},
     "output_type": "execute_result"
    }
   ],
   "source": [
    "# time\n",
    "t1 = time.time()\n",
    "time.strftime('%Y-%m-%d %H:%M:%S',time.localtime(t1))\n"
   ]
  },
  {
   "cell_type": "code",
   "execution_count": 3,
   "metadata": {},
   "outputs": [],
   "source": [
    "bidInfo = {}"
   ]
  },
  {
   "cell_type": "code",
   "execution_count": 4,
   "metadata": {},
   "outputs": [
    {
     "data": {
      "text/plain": [
       "83"
      ]
     },
     "execution_count": 4,
     "metadata": {},
     "output_type": "execute_result"
    }
   ],
   "source": [
    "csvFile = open(\"namelist.csv\",\"w+\")\n",
    "writer = csv.writer(csvFile)\n",
    "\n",
    "bidInfo = {}\n",
    "\n",
    "header = (\"name\",\"date\",\"title\",\"consultPrice\",\"currentPrice\",\"bidCount\",\"delayCount\",\"applyCount\",\"area\",\"url\")\n",
    "\n",
    "writer.writerow(header)\n",
    "\n",
    "#writer.writerow(('name','url'))\n",
    "\n"
   ]
  },
  {
   "cell_type": "code",
   "execution_count": 5,
   "metadata": {},
   "outputs": [],
   "source": [
    "sourceUrl = \"https://sf.taobao.com/item_list.htm?category=50025969&auction_source=0&province=%CC%EC%BD%F2&sorder=2\" \\\n",
    "                 \"&st_param=-1&auction_start_from=2018-01-01&auction_start_to=2019-05-13&spm=a213w.3064813.9001.2\"  \n",
    "\n"
   ]
  },
  {
   "cell_type": "code",
   "execution_count": 6,
   "metadata": {},
   "outputs": [],
   "source": [
    "# Start the driver\n",
    "driver = webdriver.Chrome()\n",
    "# Setup wait for later\n",
    "wait = WebDriverWait(driver, 10)\n",
    "\n",
    "driver.get(sourceUrl)\n",
    "\n",
    "# Store the ID of the original window\n",
    "original_window = driver.current_window_handle\n",
    "\n",
    "# Check we don't have other windows open already\n",
    "assert len(driver.window_handles) == 1"
   ]
  },
  {
   "cell_type": "code",
   "execution_count": 7,
   "metadata": {},
   "outputs": [],
   "source": [
    "wait.until(EC.presence_of_element_located((By.CLASS_NAME, \"page-total\")))\n",
    "pages = driver.find_element_by_class_name(\"page-total\").text"
   ]
  },
  {
   "cell_type": "code",
   "execution_count": 8,
   "metadata": {},
   "outputs": [],
   "source": [
    "#test page \n",
    "pages = 1"
   ]
  },
  {
   "cell_type": "code",
   "execution_count": 9,
   "metadata": {},
   "outputs": [
    {
     "ename": "SyntaxError",
     "evalue": "unexpected EOF while parsing (<ipython-input-9-a00deca3fe00>, line 97)",
     "output_type": "error",
     "traceback": [
      "\u001b[0;36m  File \u001b[0;32m\"<ipython-input-9-a00deca3fe00>\"\u001b[0;36m, line \u001b[0;32m97\u001b[0m\n\u001b[0;31m    \u001b[0m\n\u001b[0m    ^\u001b[0m\n\u001b[0;31mSyntaxError\u001b[0m\u001b[0;31m:\u001b[0m unexpected EOF while parsing\n"
     ]
    }
   ],
   "source": [
    "for page in range(1,int(pages)+1):\n",
    "    if(page > 1):\n",
    "        driver.find_element_by_link_text(str(page)).click()\n",
    "        time.sleep(1)\n",
    "    \n",
    "    wait.until(EC.presence_of_element_located((By.CLASS_NAME, \"sf-pai-item-list\")))\n",
    "    data = driver.find_element_by_id(\"sf-item-list-data\").get_attribute('innerHTML')\n",
    "    jsonData =  json.loads(data)\n",
    "    items = jsonData[\"data\"]\n",
    "    \n",
    "    itemLen = len(items)\n",
    "    for item in range(itemLen):    \n",
    "    #for item in range(4):        \n",
    "        bidInfo[\"status\"] = items[item][\"status\"]\n",
    "\n",
    "        \n",
    "        if(bidInfo[\"status\"] == \"done\"):\n",
    "            \n",
    "            bidInfo[\"id\"] = items[item][\"id\"]\n",
    "            bidInfo[\"title\"] = items[item][\"title\"]\n",
    "            bidInfo[\"consultPrice\"] = items[item][\"consultPrice\"]\n",
    "            bidInfo[\"currentPrice\"] = items[item][\"currentPrice\"]\n",
    "            bidInfo[\"bidCount\"] = items[item][\"bidCount\"]\n",
    "            bidInfo[\"delayCount\"] = items[item][\"delayCount\"]\n",
    "            bidInfo[\"applyCount\"] = items[item][\"applyCount\"]\n",
    "\n",
    "            url = \"#pai-item-\"+str(bidInfo[\"id\"])\n",
    "            # Click the link which opens in a new window\n",
    "            driver.find_element_by_css_selector(url).click()\n",
    "            time.sleep(1) # have to wait sometime\n",
    "\n",
    "            # Wait for the new window or tab\n",
    "            wait.until(EC.number_of_windows_to_be(2))\n",
    "            handles = driver.window_handles\n",
    "            driver.switch_to.window(handles[1])\n",
    "            # size\n",
    "            \n",
    "            urlNew = driver.current_url\n",
    "            url2 = str(urlNew)+\"#J_Confirmation\"\n",
    "            driver.get(url2)\n",
    "            \n",
    "            \n",
    "            wait.until(EC.presence_of_element_located((By.CLASS_NAME, \"content-wrap\")))\n",
    "            info = driver.find_element_by_class_name(\"c-content\").text\n",
    "            index = info.find(\"通过\")\n",
    "            \n",
    "            # getName\n",
    "            bidInfo[\"name\"] = info[4:index]\n",
    "            # getDate\n",
    "            bidInfo[\"date\"] = driver.find_element_by_class_name(\"c-stamp\").text\n",
    "            \n",
    "\n",
    "            #print\n",
    "            print(\"Name: \"+bidInfo[\"name\"]+\": Page :\"+str(page)+\"   Item :\"+str(item))\n",
    "\n",
    "\n",
    "\n",
    "           # get area\n",
    "            driver.get(str(urlNew)+\"#NoticeDetail\")\n",
    "            time.sleep(1)\n",
    "            notice = driver.find_element_by_id(\"J_NoticeDetail\").get_attribute('textContent')            \n",
    "            left = notice.find(\"面积\")\n",
    "            right = notice.find(\"方米\")\n",
    "            size = notice[(left+2) : right]\n",
    "            \n",
    "            if(len(size) < 20):\n",
    "                areas = re.findall(r\"\\d+\\.?\\d*\",size)\n",
    "                if(len(areas) ==1):\n",
    "                    area = areas[0]\n",
    "                else:\n",
    "                    area = 0\n",
    "            else:\n",
    "                area = 0\n",
    "            \n",
    "            bidInfo[\"area\"] = area\n",
    "            bidInfo[\"url\"] = urlNew\n",
    "\n",
    "\n",
    "#             driver.get(str(urlNew)+\"#RemindTip\")\n",
    "#             time.sleep(1)\n",
    "#             notice = driver.find_element_by_id(\"J_desc\").get_attribute('textContent')\n",
    "#             print(notice)\n",
    "\n",
    "#           (\"name\",\"date\",\"title\",\"consultPrice\",\"currentPrice\",\"bidCount\",\"delayCount\",\"applyCount\",\"area\",\"url\")\n",
    "\n",
    "            writer.writerow((bidInfo[\"name\"],bidInfo[\"date\"],bidInfo[\"title\"],\n",
    "                                   bidInfo[\"consultPrice\"],bidInfo[\"currentPrice\"],\n",
    "                                   bidInfo[\"bidCount\"],bidInfo[\"delayCount\"],bidInfo[\"applyCount\"],\n",
    "                                   bidInfo[\"area\"],bidInfo[\"url\"]\n",
    "                                 ))\n",
    "                                 \n",
    "\n",
    "            driver.close()\n",
    "            driver.switch_to.window(handles[0])\n",
    "        else:\n",
    "            pass\n",
    "           # print(\"***item failed******\"+\": Page :\"+str(page)+\"   Item :\"+str(item))\n",
    "\n"
   ]
  },
  {
   "cell_type": "code",
   "execution_count": null,
   "metadata": {},
   "outputs": [],
   "source": [
    "driver.quit()"
   ]
  },
  {
   "cell_type": "code",
   "execution_count": null,
   "metadata": {},
   "outputs": [],
   "source": [
    "csvFile.close()\n",
    "csv = pd.read_csv('namelist.csv', encoding='utf-8')\n",
    "csv.to_excel('namelist.xlsx', sheet_name='data')"
   ]
  },
  {
   "cell_type": "code",
   "execution_count": null,
   "metadata": {},
   "outputs": [],
   "source": [
    "t2 = time.time()\n",
    "time.strftime('%Y-%m-%d %H:%M:%S',time.localtime(t2))\n",
    "\n",
    "seconds = t2 - t1\n",
    "m, s = divmod(seconds, 60)\n",
    "h, m = divmod(m, 60)\n",
    "print (\"%02d:%02d:%02d\" % (h, m, s))\n"
   ]
  },
  {
   "cell_type": "code",
   "execution_count": null,
   "metadata": {},
   "outputs": [],
   "source": [
    "#            print(\"URL: \"+driver.current_url)\n",
    "#             print(\"id:\"+str(bidInfo[\"id\"])+\" title: \"+bidInfo[\"title\"])\n",
    "#             print(\"consultPrice:\"+str(bidInfo[\"consultPrice\"]) + \" currentPrice:\" +str(bidInfo[\"currentPrice\"]))\n",
    "#             print(\"bidCount:\"+str(bidInfo[\"bidCount\"]) +\" delayCount:\"+str(bidInfo[\"delayCount\"])+\" applyCount:\"+str(bidInfo[\"applyCount\"]))\n",
    "#             print(\"date:\"+bidInfo[\"date\"])"
   ]
  },
  {
   "cell_type": "code",
   "execution_count": null,
   "metadata": {},
   "outputs": [],
   "source": [
    "\n"
   ]
  },
  {
   "cell_type": "code",
   "execution_count": null,
   "metadata": {},
   "outputs": [],
   "source": []
  }
 ],
 "metadata": {
  "kernelspec": {
   "display_name": "Python 3",
   "language": "python",
   "name": "python3"
  },
  "language_info": {
   "codemirror_mode": {
    "name": "ipython",
    "version": 3
   },
   "file_extension": ".py",
   "mimetype": "text/x-python",
   "name": "python",
   "nbconvert_exporter": "python",
   "pygments_lexer": "ipython3",
   "version": "3.7.1"
  }
 },
 "nbformat": 4,
 "nbformat_minor": 2
}
