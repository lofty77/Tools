{
 "cells": [
  {
   "cell_type": "code",
   "execution_count": 1,
   "metadata": {},
   "outputs": [],
   "source": [
    "from selenium import webdriver\n",
    "import json\n",
    "import time"
   ]
  },
  {
   "cell_type": "code",
   "execution_count": 2,
   "metadata": {},
   "outputs": [],
   "source": [
    "driver = webdriver.Chrome()\n"
   ]
  },
  {
   "cell_type": "code",
   "execution_count": 3,
   "metadata": {},
   "outputs": [],
   "source": [
    "#url = \"https://sf-item.taobao.com/sf_item/592140469999.htm?spm=a213w.7398504.paiList.1.a1da26cdBOcTJJ\"\n",
    "\n",
    "#url = \"https://sf-item.taobao.com/sf_item/591732235950.htm?spm=a213w.7398504.paiList.6.7ede26cdIZuymq\"\n",
    "\n",
    "sourceUrl = \"https://sf.taobao.com/item_list.htm?spm=a213w.7398504.filter.61.22f526cdj7uTkT&category=50025969\" \\\n",
    "    \"&auction_source=0&province=%CC%EC%BD%F2&sorder=2&st_param=-1&auction_start_seg=-1\""
   ]
  },
  {
   "cell_type": "code",
   "execution_count": 4,
   "metadata": {},
   "outputs": [],
   "source": [
    "driver.get(sourceUrl)"
   ]
  },
  {
   "cell_type": "code",
   "execution_count": null,
   "metadata": {},
   "outputs": [],
   "source": [
    "urlList = []"
   ]
  },
  {
   "cell_type": "code",
   "execution_count": null,
   "metadata": {},
   "outputs": [
    {
     "name": "stdout",
     "output_type": "stream",
     "text": [
      "流拍 or 失败\n",
      "0:本场拍卖已流拍 ！天津市河西区郁江道与九华山路交口玉水园1-2-501号房地产 - 司法拍卖 - 阿里拍卖\n",
      "urlhttps://sf-item.taobao.com/sf_item/590875029532.htm?spm=a213w.7398504.paiList.1.220126cd707y8I\n",
      "流拍 or 失败\n",
      "1:本场拍卖已流拍 ！天津市河西区太湖路与澧水道交口东南侧尚城32-1110号房地产 - 司法拍卖 - 阿里拍卖\n",
      "urlhttps://sf-item.taobao.com/sf_item/590656776073.htm?spm=a213w.7398504.paiList.2.220126cd707y8I\n",
      "流拍 or 失败\n",
      "2:本场变卖失败天津市东丽区顶秀欣园10-1-303号房地产一套 - 司法拍卖 - 阿里拍卖\n",
      "urlhttps://sf-item.taobao.com/sf_item/587452483779.htm?spm=a213w.7398504.paiList.3.220126cd707y8I\n",
      "结束:朱艳秋\n",
      "3:本场拍卖已结束 ！天津市滨海新区中新天津生态城和旭路1060号季景园9-101室 - 司法拍卖 - 阿里拍卖\n",
      "urlhttps://sf-item.taobao.com/sf_item/590871909472.htm?spm=a213w.7398504.paiList.4.220126cd707y8I#J_Confirmation\n",
      "流拍 or 失败\n",
      "4:本场拍卖已流拍 ！天津市北辰区引河南里1-4-302号房地产 - 司法拍卖 - 阿里拍卖\n",
      "urlhttps://sf-item.taobao.com/sf_item/592296215593.htm?spm=a213w.7398504.paiList.5.220126cd707y8I\n",
      "结束:郑学明\n",
      "5:本场拍卖已结束 ！天津市蓟县碧玉家园北侧，福地花园南侧山水颐城北园4-1-201房地产 - 司法拍卖 - 阿里拍卖\n",
      "urlhttps://sf-item.taobao.com/sf_item/592218695978.htm?spm=a213w.7398504.paiList.6.220126cd707y8I#J_Confirmation\n",
      "流拍 or 失败\n",
      "6:本场拍卖已流拍 ！天津市蓟县碧玉家园北侧，福地花园南侧山水颐城北园20-5-801房地产 - 司法拍卖 - 阿里拍卖\n",
      "urlhttps://sf-item.taobao.com/sf_item/592218487814.htm?spm=a213w.7398504.paiList.7.220126cd707y8I\n"
     ]
    }
   ],
   "source": [
    "for i in range(2,3):\n",
    "    if (i > 1):\n",
    "        driver.find_element_by_link_text(str(i)).click()\n",
    "    else:\n",
    "        pass\n",
    "    \n",
    "   # time.sleep(1)\n",
    "    data = driver.find_element_by_id(\"sf-item-list-data\").get_attribute('innerHTML')\n",
    "    jsonData =  json.loads(data)\n",
    "    jd = jsonData[\"data\"]\n",
    "    for i in range(len(jd)):\n",
    "    #for i in range(5):\n",
    "        num = jd[i][\"id\"]\n",
    "        url = \"#pai-item-\"+str(num)+\" .pic\"\n",
    "        urlList.append(url)\n",
    "        driver.find_element_by_css_selector(url).click()\n",
    "        time.sleep(1)\n",
    "        handles = driver.window_handles\n",
    "        #print(handles)\n",
    "        driver.switch_to.window(handles[1])\n",
    "        data = driver.find_element_by_class_name(\"bid-fail\").text\n",
    "        bidStatus = data[5:7]\n",
    "        if(bidStatus !=\"结束\"):\n",
    "            print(\"流拍 or 失败\")\n",
    "            print(str(i) +\":\"+ data+driver.title)\n",
    "            print(\"url\"+driver.current_url)\n",
    "        else:\n",
    "            url2 = driver.current_url+\"#J_Confirmation\"\n",
    "            driver.get(url2)\n",
    "            time.sleep(1)\n",
    "            info = driver.find_element_by_class_name(\"c-content\").text\n",
    "            index = info.find(\"通过\")\n",
    "            name = info[4:index]\n",
    "            print(\"结束\"+\":\"+name)\n",
    "            print(str(i) +\":\"+ data+driver.title)\n",
    "            print(\"url\"+driver.current_url)\n",
    "\n",
    "        driver.close()\n",
    "        driver.switch_to.window(handles[0])\n"
   ]
  },
  {
   "cell_type": "code",
   "execution_count": null,
   "metadata": {},
   "outputs": [],
   "source": [
    "type(data)"
   ]
  },
  {
   "cell_type": "code",
   "execution_count": null,
   "metadata": {},
   "outputs": [],
   "source": [
    "#for i in range(len(urlList))\n",
    "\n",
    "\n",
    "#     driver.switchTo().window(\"vars.get(\"root\").toString()\");\n",
    "#     driver.findElement(By.cssSelector(\"#pai-item-591508706185 .pic\")).click();\n",
    "#     driver.switchTo().window(\"vars.get(\"win8140\").toString()\");\n",
    "#     driver.close();"
   ]
  },
  {
   "cell_type": "code",
   "execution_count": null,
   "metadata": {},
   "outputs": [],
   "source": [
    "#urlList"
   ]
  },
  {
   "cell_type": "code",
   "execution_count": null,
   "metadata": {},
   "outputs": [],
   "source": []
  },
  {
   "cell_type": "code",
   "execution_count": null,
   "metadata": {},
   "outputs": [],
   "source": [
    "#590871909472\n",
    "#pai-item-591508706185 .pic"
   ]
  },
  {
   "cell_type": "code",
   "execution_count": null,
   "metadata": {},
   "outputs": [],
   "source": []
  },
  {
   "cell_type": "code",
   "execution_count": null,
   "metadata": {},
   "outputs": [],
   "source": []
  },
  {
   "cell_type": "code",
   "execution_count": null,
   "metadata": {},
   "outputs": [],
   "source": []
  },
  {
   "cell_type": "code",
   "execution_count": null,
   "metadata": {},
   "outputs": [],
   "source": [
    "#data = driver.find_element_by_class_name(\"bid-fail\").text\n",
    "#print(data)"
   ]
  },
  {
   "cell_type": "code",
   "execution_count": null,
   "metadata": {},
   "outputs": [],
   "source": [
    "#d = driver.find_element_by_id(\"sf-item-list-data\").get_attribute('innerHTML')\n"
   ]
  },
  {
   "cell_type": "code",
   "execution_count": null,
   "metadata": {},
   "outputs": [],
   "source": [
    "#jd = json.loads(d)\n"
   ]
  },
  {
   "cell_type": "code",
   "execution_count": null,
   "metadata": {},
   "outputs": [],
   "source": [
    "# for i in range(len(jd[\"data\"])):\n",
    "#     print(jd[\"data\"][i][\"id\"])"
   ]
  },
  {
   "cell_type": "code",
   "execution_count": null,
   "metadata": {},
   "outputs": [],
   "source": [
    "#driver.find_element_by_css_selector(url).click()"
   ]
  }
 ],
 "metadata": {
  "kernelspec": {
   "display_name": "Python 3",
   "language": "python",
   "name": "python3"
  },
  "language_info": {
   "codemirror_mode": {
    "name": "ipython",
    "version": 3
   },
   "file_extension": ".py",
   "mimetype": "text/x-python",
   "name": "python",
   "nbconvert_exporter": "python",
   "pygments_lexer": "ipython3",
   "version": "3.7.1"
  }
 },
 "nbformat": 4,
 "nbformat_minor": 2
}
