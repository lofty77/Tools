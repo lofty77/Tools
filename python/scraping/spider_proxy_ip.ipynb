{
 "cells": [
  {
   "cell_type": "code",
   "execution_count": 1,
   "metadata": {},
   "outputs": [],
   "source": [
    "from bs4 import BeautifulSoup\n",
    "import requests\n",
    "import random\n"
   ]
  },
  {
   "cell_type": "code",
   "execution_count": 2,
   "metadata": {},
   "outputs": [],
   "source": [
    "BEIKE_SPIDER = \"ke\"\n",
    "\n",
    "SPIDER_NAME = BEIKE_SPIDER\n",
    "\n",
    "\n",
    "proxys_src = []\n",
    "\n",
    "proxys = []\n"
   ]
  },
  {
   "cell_type": "code",
   "execution_count": 3,
   "metadata": {},
   "outputs": [],
   "source": [
    "USER_AGENTS = [\n",
    "    \"Mozilla/4.0 (compatible; MSIE 6.0; Windows NT 5.1; SV1; AcooBrowser; .NET CLR 1.1.4322; .NET CLR 2.0.50727)\",\n",
    "    \"Mozilla/4.0 (compatible; MSIE 7.0; Windows NT 6.0; Acoo Browser; SLCC1; .NET CLR 2.0.50727; Media Center PC 5.0; .NET CLR 3.0.04506)\",\n",
    "    \"Mozilla/4.0 (compatible; MSIE 7.0; AOL 9.5; AOLBuild 4337.35; Windows NT 5.1; .NET CLR 1.1.4322; .NET CLR 2.0.50727)\",\n",
    "    \"Mozilla/5.0 (Windows; U; MSIE 9.0; Windows NT 9.0; en-US)\",\n",
    "    \"Mozilla/5.0 (compatible; MSIE 9.0; Windows NT 6.1; Win64; x64; Trident/5.0; .NET CLR 3.5.30729; .NET CLR 3.0.30729; .NET CLR 2.0.50727; Media Center PC 6.0)\",\n",
    "    \"Mozilla/5.0 (compatible; MSIE 8.0; Windows NT 6.0; Trident/4.0; WOW64; Trident/4.0; SLCC2; .NET CLR 2.0.50727; .NET CLR 3.5.30729; .NET CLR 3.0.30729; .NET CLR 1.0.3705; .NET CLR 1.1.4322)\",\n",
    "    \"Mozilla/4.0 (compatible; MSIE 7.0b; Windows NT 5.2; .NET CLR 1.1.4322; .NET CLR 2.0.50727; InfoPath.2; .NET CLR 3.0.04506.30)\",\n",
    "    \"Mozilla/5.0 (Windows; U; Windows NT 5.1; zh-CN) AppleWebKit/523.15 (KHTML, like Gecko, Safari/419.3) Arora/0.3 (Change: 287 c9dfb30)\",\n",
    "    \"Mozilla/5.0 (X11; U; Linux; en-US) AppleWebKit/527+ (KHTML, like Gecko, Safari/419.3) Arora/0.6\",\n",
    "    \"Mozilla/5.0 (Windows; U; Windows NT 5.1; en-US; rv:1.8.1.2pre) Gecko/20070215 K-Ninja/2.1.1\",\n",
    "    \"Mozilla/5.0 (Windows; U; Windows NT 5.1; zh-CN; rv:1.9) Gecko/20080705 Firefox/3.0 Kapiko/3.0\",\n",
    "    \"Mozilla/5.0 (X11; Linux i686; U;) Gecko/20070322 Kazehakase/0.4.5\",\n",
    "    \"Mozilla/5.0 (X11; U; Linux i686; en-US; rv:1.9.0.8) Gecko Fedora/1.9.0.8-1.fc10 Kazehakase/0.5.6\",\n",
    "    \"Mozilla/5.0 (Windows NT 6.1; WOW64) AppleWebKit/535.11 (KHTML, like Gecko) Chrome/17.0.963.56 Safari/535.11\",\n",
    "    \"Mozilla/5.0 (Macintosh; Intel Mac OS X 10_7_3) AppleWebKit/535.20 (KHTML, like Gecko) Chrome/19.0.1036.7 Safari/535.20\",\n",
    "    \"Opera/9.80 (Macintosh; Intel Mac OS X 10.6.8; U; fr) Presto/2.9.168 Version/11.52\",\n",
    "]\n",
    "\n",
    "\n",
    "def create_headers():\n",
    "    headers = dict()\n",
    "    headers[\"User-Agent\"] = random.choice(USER_AGENTS)\n",
    "    headers[\"Referer\"] = \"http://www.{0}.com\".format(SPIDER_NAME)\n",
    "    return headers"
   ]
  },
  {
   "cell_type": "code",
   "execution_count": 4,
   "metadata": {},
   "outputs": [],
   "source": [
    "\n",
    "def spider_proxyip(num=10):\n",
    "    try:\n",
    "        url = 'http://www.xicidaili.com/nt/1'\n",
    "        req = requests.get(url, headers=create_headers())\n",
    "        source_code = req.content\n",
    "        #print(source_code)\n",
    "        soup = BeautifulSoup(source_code, 'lxml')\n",
    "        ips = soup.findAll('tr')\n",
    "\n",
    "        for x in range(1, len(ips)):\n",
    "            ip = ips[x]\n",
    "            tds = ip.findAll(\"td\")\n",
    "            proxy_host = \"{0}://\".format(tds[5].contents[0]) + tds[1].contents[0] + \":\" + tds[2].contents[0]\n",
    "            proxy_temp = {tds[5].contents[0]: proxy_host}\n",
    "            proxys_src.append(proxy_temp)\n",
    "            if x >= num:\n",
    "                break\n",
    "    except Exception as e:\n",
    "        print(\"spider_proxyip exception:\")\n",
    "        print(e)\n"
   ]
  },
  {
   "cell_type": "code",
   "execution_count": null,
   "metadata": {},
   "outputs": [],
   "source": []
  },
  {
   "cell_type": "code",
   "execution_count": null,
   "metadata": {},
   "outputs": [],
   "source": []
  },
  {
   "cell_type": "code",
   "execution_count": 5,
   "metadata": {},
   "outputs": [
    {
     "name": "stdout",
     "output_type": "stream",
     "text": [
      "{'User-Agent': 'Mozilla/5.0 (Windows; U; Windows NT 5.1; zh-CN; rv:1.9) Gecko/20080705 Firefox/3.0 Kapiko/3.0', 'Referer': 'http://www.ke.com'}\n",
      "[{'HTTP': 'HTTP://183.60.124.37:8080'}, {'HTTP': 'HTTP://58.251.233.234:9797'}, {'HTTP': 'HTTP://121.69.37.6:9797'}, {'HTTPS': 'HTTPS://14.20.235.201:9797'}, {'HTTP': 'HTTP://221.216.138.27:9000'}, {'HTTP': 'HTTP://125.46.0.62:53281'}, {'HTTP': 'HTTP://58.251.232.45:9797'}, {'HTTP': 'HTTP://14.115.107.14:808'}, {'HTTPS': 'HTTPS://218.241.219.226:9999'}, {'HTTPS': 'HTTPS://59.78.6.98:1080'}]\n"
     ]
    }
   ],
   "source": [
    "if __name__ == '__main__':\n",
    "    print(create_headers())\n",
    "    spider_proxyip(10)\n",
    "    print(proxys_src)\n"
   ]
  }
 ],
 "metadata": {
  "kernelspec": {
   "display_name": "Python 3",
   "language": "python",
   "name": "python3"
  },
  "language_info": {
   "codemirror_mode": {
    "name": "ipython",
    "version": 3
   },
   "file_extension": ".py",
   "mimetype": "text/x-python",
   "name": "python",
   "nbconvert_exporter": "python",
   "pygments_lexer": "ipython3",
   "version": "3.7.1"
  }
 },
 "nbformat": 4,
 "nbformat_minor": 2
}
