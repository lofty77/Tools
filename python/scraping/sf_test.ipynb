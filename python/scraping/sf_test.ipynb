{
 "cells": [
  {
   "cell_type": "code",
   "execution_count": null,
   "metadata": {},
   "outputs": [],
   "source": [
    "from selenium import webdriver\n",
    "from selenium.webdriver.common.by import By\n",
    "from selenium.webdriver.support.ui import WebDriverWait\n",
    "from selenium.webdriver.support import expected_conditions as EC\n",
    "import json\n",
    "import time\n",
    "import csv\n",
    "import pandas as pd"
   ]
  },
  {
   "cell_type": "code",
   "execution_count": null,
   "metadata": {},
   "outputs": [],
   "source": [
    "csvFile = open(\"namelist.csv\",\"w+\")\n",
    "writer = csv.writer(csvFile)\n",
    "writer.writerow(('name','url'))\n",
    "urlList = []\n",
    "\n",
    "\n",
    "\n"
   ]
  },
  {
   "cell_type": "code",
   "execution_count": null,
   "metadata": {},
   "outputs": [],
   "source": [
    "sourceUrl = \"https://sf.taobao.com/item_list.htm?category=50025969&auction_source=0&province=%CC%EC%BD%F2&sorder=2\" \\\n",
    "                 \"&st_param=-1&auction_start_from=2018-01-01&auction_start_to=2019-05-13&spm=a213w.3064813.9001.2\"  \n",
    "\n"
   ]
  },
  {
   "cell_type": "code",
   "execution_count": null,
   "metadata": {},
   "outputs": [],
   "source": [
    "# Start the driver\n",
    "driver = webdriver.Chrome()\n",
    "# Setup wait for later\n",
    "wait = WebDriverWait(driver, 10)\n",
    "\n",
    "driver.get(sourceUrl)\n",
    "\n",
    "# Store the ID of the original window\n",
    "original_window = driver.current_window_handle\n",
    "\n",
    "# Check we don't have other windows open already\n",
    "assert len(driver.window_handles) == 1"
   ]
  },
  {
   "cell_type": "code",
   "execution_count": null,
   "metadata": {},
   "outputs": [],
   "source": [
    "WebDriverWait(driver, 10).until(EC.presence_of_element_located((By.CLASS_NAME, \"page-total\")))\n",
    "\n"
   ]
  },
  {
   "cell_type": "code",
   "execution_count": null,
   "metadata": {},
   "outputs": [],
   "source": [
    "pages = driver.find_element_by_class_name(\"page-total\").text\n",
    "\n",
    "\n"
   ]
  },
  {
   "cell_type": "code",
   "execution_count": null,
   "metadata": {},
   "outputs": [],
   "source": [
    "#pages = 1"
   ]
  },
  {
   "cell_type": "code",
   "execution_count": null,
   "metadata": {},
   "outputs": [],
   "source": [
    "for page in range(1,int(pages)+1):\n",
    "    if (page > 1):\n",
    "        driver.find_element_by_link_text(str(page)).click()\n",
    "        time.sleep(1)\n",
    "        #WebDriverWait(driver, 10).until(EC.presence_of_element_located((By.CLASS_NAME, \"current\")))\n",
    "    \n",
    "    WebDriverWait(driver, 10).until(EC.presence_of_element_located((By.ID, \"sf-item-list-data\")))\n",
    "    data = driver.find_element_by_id(\"sf-item-list-data\").get_attribute('innerHTML')\n",
    "    jsonData =  json.loads(data)\n",
    "    jd = jsonData[\"data\"]\n",
    "    \n",
    "    itemLen = len(jd)\n",
    "    for item in range(itemLen):    \n",
    "    #for i in range(6):        \n",
    "        itemStatus = jd[item][\"status\"]\n",
    "        \n",
    "        if(itemStatus == \"done\"):\n",
    "                   \n",
    "            num = jd[item][\"id\"]\n",
    "            url = \"#pai-item-\"+str(num)\n",
    "            urlList.append(url)\n",
    "            # Click the link which opens in a new window\n",
    "            driver.find_element_by_css_selector(url).click()\n",
    "           \n",
    "            # Wait for the new window or tab\n",
    "            wait.until(EC.number_of_windows_to_be(2))\n",
    "\n",
    "            handles = driver.window_handles\n",
    "            time.sleep(1) # have to wait sometime\n",
    "            driver.switch_to.window(handles[1])\n",
    "            #\n",
    "            url2 = str(driver.current_url)+\"#J_Confirmation\"\n",
    "            driver.get(url2)\n",
    "            WebDriverWait(driver, 10).until(EC.presence_of_element_located((By.CLASS_NAME, \"c-content\")))\n",
    "            info = driver.find_element_by_class_name(\"c-content\").text\n",
    "            index = info.find(\"通过\")\n",
    "            # getName\n",
    "            name = info[4:index]\n",
    "            print(\"Name:\"+name+\": Page :\"+str(page)+\"   Item :\"+str(item))\n",
    "            print(\"url:\"+driver.current_url)\n",
    "            # add to file\n",
    "            writer.writerow((name,driver.current_url))\n",
    "            driver.close()\n",
    "            driver.switch_to.window(handles[0])\n",
    "        else:\n",
    "            print(\"***item failed******\"+\": Page :\"+str(page)+\"   Item :\"+str(item))\n",
    "\n"
   ]
  },
  {
   "cell_type": "code",
   "execution_count": null,
   "metadata": {},
   "outputs": [],
   "source": [
    "driver.quit()"
   ]
  },
  {
   "cell_type": "code",
   "execution_count": null,
   "metadata": {},
   "outputs": [],
   "source": [
    "csvFile.close()\n",
    "csv = pd.read_csv('namelist.csv', encoding='utf-8')\n",
    "csv.to_excel('namelist.xlsx', sheet_name='data')"
   ]
  },
  {
   "cell_type": "code",
   "execution_count": null,
   "metadata": {},
   "outputs": [],
   "source": []
  },
  {
   "cell_type": "code",
   "execution_count": null,
   "metadata": {},
   "outputs": [],
   "source": []
  }
 ],
 "metadata": {
  "kernelspec": {
   "display_name": "Python 3",
   "language": "python",
   "name": "python3"
  },
  "language_info": {
   "codemirror_mode": {
    "name": "ipython",
    "version": 3
   },
   "file_extension": ".py",
   "mimetype": "text/x-python",
   "name": "python",
   "nbconvert_exporter": "python",
   "pygments_lexer": "ipython3",
   "version": "3.7.1"
  }
 },
 "nbformat": 4,
 "nbformat_minor": 2
}
