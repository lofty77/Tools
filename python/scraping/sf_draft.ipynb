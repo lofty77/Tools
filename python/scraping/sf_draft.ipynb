{
 "cells": [
  {
   "cell_type": "code",
   "execution_count": null,
   "metadata": {},
   "outputs": [],
   "source": [
    "from selenium import webdriver\n",
    "from selenium.webdriver.common.by import By\n",
    "from selenium.webdriver.support.ui import WebDriverWait\n",
    "from selenium.webdriver.support import expected_conditions as EC\n",
    "import json\n",
    "import time\n",
    "import csv\n",
    "import pandas as pd\n",
    "import re\n",
    "#test\n",
    "#testURL = \"https://sf-item.taobao.com/sf_item/564864058728.htm?spm=a213w.7398504.paiList.12.328e26cdDu0PJF\"\n",
    "#testURL = \"https://sf-item.taobao.com/sf_item/571120945902.htm?spm=a213w.7398504.paiList.12.4bd326cdTYOUzJ\"\n",
    "\n",
    "\n",
    "\n",
    "testURL =\"https://sf-item.taobao.com/sf_item/590204222735.htm?spm=a213w.7398504.paiList.30.571726cdw9Wk85\"\n",
    "# Start the driver\n",
    "driver = webdriver.Chrome()\n",
    "# Setup wait for later\n",
    "wait = WebDriverWait(driver, 10)\n",
    "\n",
    "driver.get(str(testURL)+\"#NoticeDetail\")\n",
    "\n",
    "time.sleep(2)\n",
    "notice = driver.find_element_by_id(\"J_NoticeDetail\").get_attribute('textContent') \n",
    "left = notice.find(\"建筑\")\n",
    "right = notice.find(\"方米\",left)\n",
    "\n",
    "if(left != -1):\n",
    "    size = notice[(left+2) : (left+22)]   \n",
    "    areas = re.findall(r\"\\d+\\.\\d*\",size)\n",
    "    print(\"left:\"+str(left))\n",
    "    print(\"right:\"+str(right))\n",
    "    print(notice)\n",
    "    print(areas)\n",
    "else:\n",
    "    print(\"can not find areas\")"
   ]
  },
  {
   "cell_type": "code",
   "execution_count": null,
   "metadata": {},
   "outputs": [],
   "source": []
  },
  {
   "cell_type": "code",
   "execution_count": null,
   "metadata": {},
   "outputs": [],
   "source": []
  },
  {
   "cell_type": "code",
   "execution_count": 8,
   "metadata": {},
   "outputs": [],
   "source": [
    "import time\n",
    "import re\n",
    "\n",
    "\n",
    "def getCurrentTimeStamp():\n",
    "    t = time.time()\n",
    "    print(time.strftime('%Y-%m-%d %H:%M:%S',time.localtime(t)))\n",
    "    return t\n",
    "\n",
    "\n",
    "def printDuration(start, end):\n",
    "    seconds = t2 - t1\n",
    "    m, s = divmod(seconds, 60)\n",
    "    h, m = divmod(m, 60)\n",
    "    print (\"%02d:%02d:%02d\" % (h, m, s))\n",
    "    "
   ]
  },
  {
   "cell_type": "code",
   "execution_count": 9,
   "metadata": {},
   "outputs": [
    {
     "name": "stdout",
     "output_type": "stream",
     "text": [
      "2019-05-20 09:00:05\n"
     ]
    }
   ],
   "source": [
    "t1 =  getCurrentTimeStamp()"
   ]
  },
  {
   "cell_type": "code",
   "execution_count": 10,
   "metadata": {},
   "outputs": [
    {
     "name": "stdout",
     "output_type": "stream",
     "text": [
      "2019-05-20 09:00:05\n"
     ]
    }
   ],
   "source": [
    "t2 = getCurrentTimeStamp()"
   ]
  },
  {
   "cell_type": "code",
   "execution_count": 11,
   "metadata": {},
   "outputs": [
    {
     "name": "stdout",
     "output_type": "stream",
     "text": [
      "00:00:00\n"
     ]
    }
   ],
   "source": [
    "printDuration(t1, t2)"
   ]
  },
  {
   "cell_type": "code",
   "execution_count": 12,
   "metadata": {},
   "outputs": [],
   "source": [
    "from enum import Enum\n",
    "class DataEnum:\n",
    "    ID     = 1\n",
    "    NAME   = 2\n",
    "    TITLE  = 3\n"
   ]
  },
  {
   "cell_type": "code",
   "execution_count": 15,
   "metadata": {},
   "outputs": [],
   "source": [
    "import re\n",
    "\n",
    "class DataManagement:\n",
    "    def __init__(self):\n",
    "        self.data = {}\n",
    "    \n",
    "    def setData(self,attribute, data):\n",
    "        if(attribute == \"name\"):\n",
    "            index = data.find(\"通过\")\n",
    "            data = data[4:index]\n",
    "            self.data[attribute] =  data\n",
    "        elif(attribute == \"area\" or attribute == \"areaB\"):\n",
    "            left = data.find(\"建筑\")\n",
    "            if(left != -1):\n",
    "                size = data[(left+2) : (left+22)]\n",
    "                areas = re.findall(r\"\\d+\\.\\d*\",size)\n",
    "                #if find the areas\n",
    "                if(len(areas) > 0): \n",
    "                    self.data[attribute]  = areas[0]\n",
    "                else:\n",
    "                    self.data[attribute]  = 0\n",
    "            else:\n",
    "                self.data[attribute]  = 0\n",
    "            \n",
    "        else:\n",
    "            self.data[attribute] =  data\n",
    "\n",
    "            \n",
    "    def getData(self,attribute):\n",
    "        return self.data[attribute]"
   ]
  },
  {
   "cell_type": "code",
   "execution_count": 16,
   "metadata": {},
   "outputs": [
    {
     "name": "stdout",
     "output_type": "stream",
     "text": [
      "ID: 123\n",
      "NAME: 567890\n",
      "area: 123.12\n",
      "areaB: 123.12\n"
     ]
    }
   ],
   "source": [
    "data = DataManagement()\n",
    "data.setData(\"ID\",123)\n",
    "print(\"ID: \"+ str(data.getData(\"ID\")))\n",
    "data.setData(\"name\",\"1234567890通过\")\n",
    "print(\"NAME: \"+ data.getData(\"name\"))\n",
    "\n",
    "data.setData(\"area\",\"建筑123.12QQQQQQQQ\")\n",
    "print(\"area: \"+ data.getData(\"area\"))\n",
    "\n",
    "\n",
    "data.setData(\"areaB\",\"建筑123.12QQQQQQQQ\")\n",
    "print(\"areaB: \"+ data.getData(\"areaB\"))\n"
   ]
  },
  {
   "cell_type": "code",
   "execution_count": 17,
   "metadata": {},
   "outputs": [],
   "source": [
    "#             bidInfo[\"id\"] = items[item][\"id\"]\n",
    "#             bidInfo[\"title\"] = items[item][\"title\"]\n",
    "#             bidInfo[\"consultPrice\"] = items[item][\"consultPrice\"]\n",
    "#             bidInfo[\"currentPrice\"] = items[item][\"currentPrice\"]\n",
    "#             bidInfo[\"bidCount\"] = items[item][\"bidCount\"]\n",
    "#             bidInfo[\"delayCount\"] = items[item][\"delayCount\"]\n",
    "#             bidInfo[\"applyCount\"] = items[item][\"applyCount\"]\n"
   ]
  },
  {
   "cell_type": "code",
   "execution_count": null,
   "metadata": {},
   "outputs": [],
   "source": []
  }
 ],
 "metadata": {
  "kernelspec": {
   "display_name": "Python 3",
   "language": "python",
   "name": "python3"
  },
  "language_info": {
   "codemirror_mode": {
    "name": "ipython",
    "version": 3
   },
   "file_extension": ".py",
   "mimetype": "text/x-python",
   "name": "python",
   "nbconvert_exporter": "python",
   "pygments_lexer": "ipython3",
   "version": "3.7.1"
  }
 },
 "nbformat": 4,
 "nbformat_minor": 2
}
