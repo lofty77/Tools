{
 "cells": [
  {
   "cell_type": "code",
   "execution_count": 1,
   "metadata": {},
   "outputs": [],
   "source": [
    "from selenium import webdriver"
   ]
  },
  {
   "cell_type": "code",
   "execution_count": 2,
   "metadata": {},
   "outputs": [],
   "source": [
    "# Create a new instance of the CHrome driver\n",
    "driver = webdriver.Chrome()\n",
    "url = \"https://sf-item.taobao.com/sf_item/591732235950.htm?spm=a213w.7398504.paiList.6.7ede26cdIZuymq#J_Confirmation\"\n"
   ]
  },
  {
   "cell_type": "code",
   "execution_count": 3,
   "metadata": {},
   "outputs": [],
   "source": [
    "driver.get(url)\n"
   ]
  },
  {
   "cell_type": "code",
   "execution_count": 4,
   "metadata": {},
   "outputs": [
    {
     "name": "stdout",
     "output_type": "stream",
     "text": [
      "天津市南开区红旗南路金谷园2-2-201号房屋 - 司法拍卖 - 阿里拍卖\n"
     ]
    }
   ],
   "source": [
    "print(driver.title)"
   ]
  },
  {
   "cell_type": "code",
   "execution_count": 5,
   "metadata": {},
   "outputs": [],
   "source": [
    "#cheeses = driver.find_elements_by_class_name(\"confirm-content\")\n"
   ]
  },
  {
   "cell_type": "code",
   "execution_count": 6,
   "metadata": {},
   "outputs": [
    {
     "name": "stdout",
     "output_type": "stream",
     "text": [
      "竞价成功确认书\n",
      "网络竞价成功确认书\n",
      "处置单位：天津市南开区人民法院\n",
      "标的物名称：天津市南开区红旗南路金谷园2-2-201号房屋\n",
      "标的物网拍链接：https://sf-item.taobao.com/sf_item/591732235950.htm\n",
      "网拍公告时间：2019/04/09 19:40:26\n",
      "网拍开始时间：2019/04/25 19:00:00\n",
      "网拍结束时间：2019/04/26 19:26:21\n",
      "【网络拍卖竞价结果】\n",
      "用户姓名赵轶猛通过竞买号K7658于2019年04月26日在天津市南开区人民法院于阿里拍卖平台开展的“天津市南开区红旗南路金谷园2-2-201号房屋”项目公开竞价中，以最高应价胜出。\n",
      "该标的网络拍卖成交价格：¥2156320（贰佰壹拾伍万陆仟叁佰贰拾元）\n",
      "在网络拍卖中竞买成功的用户，必须依照标的物《竞买须知》、《竞买公告》要求，按时交付标的物网拍成交余款、办理相关手续。\n",
      "标的物最终成交以天津市南开区人民法院出具拍卖成交裁定为准。\n",
      "2019年04月26日\n"
     ]
    }
   ],
   "source": [
    "data = driver.find_element_by_id(\"J_Confirmation\").text\n",
    "print(data)"
   ]
  },
  {
   "cell_type": "code",
   "execution_count": 7,
   "metadata": {},
   "outputs": [
    {
     "name": "stdout",
     "output_type": "stream",
     "text": [
      "\n",
      "\t\t\t\t\t<div class=\"pai-title\">\n",
      "\t\t\t\t\t\t<div class=\"pai-title-text\">竞价成功确认书</div>\n",
      "\t\t\t\t\t\t<div class=\"pai-title-line\"></div>\n",
      "\t\t\t\t\t</div>\n",
      "\t\t\t\t\t<div class=\"J_ConfirmContent\"><div class=\"sale-confirm\">\n",
      "\t<div class=\"confirm-content\">\n",
      "\t\t<h1>网络竞价成功确认书</h1>\n",
      "\n",
      "\t\t<p class=\"i-line -bold\"></p>\n",
      "\t\t<p class=\"i-line\"></p>\n",
      "\n",
      "\t\t<div class=\"content-wrap\">\n",
      "\n",
      "      \n",
      "        <p class=\"c-department\">处置单位：天津市南开区人民法院</p>\n",
      "      \n",
      "\t\t\t<p class=\"c-name\">标的物名称：天津市南开区红旗南路金谷园2-2-201号房屋</p>\n",
      "\t\t\t<p class=\"c-link\">标的物网拍链接：https://sf-item.taobao.com/sf_item/591732235950.htm</p>\n",
      "\t\t\t<p class=\"c-notice\">网拍公告时间：2019/04/09 19:40:26</p>\n",
      "\t\t\t<p class=\"c-start\">网拍开始时间：2019/04/25 19:00:00</p>\n",
      "\t\t\t<p class=\"c-end\">网拍结束时间：2019/04/26 19:26:21</p>\n",
      "\n",
      "\t\t\t<p class=\"c-gap\"></p>\n",
      "\n",
      "\t\t\t<p class=\"c-result\">【网络拍卖竞价结果】</p>\n",
      "\t\t\t<p class=\"c-content\">用户姓名赵轶猛通过竞买号K7658于2019年04月26日在天津市南开区人民法院于阿里拍卖平台开展的“天津市南开区红旗南路金谷园2-2-201号房屋”项目公开竞价中，以最高应价胜出。</p>\n",
      "\t\t\t<p class=\"c-price\">该标的网络拍卖成交价格：¥2156320（贰佰壹拾伍万陆仟叁佰贰拾元）</p>\n",
      "\n",
      "\t\t\t<p class=\"c-gap\"></p>\n",
      "\t\t\t\n",
      "\t\t\t  <p class=\"c-info\">在网络拍卖中竞买成功的用户，必须依照标的物《竞买须知》、《竞买公告》要求，按时交付标的物网拍成交余款、办理相关手续。</p>\n",
      "\t\t\t  <p class=\"c-extra\">标的物最终成交以天津市南开区人民法院出具拍卖成交裁定为准。</p>\n",
      "\t\t\t\n",
      "\n",
      "\t\t\t\n",
      "\n",
      "\t\t\t<p class=\"c-stamp\">2019年04月26日</p>\n",
      "\n",
      "\n",
      "\t\t</div>\n",
      "\t</div>\n",
      "</div>\n",
      "</div>\n",
      "\t\t\t\t\n"
     ]
    }
   ],
   "source": [
    "data = driver.find_element_by_id(\"J_Confirmation\").get_attribute('innerHTML')\n",
    "print(data)"
   ]
  },
  {
   "cell_type": "code",
   "execution_count": null,
   "metadata": {},
   "outputs": [],
   "source": []
  }
 ],
 "metadata": {
  "kernelspec": {
   "display_name": "Python 3",
   "language": "python",
   "name": "python3"
  },
  "language_info": {
   "codemirror_mode": {
    "name": "ipython",
    "version": 3
   },
   "file_extension": ".py",
   "mimetype": "text/x-python",
   "name": "python",
   "nbconvert_exporter": "python",
   "pygments_lexer": "ipython3",
   "version": "3.7.1"
  }
 },
 "nbformat": 4,
 "nbformat_minor": 2
}
