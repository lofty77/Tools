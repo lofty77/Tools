{
 "cells": [
  {
   "cell_type": "code",
   "execution_count": 1,
   "metadata": {},
   "outputs": [],
   "source": [
    "from selenium import webdriver\n",
    "from selenium.webdriver.common.by import By\n",
    "from selenium.webdriver.support.ui import WebDriverWait\n",
    "from selenium.webdriver.support import expected_conditions as EC\n",
    "import csv"
   ]
  },
  {
   "cell_type": "code",
   "execution_count": 2,
   "metadata": {},
   "outputs": [],
   "source": [
    "# Create a new instance of the CHrome driver\n",
    "driver = webdriver.Chrome()\n",
    "url1 =\"https://sf-item.taobao.com/sf_item/591732235950.htm?spm=a213w.7398504.paiList.6.7ede26cdIZuymq\"\n",
    "url2 = url1+\"#J_Confirmation\"\n"
   ]
  },
  {
   "cell_type": "code",
   "execution_count": 3,
   "metadata": {},
   "outputs": [],
   "source": [
    "driver.get(url2)\n"
   ]
  },
  {
   "cell_type": "code",
   "execution_count": 4,
   "metadata": {},
   "outputs": [],
   "source": [
    "#data = driver.find_element_by_id(\"J_Confirmation\").text\n",
    "#print(data)"
   ]
  },
  {
   "cell_type": "code",
   "execution_count": 5,
   "metadata": {},
   "outputs": [],
   "source": [
    "#data = driver.find_element_by_id(\"J_Confirmation\").get_attribute('innerHTML')\n",
    "#print(data)"
   ]
  },
  {
   "cell_type": "code",
   "execution_count": 6,
   "metadata": {},
   "outputs": [],
   "source": [
    "#data = driver.find_element_by_id(\"J_Confirmation\").text\n",
    "#print(data)"
   ]
  },
  {
   "cell_type": "code",
   "execution_count": 7,
   "metadata": {},
   "outputs": [],
   "source": [
    "#data = driver.find_element_by_id(\"J_Confirmation\").get_attribute('innerHTML')\n",
    "#print(data)"
   ]
  },
  {
   "cell_type": "code",
   "execution_count": 8,
   "metadata": {},
   "outputs": [
    {
     "name": "stdout",
     "output_type": "stream",
     "text": [
      "before wait\n",
      "after wait\n",
      "用户姓名赵轶猛通过竞买号K7658于2019年04月26日在天津市南开区人民法院于阿里拍卖平台开展的“天津市南开区红旗南路金谷园2-2-201号房屋”项目公开竞价中，以最高应价胜出。\n"
     ]
    }
   ],
   "source": [
    "print(\"before wait\")\n",
    "\n",
    "WebDriverWait(driver, 10).until(EC.presence_of_element_located((By.CLASS_NAME, \"c-content\")))\n",
    "\n",
    "print(\"after wait\")\n",
    "\n",
    "customer = driver.find_element_by_class_name(\"c-content\").text\n",
    "\n",
    "print(customer)"
   ]
  },
  {
   "cell_type": "code",
   "execution_count": null,
   "metadata": {},
   "outputs": [],
   "source": []
  },
  {
   "cell_type": "code",
   "execution_count": 9,
   "metadata": {},
   "outputs": [
    {
     "name": "stdout",
     "output_type": "stream",
     "text": [
      "7\n"
     ]
    }
   ],
   "source": [
    "index = customer.find(\"通过\")\n",
    "print(index)"
   ]
  },
  {
   "cell_type": "code",
   "execution_count": 10,
   "metadata": {},
   "outputs": [],
   "source": [
    "name = customer[4:index]"
   ]
  },
  {
   "cell_type": "code",
   "execution_count": 11,
   "metadata": {},
   "outputs": [
    {
     "name": "stdout",
     "output_type": "stream",
     "text": [
      "赵轶猛\n"
     ]
    }
   ],
   "source": [
    "print(name)"
   ]
  },
  {
   "cell_type": "code",
   "execution_count": 20,
   "metadata": {},
   "outputs": [],
   "source": [
    "import csv\n",
    "csvFile = open(\"test.csv\",\"w+\")\n",
    "try:\n",
    "    writer = csv.writer(csvFile)\n",
    "    writer.writerow(('name','link'))\n",
    "    writer.writerow(('a0',\"link\"))\n",
    "    writer.writerow(('a0',\"link\"))\n",
    "    writer.writerow(('b0',\"link\"))\n",
    "    writer.writerow(('c0',\"link\"))\n",
    "    writer.writerow(('d0',\"link\"))\n",
    "    writer.writerow(('a0',\"link\"))\n",
    "finally:\n",
    "    csvFile.close()"
   ]
  },
  {
   "cell_type": "code",
   "execution_count": 21,
   "metadata": {},
   "outputs": [],
   "source": [
    "import pandas as pd\n",
    "csv = pd.read_csv('test.csv', encoding='utf-8')\n",
    "csv.to_excel('test.xlsx', sheet_name='data')"
   ]
  },
  {
   "cell_type": "code",
   "execution_count": 22,
   "metadata": {},
   "outputs": [],
   "source": [
    "from pyecharts.engine import create_default_environment\n",
    "from pyecharts import Page\n",
    "from pyecharts import Bar, Line, Grid\n",
    "from pyecharts import Liquid\n",
    "\n",
    "import xlrd"
   ]
  },
  {
   "cell_type": "code",
   "execution_count": 23,
   "metadata": {},
   "outputs": [],
   "source": [
    "fileName = r'/home/liang.liang/code/Tools/python/scraping/test.xlsx'\n",
    "\n",
    "data = xlrd.open_workbook(fileName)\n",
    "\n",
    "table = data.sheets()[0]\n",
    "\n",
    "\n",
    "Source =  {\"name\":table.col_values(1,1)}\n",
    "\n",
    "Total = len(Source[\"name\"])\n",
    "\n",
    "nameList = {}"
   ]
  },
  {
   "cell_type": "code",
   "execution_count": 24,
   "metadata": {},
   "outputs": [],
   "source": [
    "for i in range(Total):\n",
    "    name = Source[\"name\"][i]\n",
    "    if(name in nameList):\n",
    "        nameList[name] +=1\n",
    "    else:\n",
    "        nameList[name] = 1\n",
    "    \n",
    "    "
   ]
  },
  {
   "cell_type": "code",
   "execution_count": 26,
   "metadata": {},
   "outputs": [
    {
     "name": "stdout",
     "output_type": "stream",
     "text": [
      "{'a0': 3, 'b0': 1, 'c0': 1, 'd0': 1}\n"
     ]
    }
   ],
   "source": [
    "print(nameList)"
   ]
  },
  {
   "cell_type": "code",
   "execution_count": null,
   "metadata": {},
   "outputs": [],
   "source": []
  }
 ],
 "metadata": {
  "kernelspec": {
   "display_name": "Python 3",
   "language": "python",
   "name": "python3"
  },
  "language_info": {
   "codemirror_mode": {
    "name": "ipython",
    "version": 3
   },
   "file_extension": ".py",
   "mimetype": "text/x-python",
   "name": "python",
   "nbconvert_exporter": "python",
   "pygments_lexer": "ipython3",
   "version": "3.7.1"
  }
 },
 "nbformat": 4,
 "nbformat_minor": 2
}
