{
 "cells": [
  {
   "cell_type": "code",
   "execution_count": null,
   "metadata": {},
   "outputs": [],
   "source": [
    "from selenium import webdriver\n",
    "from selenium.webdriver.common.by import By\n",
    "from selenium.webdriver.support.ui import WebDriverWait\n",
    "from selenium.webdriver.support import expected_conditions as EC\n",
    "import json\n",
    "import time\n",
    "import csv\n",
    "import pandas as pd\n",
    "import re"
   ]
  },
  {
   "cell_type": "code",
   "execution_count": null,
   "metadata": {},
   "outputs": [],
   "source": [
    "# time\n",
    "t1 = time.time()\n",
    "time.strftime('%Y-%m-%d %H:%M:%S',time.localtime(t1))\n"
   ]
  },
  {
   "cell_type": "code",
   "execution_count": null,
   "metadata": {},
   "outputs": [],
   "source": [
    "bidInfo = {}"
   ]
  },
  {
   "cell_type": "code",
   "execution_count": null,
   "metadata": {},
   "outputs": [],
   "source": [
    "csvFile = open(\"namelist.csv\",\"w+\")\n",
    "writer = csv.writer(csvFile)\n",
    "\n",
    "bidInfo = {}\n",
    "\n",
    "header = (\"name\",\"date\",\"title\",\"consultPrice\",\"currentPrice\",\"bidCount\",\"delayCount\",\"applyCount\",\"area\",\"areaB\",\"url\")\n",
    "\n",
    "writer.writerow(header)\n",
    "\n",
    "#writer.writerow(('name','url'))\n",
    "\n"
   ]
  },
  {
   "cell_type": "code",
   "execution_count": null,
   "metadata": {},
   "outputs": [],
   "source": [
    "# tianjin\n",
    "# sourceUrl = \"https://sf.taobao.com/item_list.htm?category=50025969&auction_source=0&province=%CC%EC%BD%F2&sorder=2\" \\\n",
    "#                  \"&st_param=-1&auction_start_from=2018-01-01&auction_start_to=2019-05-13&spm=a213w.3064813.9001.2\"  \n",
    "\n",
    "\n",
    "# wuhan\n",
    "sourceUrl = \"https://sf.taobao.com/item_list.htm?category=50025969&auction_source=0&city=%CE%E4%BA%BA&sorder=2\" \\\n",
    "                  \"&st_param=-1&auction_start_from=2018-01-01&auction_start_to=2019-05-19&spm=a213w.3064813.9001.2\""
   ]
  },
  {
   "cell_type": "code",
   "execution_count": null,
   "metadata": {},
   "outputs": [],
   "source": [
    "# Start the driver\n",
    "driver = webdriver.Chrome()\n",
    "# Setup wait for later\n",
    "wait = WebDriverWait(driver, 10)\n",
    "\n",
    "driver.get(sourceUrl)\n",
    "\n",
    "# Store the ID of the original window\n",
    "original_window = driver.current_window_handle\n",
    "\n",
    "# Check we don't have other windows open already\n",
    "assert len(driver.window_handles) == 1"
   ]
  },
  {
   "cell_type": "code",
   "execution_count": null,
   "metadata": {},
   "outputs": [],
   "source": [
    "wait.until(EC.presence_of_element_located((By.CLASS_NAME, \"page-total\")))\n"
   ]
  },
  {
   "cell_type": "code",
   "execution_count": null,
   "metadata": {},
   "outputs": [],
   "source": [
    "#if test, set  pages = 1 \n",
    "#pages = 1\n",
    "pages = driver.find_element_by_class_name(\"page-total\").text"
   ]
  },
  {
   "cell_type": "code",
   "execution_count": null,
   "metadata": {},
   "outputs": [],
   "source": []
  },
  {
   "cell_type": "code",
   "execution_count": null,
   "metadata": {},
   "outputs": [],
   "source": [
    "for page in range(1,int(pages)+1):\n",
    "    if(page > 1):\n",
    "        driver.find_element_by_link_text(str(page)).click()\n",
    "        time.sleep(1)\n",
    "    \n",
    "    wait.until(EC.presence_of_element_located((By.CLASS_NAME, \"sf-pai-item-list\")))\n",
    "    data = driver.find_element_by_id(\"sf-item-list-data\").get_attribute('innerHTML')\n",
    "    jsonData =  json.loads(data)\n",
    "    items = jsonData[\"data\"]\n",
    "    \n",
    "    itemLen = len(items)\n",
    "    #itemLen = 6   #test\n",
    "    for item in range(itemLen):    \n",
    "        bidInfo[\"status\"] = items[item][\"status\"]\n",
    "\n",
    "        \n",
    "        if(bidInfo[\"status\"] == \"done\"):\n",
    "            \n",
    "            bidInfo[\"id\"] = items[item][\"id\"]\n",
    "            bidInfo[\"title\"] = items[item][\"title\"]\n",
    "            bidInfo[\"consultPrice\"] = items[item][\"consultPrice\"]\n",
    "            bidInfo[\"currentPrice\"] = items[item][\"currentPrice\"]\n",
    "            bidInfo[\"bidCount\"] = items[item][\"bidCount\"]\n",
    "            bidInfo[\"delayCount\"] = items[item][\"delayCount\"]\n",
    "            bidInfo[\"applyCount\"] = items[item][\"applyCount\"]\n",
    "\n",
    "            url = \"#pai-item-\"+str(bidInfo[\"id\"])\n",
    "            # Click the link which opens in a new window\n",
    "            driver.find_element_by_css_selector(url).click()\n",
    "            time.sleep(1) # have to wait sometime\n",
    "\n",
    "            # Wait for the new window or tab\n",
    "            wait.until(EC.number_of_windows_to_be(2))\n",
    "            handles = driver.window_handles\n",
    "            driver.switch_to.window(handles[1])\n",
    "            # size\n",
    "            \n",
    "            urlNew = driver.current_url\n",
    "            url2 = str(urlNew)+\"#J_Confirmation\"\n",
    "            driver.get(url2)\n",
    "            \n",
    "            \n",
    "            wait.until(EC.presence_of_element_located((By.CLASS_NAME, \"content-wrap\")))\n",
    "            info = driver.find_element_by_class_name(\"c-content\").text\n",
    "            index = info.find(\"通过\")\n",
    "            \n",
    "            # getName\n",
    "            bidInfo[\"name\"] = info[4:index]\n",
    "            # getDate\n",
    "            bidInfo[\"date\"] = driver.find_element_by_class_name(\"c-stamp\").text\n",
    "            \n",
    "\n",
    "            #print\n",
    "            print(\"Name: \"+bidInfo[\"name\"]+\": Page :\"+str(page)+\"   Item :\"+str(item))\n",
    "\n",
    "\n",
    "\n",
    "           # get area\n",
    "            driver.get(str(urlNew)+\"#NoticeDetail\")\n",
    "            time.sleep(1)\n",
    "            notice = driver.find_element_by_id(\"J_NoticeDetail\").get_attribute('textContent')            \n",
    "            left = notice.find(\"建筑\")\n",
    "           # right = notice.find(\"方米\",left)\n",
    "            \n",
    "            if(left != -1 ):\n",
    "                size = notice[(left+2) : (left+22)]\n",
    "                areas = re.findall(r\"\\d+\\.\\d*\",size)\n",
    "                if(len(areas) > 0):\n",
    "                    bidInfo[\"area\"]  = areas[0]\n",
    "                else:\n",
    "                    bidInfo[\"area\"]  = 0\n",
    "            else:\n",
    "                bidInfo[\"area\"]  = 0\n",
    "\n",
    "            \n",
    "\n",
    "           ###  Tip\n",
    "            driver.get(str(urlNew)+\"#RemindTip\")\n",
    "            time.sleep(1)\n",
    "            tip  = driver.find_element_by_id(\"J_desc\").get_attribute('textContent')\n",
    "            tip_left = tip.find(\"建筑\")\n",
    "           # tip_right =  tip.find(\"方米\",tip_left)\n",
    "            \n",
    "            if(tip_left != -1):\n",
    "                size = tip[(tip_left+2) : (tip_left+22)]           \n",
    "                areaB = re.findall(r\"\\d+\\.\\d*\",size)\n",
    "                if(len(areaB) > 0 ):\n",
    "                    bidInfo[\"areaB\"] =areaB[0]\n",
    "                else:\n",
    "                    bidInfo[\"areaB\"] = 0\n",
    "            else:\n",
    "                bidInfo[\"areaB\"] = 0\n",
    "\n",
    "                \n",
    "                \n",
    "            bidInfo[\"url\"] = urlNew   # add url\n",
    "\n",
    "### write into file\n",
    "            writer.writerow((bidInfo[\"name\"],bidInfo[\"date\"],bidInfo[\"title\"],\n",
    "                                   bidInfo[\"consultPrice\"],bidInfo[\"currentPrice\"],\n",
    "                                   bidInfo[\"bidCount\"],bidInfo[\"delayCount\"],bidInfo[\"applyCount\"],\n",
    "                                   bidInfo[\"area\"],bidInfo[\"areaB\"],bidInfo[\"url\"]\n",
    "                                 ))\n",
    "                                 \n",
    "\n",
    "            driver.close()\n",
    "            driver.switch_to.window(handles[0])\n",
    "        else:\n",
    "            pass\n",
    "           # print(\"***item failed******\"+\": Page :\"+str(page)+\"   Item :\"+str(item))\n",
    "\n"
   ]
  },
  {
   "cell_type": "code",
   "execution_count": null,
   "metadata": {},
   "outputs": [],
   "source": [
    "driver.quit()"
   ]
  },
  {
   "cell_type": "code",
   "execution_count": null,
   "metadata": {},
   "outputs": [],
   "source": [
    "csvFile.close()\n",
    "csv = pd.read_csv('namelist.csv', encoding='utf-8')\n",
    "csv.to_excel('namelist.xlsx', sheet_name='data')"
   ]
  },
  {
   "cell_type": "code",
   "execution_count": null,
   "metadata": {},
   "outputs": [],
   "source": [
    "t2 = time.time()\n",
    "time.strftime('%Y-%m-%d %H:%M:%S',time.localtime(t2))\n",
    "\n",
    "seconds = t2 - t1\n",
    "m, s = divmod(seconds, 60)\n",
    "h, m = divmod(m, 60)\n",
    "print (\"%02d:%02d:%02d\" % (h, m, s))\n"
   ]
  },
  {
   "cell_type": "code",
   "execution_count": null,
   "metadata": {},
   "outputs": [],
   "source": [
    "#            print(\"URL: \"+driver.current_url)\n",
    "#             print(\"id:\"+str(bidInfo[\"id\"])+\" title: \"+bidInfo[\"title\"])\n",
    "#             print(\"consultPrice:\"+str(bidInfo[\"consultPrice\"]) + \" currentPrice:\" +str(bidInfo[\"currentPrice\"]))\n",
    "#             print(\"bidCount:\"+str(bidInfo[\"bidCount\"]) +\" delayCount:\"+str(bidInfo[\"delayCount\"])+\" applyCount:\"+str(bidInfo[\"applyCount\"]))\n",
    "#             print(\"date:\"+bidInfo[\"date\"])"
   ]
  },
  {
   "cell_type": "code",
   "execution_count": null,
   "metadata": {},
   "outputs": [],
   "source": [
    "#^[1-9]\\d*\\.\\d*|0\\.\\d*[1-9]\\d*$\n"
   ]
  },
  {
   "cell_type": "code",
   "execution_count": null,
   "metadata": {},
   "outputs": [],
   "source": [
    "# match = r\"\\d+\\.\\d*\"\n",
    "\n",
    "# areas = re.findall(match,\"abc12121223ac-1.12dddd\")\n",
    "\n",
    "# areas\n",
    "\n"
   ]
  },
  {
   "cell_type": "code",
   "execution_count": null,
   "metadata": {},
   "outputs": [],
   "source": []
  },
  {
   "cell_type": "code",
   "execution_count": null,
   "metadata": {},
   "outputs": [],
   "source": []
  }
 ],
 "metadata": {
  "kernelspec": {
   "display_name": "Python 3",
   "language": "python",
   "name": "python3"
  },
  "language_info": {
   "codemirror_mode": {
    "name": "ipython",
    "version": 3
   },
   "file_extension": ".py",
   "mimetype": "text/x-python",
   "name": "python",
   "nbconvert_exporter": "python",
   "pygments_lexer": "ipython3",
   "version": "3.7.1"
  }
 },
 "nbformat": 4,
 "nbformat_minor": 2
}
