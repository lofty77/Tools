{
 "cells": [
  {
   "cell_type": "code",
   "execution_count": 1,
   "metadata": {},
   "outputs": [],
   "source": [
    "from selenium import webdriver\n",
    "import json\n",
    "import time"
   ]
  },
  {
   "cell_type": "code",
   "execution_count": 2,
   "metadata": {},
   "outputs": [],
   "source": [
    "driver = webdriver.Chrome()\n"
   ]
  },
  {
   "cell_type": "code",
   "execution_count": 3,
   "metadata": {},
   "outputs": [],
   "source": [
    "#url = \"https://sf-item.taobao.com/sf_item/592140469999.htm?spm=a213w.7398504.paiList.1.a1da26cdBOcTJJ\"\n",
    "\n",
    "#url = \"https://sf-item.taobao.com/sf_item/591732235950.htm?spm=a213w.7398504.paiList.6.7ede26cdIZuymq\"\n",
    "\n",
    "url = \"https://sf.taobao.com/item_list.htm?spm=a213w.7398504.filter.61.22f526cdj7uTkT&category=50025969\" \\\n",
    "    \"&auction_source=0&province=%CC%EC%BD%F2&sorder=2&st_param=-1&auction_start_seg=-1\""
   ]
  },
  {
   "cell_type": "code",
   "execution_count": 4,
   "metadata": {},
   "outputs": [],
   "source": [
    "driver.get(url)"
   ]
  },
  {
   "cell_type": "code",
   "execution_count": 5,
   "metadata": {},
   "outputs": [],
   "source": [
    "urlList = []"
   ]
  },
  {
   "cell_type": "code",
   "execution_count": 6,
   "metadata": {},
   "outputs": [
    {
     "name": "stdout",
     "output_type": "stream",
     "text": [
      "['CDwindow-9EF1D32A6EC8DBDE97BA60545FC58192', 'CDwindow-E0A391C2B568A1968E883686C6830B21']\n",
      "0本场拍卖已流拍 ！天津市红桥区龙禧园13-3-501房地产一套 - 司法拍卖 - 阿里拍卖\n",
      "['CDwindow-9EF1D32A6EC8DBDE97BA60545FC58192', 'CDwindow-B509C93D5CD8EF60F868C8196CF32C46']\n",
      "1本场拍卖已流拍 ！天津市南开区古文化街海河楼商贸区崇仁宫大街3-4-3号房屋 - 司法拍卖 - 阿里拍卖\n",
      "['CDwindow-9EF1D32A6EC8DBDE97BA60545FC58192', 'CDwindow-EB726BE1AA977213D23E7B251B618D06']\n",
      "2本场拍卖已流拍 ！天津市南开区古文化街海河楼商贸区崇仁宫大街3-4-1号房屋 - 司法拍卖 - 阿里拍卖\n",
      "['CDwindow-9EF1D32A6EC8DBDE97BA60545FC58192', 'CDwindow-C0516484EA5BD68AEB6C3C6217248BAD']\n",
      "3本场拍卖已流拍 ！天津市南开区古文化街海河楼商贸区崇仁宫大街3-4-N号房屋 - 司法拍卖 - 阿里拍卖\n",
      "['CDwindow-9EF1D32A6EC8DBDE97BA60545FC58192', 'CDwindow-3CC9A476F5A0F9DE1DBB4C39826E7CAE']\n",
      "4本场拍卖已流拍 ！天津市南开区古文化街海河楼商贸区崇仁宫大街3-4-A号房屋 - 司法拍卖 - 阿里拍卖\n",
      "['CDwindow-9EF1D32A6EC8DBDE97BA60545FC58192', 'CDwindow-9DFDA2FE1EF0DD01CC76F3F4CCEF7797']\n",
      "5本场拍卖已流拍 ！天津市滨海新区中心商务区金海花园1-5-1502 - 司法拍卖 - 阿里拍卖\n",
      "['CDwindow-9EF1D32A6EC8DBDE97BA60545FC58192', 'CDwindow-64AF6E1CABC9DAF15B6A926B79B30FDF']\n",
      "6本场拍卖已流拍 ！天津市南开区古文化街海河楼商贸区崇仁宫大街3-4-K号房屋 - 司法拍卖 - 阿里拍卖\n",
      "['CDwindow-9EF1D32A6EC8DBDE97BA60545FC58192', 'CDwindow-B790927E2DB90B6CC50AFBF7AE98846D']\n",
      "7本场拍卖已流拍 ！天津市南开区古文化街海河楼商贸区崇仁宫大街3-4-G号房屋 - 司法拍卖 - 阿里拍卖\n",
      "['CDwindow-9EF1D32A6EC8DBDE97BA60545FC58192', 'CDwindow-FD1F3912B5E1ECDBA241FD879F325013']\n",
      "8本场拍卖已流拍 ！天津市南开区古文化街海河楼商贸区崇仁宫大街3-4-4号房屋 - 司法拍卖 - 阿里拍卖\n",
      "['CDwindow-9EF1D32A6EC8DBDE97BA60545FC58192', 'CDwindow-6997484B412EE3127D3EC100BC9B92A2']\n",
      "9本场拍卖已流拍 ！天津市南开区古文化街海河楼商贸区崇仁宫大街3-4-C号房屋 - 司法拍卖 - 阿里拍卖\n",
      "['CDwindow-9EF1D32A6EC8DBDE97BA60545FC58192', 'CDwindow-D22071081C77E030C68D2DB4FC088CC9']\n",
      "10本场拍卖已流拍 ！天津市南开区古文化街海河楼商贸区崇仁宫大街3-4-B号房屋 - 司法拍卖 - 阿里拍卖\n",
      "['CDwindow-9EF1D32A6EC8DBDE97BA60545FC58192', 'CDwindow-A1532E009D9D202AC040613A9ABCFEC7']\n",
      "11本场拍卖已结束 ！武清区大良镇良兆花园1-3-301号房屋 - 司法拍卖 - 阿里拍卖\n",
      "['CDwindow-9EF1D32A6EC8DBDE97BA60545FC58192', 'CDwindow-A5ED328FC99582DA6A7769FCC55E296D']\n",
      "12本场拍卖已结束 ！天津市河西区景兴里57门801-805房屋 - 司法拍卖 - 阿里拍卖\n",
      "['CDwindow-9EF1D32A6EC8DBDE97BA60545FC58192', 'CDwindow-C5ACA78A8C796E207981239CAA516D64']\n",
      "13本场拍卖已结束 ！滨海新区塘沽美韵家园21-1-201号房地产 - 司法拍卖 - 阿里拍卖\n",
      "['CDwindow-9EF1D32A6EC8DBDE97BA60545FC58192', 'CDwindow-6565DC3C9D72D0C9E226B94F3EC3F81A']\n",
      "14本场拍卖已流拍 ！天津市滨海新区中心商务远景庄园27-3 - 司法拍卖 - 阿里拍卖\n",
      "['CDwindow-9EF1D32A6EC8DBDE97BA60545FC58192', 'CDwindow-9AC970FF473151FAFB8A59407F2A6C5A']\n",
      "15本场拍卖已结束 ！天津市宁河区芦台镇安全楼2-2-303房地产 - 司法拍卖 - 阿里拍卖\n",
      "['CDwindow-9EF1D32A6EC8DBDE97BA60545FC58192', 'CDwindow-15386AF960F7DAEE7C5517D13E25A34D']\n",
      "16本场变卖失败天津市南开区红旗南路450增16号房地产 - 司法拍卖 - 阿里拍卖\n",
      "['CDwindow-9EF1D32A6EC8DBDE97BA60545FC58192', 'CDwindow-BE33D401663A7C4F01389697566E7149']\n",
      "17本场变卖已结束 ！天津市西青区中北镇中北中学东侧花溪苑4-1-704号房屋 - 司法拍卖 - 阿里拍卖\n",
      "['CDwindow-9EF1D32A6EC8DBDE97BA60545FC58192', 'CDwindow-C68582EC1DC8421B242F20F37347B1B3']\n",
      "18本场变卖已结束 ！天津市北辰区普天里12-10-204号房屋 - 司法拍卖 - 阿里拍卖\n",
      "['CDwindow-9EF1D32A6EC8DBDE97BA60545FC58192', 'CDwindow-5BCEEB9B03A7B60AAF7EC16DE4775A38']\n",
      "19本场拍卖已结束 ！天津市津南区咸水沽镇内景明大厦5-2603房地产一套 - 司法拍卖 - 阿里拍卖\n",
      "['CDwindow-9EF1D32A6EC8DBDE97BA60545FC58192', 'CDwindow-4CBAEB061BF50A8C0BE8B593945D836B']\n",
      "20本场拍卖已结束 ！天津市红桥区佳园里浩达公寓19-2-201-204房地产一套 - 司法拍卖 - 阿里拍卖\n",
      "['CDwindow-9EF1D32A6EC8DBDE97BA60545FC58192', 'CDwindow-7D6B168406FB4270392F27CDBCC7A8B8']\n",
      "21本场拍卖已结束 ！天津市滨海新区大港胜利街前进里28-3-401号房地产 - 司法拍卖 - 阿里拍卖\n",
      "['CDwindow-9EF1D32A6EC8DBDE97BA60545FC58192', 'CDwindow-5EFA31BA1FDC25519D039F7846A3DC71']\n",
      "22本场拍卖已流拍 ！大港区尚海湾·西苑26-1房产 - 司法拍卖 - 阿里拍卖\n",
      "['CDwindow-9EF1D32A6EC8DBDE97BA60545FC58192', 'CDwindow-136F2E0C1C639C3F7F8432DA21B7738F']\n",
      "23本场拍卖已流拍 ！滨海新区大港胜利里2-3-602 - 司法拍卖 - 阿里拍卖\n",
      "['CDwindow-9EF1D32A6EC8DBDE97BA60545FC58192', 'CDwindow-F3664C47EB71A4E9C682326A881418AE']\n",
      "24本场拍卖已流拍 ！天津市津南区咸水沽镇富源里1-2-702 - 司法拍卖 - 阿里拍卖\n",
      "['CDwindow-9EF1D32A6EC8DBDE97BA60545FC58192', 'CDwindow-A0CE6EB54FFC513181AFDDBBCE465919']\n",
      "25本场拍卖已结束 ！天津市滨海新区大港曙光里17-1-501 - 司法拍卖 - 阿里拍卖\n",
      "['CDwindow-9EF1D32A6EC8DBDE97BA60545FC58192', 'CDwindow-CD68D7AFA82AB493B127F52D905FCD71']\n",
      "26本场拍卖已流拍 ！天津市武清区新城京津公路东侧慧翔龙苑6-3-1304号房地产 - 司法拍卖 - 阿里拍卖\n",
      "['CDwindow-9EF1D32A6EC8DBDE97BA60545FC58192', 'CDwindow-6FE02F3C1FC15FD5B439987A84EBAAE4']\n",
      "27本场拍卖已结束 ！天津市津南区八里台镇天嘉湖北侧瞰湖苑12-1-703 - 司法拍卖 - 阿里拍卖\n",
      "['CDwindow-9EF1D32A6EC8DBDE97BA60545FC58192', 'CDwindow-4F2FB1C995D7A6F3FD901F385BE159AF']\n",
      "28本场拍卖已流拍 ！天津市河西区郁江道与九华山路交口玉水园1-2-501号房地产 - 司法拍卖 - 阿里拍卖\n",
      "['CDwindow-9EF1D32A6EC8DBDE97BA60545FC58192', 'CDwindow-45F60596CBAC6E8C61863F9F1DC93CD9']\n",
      "29本场拍卖已流拍 ！天津市河西区太湖路与澧水道交口东南侧尚城32-1110号房地产 - 司法拍卖 - 阿里拍卖\n",
      "['CDwindow-9EF1D32A6EC8DBDE97BA60545FC58192', 'CDwindow-43EDA487A28FCFFA01CFB153798FA22C']\n",
      "30本场变卖失败天津市东丽区顶秀欣园10-1-303号房地产一套 - 司法拍卖 - 阿里拍卖\n",
      "['CDwindow-9EF1D32A6EC8DBDE97BA60545FC58192', 'CDwindow-111F170E5240769DCC27D70544951B4C']\n",
      "0本场拍卖已结束 ！天津市滨海新区中新天津生态城和旭路1060号季景园9-101室 - 司法拍卖 - 阿里拍卖\n",
      "['CDwindow-9EF1D32A6EC8DBDE97BA60545FC58192', 'CDwindow-AB8D3EC7D50F4EB92210C72C21E9AEA8']\n",
      "1本场拍卖已流拍 ！天津市北辰区引河南里1-4-302号房地产 - 司法拍卖 - 阿里拍卖\n",
      "['CDwindow-9EF1D32A6EC8DBDE97BA60545FC58192', 'CDwindow-BF7009DE6101F664256BF7183EF3B292']\n",
      "2本场拍卖已结束 ！天津市蓟县碧玉家园北侧，福地花园南侧山水颐城北园4-1-201房地产 - 司法拍卖 - 阿里拍卖\n",
      "['CDwindow-9EF1D32A6EC8DBDE97BA60545FC58192', 'CDwindow-D88F2E430CE2F84A75D5D2BCE99EDECF']\n",
      "3本场拍卖已流拍 ！天津市蓟县碧玉家园北侧，福地花园南侧山水颐城北园20-5-801房地产 - 司法拍卖 - 阿里拍卖\n",
      "['CDwindow-9EF1D32A6EC8DBDE97BA60545FC58192', 'CDwindow-874EE958787FD7E8F566C1F8897C9819']\n",
      "4本场拍卖已流拍 ！天津市滨海新区大港世纪大道88号1506号房地产 - 司法拍卖 - 阿里拍卖\n",
      "['CDwindow-9EF1D32A6EC8DBDE97BA60545FC58192', 'CDwindow-3A0812D179FDA6D541A8AB9F0A7D01DA']\n",
      "5本场拍卖已结束 ！红桥区纪念馆路延长线与本溪路交口东北侧美居花园8-1-18018-1-1801号 - 司法拍卖 - 阿里拍卖\n",
      "['CDwindow-9EF1D32A6EC8DBDE97BA60545FC58192', 'CDwindow-791550AB22E6134EB2610D063709FD5D']\n",
      "6本场拍卖已结束 ！天津市蓟县碧玉家园北侧，福地花园南侧山水颐城北园5-4-101房地产 - 司法拍卖 - 阿里拍卖\n",
      "['CDwindow-9EF1D32A6EC8DBDE97BA60545FC58192', 'CDwindow-E101D501FE68E8AB8AA016CB06A2B08F']\n",
      "7本场拍卖已流拍 ！天津市蓟县碧玉家园北侧，福地花园南侧山水颐城北园1-1-201房地产 - 司法拍卖 - 阿里拍卖\n",
      "['CDwindow-9EF1D32A6EC8DBDE97BA60545FC58192', 'CDwindow-34CCAB59FCD34EE2EFDCE8229DCB0C5F']\n",
      "8本场拍卖已流拍 ！天津市蓟县碧玉家园北侧，福地花园南侧山水颐城北园20-1-202房地产 - 司法拍卖 - 阿里拍卖\n",
      "['CDwindow-9EF1D32A6EC8DBDE97BA60545FC58192', 'CDwindow-C7FF94ABDDA65A8AA481099C238F95AB']\n",
      "9本场拍卖已流拍 ！天津市滨海新区大港世纪大道88号1503号房地产 - 司法拍卖 - 阿里拍卖\n",
      "['CDwindow-9EF1D32A6EC8DBDE97BA60545FC58192', 'CDwindow-412A78AC521B58D98FB35025C06F8913']\n",
      "10本场拍卖已流拍 ！天津市滨海新区大港世纪大道88号1502号房地产 - 司法拍卖 - 阿里拍卖\n",
      "['CDwindow-9EF1D32A6EC8DBDE97BA60545FC58192', 'CDwindow-969612443531395DF91FA3A13A4FAE08']\n",
      "11本场拍卖已流拍 ！红桥区团结路与海源道交口西北侧民畅园13-1701房产 - 司法拍卖 - 阿里拍卖\n",
      "['CDwindow-9EF1D32A6EC8DBDE97BA60545FC58192', 'CDwindow-2734A784CC089A669D77D59F01FFF449']\n",
      "12本场拍卖已流拍 ！天津市河东区月光园19-1002号房地产 - 司法拍卖 - 阿里拍卖\n",
      "['CDwindow-9EF1D32A6EC8DBDE97BA60545FC58192', 'CDwindow-1B9C82C7F165DED72919A9C75FC1142D']\n",
      "13本场拍卖已流拍 ！天津市蓟县碧玉家园北侧，福地花园南侧山水颐城北园4-1-101房地产 - 司法拍卖 - 阿里拍卖\n",
      "['CDwindow-9EF1D32A6EC8DBDE97BA60545FC58192', 'CDwindow-D78D088CAA90D9F7A1FFEA502808A692']\n",
      "14本场拍卖已流拍 ！天津市滨海新区大港世纪大道88号1509号房地产 - 司法拍卖 - 阿里拍卖\n",
      "['CDwindow-9EF1D32A6EC8DBDE97BA60545FC58192', 'CDwindow-D2F4E3811572294BD899515252F22FC7']\n",
      "15本场拍卖已流拍 ！天津市滨海新区大港世纪大道88号1508号房地产 - 司法拍卖 - 阿里拍卖\n",
      "['CDwindow-9EF1D32A6EC8DBDE97BA60545FC58192', 'CDwindow-8021D0A0E7D1D574065C5A4DC51DB8F1']\n",
      "16本场拍卖已流拍 ！天津市滨海新区大港世纪大道88号1505号房地产 - 司法拍卖 - 阿里拍卖\n",
      "['CDwindow-9EF1D32A6EC8DBDE97BA60545FC58192', 'CDwindow-81C88A2866C783DE8F47F20CFD3CC01E']\n",
      "17本场拍卖已流拍 ！天津市滨海新区大港世纪大道88号1504号房地产 - 司法拍卖 - 阿里拍卖\n",
      "['CDwindow-9EF1D32A6EC8DBDE97BA60545FC58192', 'CDwindow-9E78F373DB26A23156D6A9F58C4B9FAB']\n",
      "18本场拍卖已流拍 ！天津市滨海新区大港世纪大道88号1507号房地产 - 司法拍卖 - 阿里拍卖\n",
      "['CDwindow-9EF1D32A6EC8DBDE97BA60545FC58192', 'CDwindow-176CBCD8515CE51CAE788D9659711DE9']\n",
      "19本场拍卖已流拍 ！天津市开发区鹍鹏街12号6门501室 - 司法拍卖 - 阿里拍卖\n",
      "['CDwindow-9EF1D32A6EC8DBDE97BA60545FC58192', 'CDwindow-822AD0DE1653108A86250E790EA252E7']\n",
      "20本场拍卖已流拍 ！天津市开发区第三大街20号1号楼1门602室 - 司法拍卖 - 阿里拍卖\n",
      "['CDwindow-9EF1D32A6EC8DBDE97BA60545FC58192', 'CDwindow-AE06A7DDD78948A39D55A3A9017E2212']\n",
      "21本场拍卖已结束 ！天津市宝坻区瑞祥花园3-1701号不动产 - 司法拍卖 - 阿里拍卖\n",
      "['CDwindow-9EF1D32A6EC8DBDE97BA60545FC58192', 'CDwindow-B76100822993314C51DDAC39292B9BF1']\n",
      "22本场变卖已结束 ！天津市河西区宾水道增9号C-2102房地产一套 - 司法拍卖 - 阿里拍卖\n",
      "['CDwindow-9EF1D32A6EC8DBDE97BA60545FC58192', 'CDwindow-C3EC4CE2713EA3032483593447A0A2BC']\n",
      "23本场拍卖已结束 ！天津市滨海新区塘沽枫景家园3-3-802号房地产 - 司法拍卖 - 阿里拍卖\n",
      "['CDwindow-9EF1D32A6EC8DBDE97BA60545FC58192', 'CDwindow-674AF79B50B7844B752A9092279FFA4C']\n",
      "24本场拍卖已结束 ！天津市武清区京津公路西侧龙吉园33-2-201号房产 - 司法拍卖 - 阿里拍卖\n",
      "['CDwindow-9EF1D32A6EC8DBDE97BA60545FC58192', 'CDwindow-E0D93F897ADC88BE10EEA586246E3DFB']\n",
      "25本场拍卖已结束 ！天津市河西区友谊南路与左江道交口东南侧泉园6-2-502号房产 - 司法拍卖 - 阿里拍卖\n",
      "['CDwindow-9EF1D32A6EC8DBDE97BA60545FC58192', 'CDwindow-B2AEFD034BCC4B0A580388A405AB76EB']\n",
      "26本场拍卖已结束 ！天津市武清区汊沽港镇港韵新苑小区38-1-702，c-11房产 - 司法拍卖 - 阿里拍卖\n"
     ]
    },
    {
     "name": "stdout",
     "output_type": "stream",
     "text": [
      "['CDwindow-9EF1D32A6EC8DBDE97BA60545FC58192', 'CDwindow-37D7E60CDF809F1EF065EE39BA905776']\n",
      "27本场拍卖已结束 ！武清区汊沽港镇港韵新苑小区13-1-1002，c1-05房产 - 司法拍卖 - 阿里拍卖\n",
      "['CDwindow-9EF1D32A6EC8DBDE97BA60545FC58192', 'CDwindow-725BB939C8F6412B3F01D9C49872D2E0']\n",
      "28本场拍卖已流拍 ！天津市静海区团泊新城东区独流减河西侧，七排干东侧水岸澜轩14－1405室 - 司法拍卖 - 阿里拍卖\n",
      "['CDwindow-9EF1D32A6EC8DBDE97BA60545FC58192', 'CDwindow-343E8230D05BE7CA826C6EAC8073BF57']\n",
      "29本场拍卖已流拍 ！天津市滨海新区塘沽水景花都11-2-1102号房地产 - 司法拍卖 - 阿里拍卖\n",
      "['CDwindow-9EF1D32A6EC8DBDE97BA60545FC58192', 'CDwindow-33340BDFAB63B640887CDCF2F06AA3DF']\n",
      "30本场拍卖已流拍 ！北辰区小淀镇嘉阳花园44-1603 - 司法拍卖 - 阿里拍卖\n",
      "['CDwindow-9EF1D32A6EC8DBDE97BA60545FC58192', 'CDwindow-57A7A2277CC535EBEDCA9127ED0171D9']\n",
      "31本场拍卖已流拍 ！天津市宝坻区周良庄镇京津温泉城上京嵘园2-10-402号房屋 - 司法拍卖 - 阿里拍卖\n",
      "['CDwindow-9EF1D32A6EC8DBDE97BA60545FC58192', 'CDwindow-1D98F3909E6C1AABC1B5ABEE8AE67621']\n",
      "0本场拍卖已流拍 ！天津市宝坻区周良庄镇京津温泉城上京嵘园2-6-201号房屋 - 司法拍卖 - 阿里拍卖\n",
      "['CDwindow-9EF1D32A6EC8DBDE97BA60545FC58192', 'CDwindow-6F86D1CE84F6613E82B8055DE6630F41']\n",
      "1本场拍卖已流拍 ！武清区陈咀镇京福公路西侧金源丽1-2-601及1-2-103储居住房产  - 司法拍卖 - 阿里拍卖\n",
      "['CDwindow-9EF1D32A6EC8DBDE97BA60545FC58192', 'CDwindow-E80277C4205AAD8FE45E3E19CD358EC9']\n",
      "2本场拍卖已流拍 ！天津市和平区唐山道48号（原52-54号） - 司法拍卖 - 阿里拍卖\n",
      "['CDwindow-9EF1D32A6EC8DBDE97BA60545FC58192', 'CDwindow-61A43C2CCA72A6B9A84B5E18BCEB5656']\n",
      "3本场拍卖已流拍 ！天津市南开区阳光壹佰西园3-4-1001号房产 - 司法拍卖 - 阿里拍卖\n",
      "['CDwindow-9EF1D32A6EC8DBDE97BA60545FC58192', 'CDwindow-A4D5520411B6CDB630545CA03942D274']\n",
      "4本场拍卖已流拍 ！天津市滨海新区塘沽碧海长住4栋806号房产 - 司法拍卖 - 阿里拍卖\n",
      "['CDwindow-9EF1D32A6EC8DBDE97BA60545FC58192', 'CDwindow-DE90542AC496A4B84F9C31EAAEF89047']\n",
      "5本场拍卖已流拍 ！武清区陈咀镇政府路南侧怡景花园1-3-302号房屋 - 司法拍卖 - 阿里拍卖\n",
      "['CDwindow-9EF1D32A6EC8DBDE97BA60545FC58192', 'CDwindow-C82BB23131741A01D1B2856FA05195D3']\n",
      "6本场拍卖已流拍 ！天津市宝坻区周良庄镇京津温泉城上京嵘园1-2-202号房产 - 司法拍卖 - 阿里拍卖\n",
      "['CDwindow-9EF1D32A6EC8DBDE97BA60545FC58192', 'CDwindow-26B89A18FFEAC76F6CCBBCC121E17644']\n",
      "7本场拍卖已流拍 ！滨海新区塘沽久安里10-3-701房地产 - 司法拍卖 - 阿里拍卖\n",
      "['CDwindow-9EF1D32A6EC8DBDE97BA60545FC58192', 'CDwindow-F915EF2F9876B8BFF63340081AFF26B4']\n",
      "8本场拍卖已结束 ！武清区下朱庄京津公路西侧龙如园16-1-101 - 司法拍卖 - 阿里拍卖\n",
      "['CDwindow-9EF1D32A6EC8DBDE97BA60545FC58192', 'CDwindow-EF7F30BD76B2AAA07A1AF7F34C83CDF9']\n",
      "9本场拍卖已流拍 ！天津市东丽区景欣苑3号楼4门304-306号房屋 - 司法拍卖 - 阿里拍卖\n",
      "['CDwindow-9EF1D32A6EC8DBDE97BA60545FC58192', 'CDwindow-65CC11976C7390AA714132585196CD3B']\n",
      "10本场拍卖已流拍 ！滨海新区塘沽华云园22-3-502 - 司法拍卖 - 阿里拍卖\n",
      "['CDwindow-9EF1D32A6EC8DBDE97BA60545FC58192', 'CDwindow-243D05DEAD744B81FBBFA7AB760724F4']\n",
      "11本场拍卖已流拍 ！天津市滨海新区中新天津生态城中天大道539号尚苑5-2号房屋 - 司法拍卖 - 阿里拍卖\n",
      "['CDwindow-9EF1D32A6EC8DBDE97BA60545FC58192', 'CDwindow-91A4DFBF474F5AF257619FA37FC1724E']\n",
      "12本场拍卖已流拍 ！蓟州区乐园公寓8-2-401号 - 司法拍卖 - 阿里拍卖\n",
      "['CDwindow-9EF1D32A6EC8DBDE97BA60545FC58192', 'CDwindow-DF1C60F3FEC205B294ACA70BB7DE7251']\n",
      "13本场拍卖已结束 ！蓟县山倾城78-A205 - 司法拍卖 - 阿里拍卖\n",
      "['CDwindow-9EF1D32A6EC8DBDE97BA60545FC58192', 'CDwindow-868470398F78C9ACDF1F4DEE560D55BC']\n",
      "14本场拍卖已结束 ！天津市滨海新区汉沽大丰路弘瑞花园35号楼1门502室居住房地产 - 司法拍卖 - 阿里拍卖\n",
      "['CDwindow-9EF1D32A6EC8DBDE97BA60545FC58192', 'CDwindow-EFDEC918322DD0823067F438318C7465']\n",
      "15本场拍卖已结束 ！天津市宁河区佳园小区2-1-102号房地产 - 司法拍卖 - 阿里拍卖\n",
      "['CDwindow-9EF1D32A6EC8DBDE97BA60545FC58192', 'CDwindow-CCFCFEADC627271CCDCBD88ADC6626FF']\n",
      "16本场拍卖已流拍 ！天津市东丽区华丰家园26-101号房产 - 司法拍卖 - 阿里拍卖\n",
      "['CDwindow-9EF1D32A6EC8DBDE97BA60545FC58192', 'CDwindow-3F83BA715B8449023F7AECE616D6A3E9']\n",
      "17本场变卖失败天津市滨海新区塘沽丽景胜和园1-5-1301（建筑面积：156.22平方米） - 司法拍卖 - 阿里拍卖\n",
      "['CDwindow-9EF1D32A6EC8DBDE97BA60545FC58192', 'CDwindow-7AAE7C9D5D0D3899D85A510EA1765D2F']\n",
      "18本场拍卖已结束 ！天津市河西区郁江道33号246 - 司法拍卖 - 阿里拍卖\n",
      "['CDwindow-9EF1D32A6EC8DBDE97BA60545FC58192', 'CDwindow-CC4553A8C3CAE56C3E190F0F8983DABB']\n",
      "19本场拍卖已流拍 ！天津市南开区虹畔馨苑7-1-05（7-1-102）号房屋 - 司法拍卖 - 阿里拍卖\n",
      "['CDwindow-9EF1D32A6EC8DBDE97BA60545FC58192', 'CDwindow-68EC979920730ACFEAE2734EBA92809A']\n",
      "20本场拍卖已流拍 ！天津市津南区八里台镇枫情阳光城115-5 - 司法拍卖 - 阿里拍卖\n",
      "['CDwindow-9EF1D32A6EC8DBDE97BA60545FC58192', 'CDwindow-505C8CFC9BC77CEA9963ABBF7D74256A']\n",
      "21本场拍卖已流拍 ！天津市津南区八里台镇天嘉湖北侧瞰湖苑13-1-504 - 司法拍卖 - 阿里拍卖\n",
      "['CDwindow-9EF1D32A6EC8DBDE97BA60545FC58192', 'CDwindow-8693B02D13D7061F2EC227D27768C882']\n",
      "22本场拍卖已流拍 ！天津市津南区辛庄镇鑫洪路与南边界路交口明景苑5-1-402 - 司法拍卖 - 阿里拍卖\n",
      "['CDwindow-9EF1D32A6EC8DBDE97BA60545FC58192', 'CDwindow-8E825587433C4E9233423C17DFDD0521']\n",
      "23本场拍卖已结束 ！天津市滨海新区大港福苑里4-1-101 - 司法拍卖 - 阿里拍卖\n",
      "['CDwindow-9EF1D32A6EC8DBDE97BA60545FC58192', 'CDwindow-71F5C4276BAF8F8244BB0E0E5A249597']\n",
      "24本场拍卖已流拍 ！天津市滨海新区大港海滨街中区东里26-1205 - 司法拍卖 - 阿里拍卖\n",
      "['CDwindow-9EF1D32A6EC8DBDE97BA60545FC58192', 'CDwindow-A7015EE396200E2D426084FE6EADD0F4']\n",
      "25本场拍卖已流拍 ！天津市北辰区万科新城紫萍苑8-05号房屋 - 司法拍卖 - 阿里拍卖\n",
      "['CDwindow-9EF1D32A6EC8DBDE97BA60545FC58192', 'CDwindow-7DFDBB0FF7509F6F5EBD80EC8F1A2A0C']\n",
      "26本场变卖失败宝坻区周良庄镇京津温泉城内上京和园5区567D房地产 - 司法拍卖 - 阿里拍卖\n",
      "['CDwindow-9EF1D32A6EC8DBDE97BA60545FC58192', 'CDwindow-49F41F59D31EE6568F597E8A1855E444']\n",
      "27本场拍卖已结束 ！天津市滨海新区滨海旅游区瑞龙城30号楼-1-1304房地产 - 司法拍卖 - 阿里拍卖\n",
      "['CDwindow-9EF1D32A6EC8DBDE97BA60545FC58192', 'CDwindow-DDA8A28EE20A0B27B8C98227AEF4FF57']\n",
      "28本场拍卖已结束 ！天津市武清区新城规划光明道南侧枫丹天城房产 - 司法拍卖 - 阿里拍卖\n",
      "['CDwindow-9EF1D32A6EC8DBDE97BA60545FC58192', 'CDwindow-4FC919616D9E16C2B7C602861E9643C4']\n",
      "29本场拍卖已结束 ！天津市河西区友谊南路与绥江道交口西南侧恋海园3-1-401房地产 - 司法拍卖 - 阿里拍卖\n",
      "['CDwindow-9EF1D32A6EC8DBDE97BA60545FC58192', 'CDwindow-F3C8DBA3BC1BCC2681EFE2D10546E8ED']\n",
      "30本场拍卖已流拍 ！天津市河北区秀山花园7-3-505-510号房屋 - 司法拍卖 - 阿里拍卖\n",
      "['CDwindow-9EF1D32A6EC8DBDE97BA60545FC58192', 'CDwindow-4C9E14CF5EDB1CE42D8398909CA6C6B5']\n",
      "31本场拍卖已结束 ！天津市北辰区桃香园55-5-601号房屋 - 司法拍卖 - 阿里拍卖\n"
     ]
    }
   ],
   "source": [
    "for i in range(1,4):\n",
    "    if (i > 1):\n",
    "        driver.find_element_by_link_text(str(i)).click()\n",
    "    else:\n",
    "        pass\n",
    "    \n",
    "    time.sleep(1)\n",
    "    data = driver.find_element_by_id(\"sf-item-list-data\").get_attribute('innerHTML')\n",
    "    jsonData =  json.loads(data)\n",
    "    jd = jsonData[\"data\"]\n",
    "    for i in range(len(jd)):\n",
    "        num = jd[i][\"id\"]\n",
    "        url = \"#pai-item-\"+str(num)+\" .pic\"\n",
    "        urlList.append(url)\n",
    "        driver.find_element_by_css_selector(url).click()\n",
    "        time.sleep(1)\n",
    "        handles = driver.window_handles\n",
    "        print(handles)\n",
    "        driver.switch_to.window(handles[1])\n",
    "        data = driver.find_element_by_class_name(\"bid-fail\").text\n",
    "        print(str(i) + data+driver.title)\n",
    "        driver.close()\n",
    "        driver.switch_to.window(handles[0])\n"
   ]
  },
  {
   "cell_type": "code",
   "execution_count": 7,
   "metadata": {},
   "outputs": [],
   "source": [
    "#for i in range(len(urlList))\n",
    "\n",
    "\n",
    "#     driver.switchTo().window(\"vars.get(\"root\").toString()\");\n",
    "#     driver.findElement(By.cssSelector(\"#pai-item-591508706185 .pic\")).click();\n",
    "#     driver.switchTo().window(\"vars.get(\"win8140\").toString()\");\n",
    "#     driver.close();"
   ]
  },
  {
   "cell_type": "code",
   "execution_count": 8,
   "metadata": {},
   "outputs": [],
   "source": [
    "#urlList"
   ]
  },
  {
   "cell_type": "code",
   "execution_count": null,
   "metadata": {},
   "outputs": [],
   "source": []
  },
  {
   "cell_type": "code",
   "execution_count": 9,
   "metadata": {},
   "outputs": [],
   "source": [
    "#590871909472\n",
    "#pai-item-591508706185 .pic"
   ]
  },
  {
   "cell_type": "code",
   "execution_count": null,
   "metadata": {},
   "outputs": [],
   "source": []
  },
  {
   "cell_type": "code",
   "execution_count": null,
   "metadata": {},
   "outputs": [],
   "source": []
  },
  {
   "cell_type": "code",
   "execution_count": null,
   "metadata": {},
   "outputs": [],
   "source": []
  },
  {
   "cell_type": "code",
   "execution_count": 10,
   "metadata": {},
   "outputs": [],
   "source": [
    "#data = driver.find_element_by_class_name(\"bid-fail\").text\n",
    "#print(data)"
   ]
  },
  {
   "cell_type": "code",
   "execution_count": 11,
   "metadata": {},
   "outputs": [],
   "source": [
    "#d = driver.find_element_by_id(\"sf-item-list-data\").get_attribute('innerHTML')\n"
   ]
  },
  {
   "cell_type": "code",
   "execution_count": 12,
   "metadata": {},
   "outputs": [],
   "source": [
    "#jd = json.loads(d)\n"
   ]
  },
  {
   "cell_type": "code",
   "execution_count": 13,
   "metadata": {},
   "outputs": [],
   "source": [
    "# for i in range(len(jd[\"data\"])):\n",
    "#     print(jd[\"data\"][i][\"id\"])"
   ]
  },
  {
   "cell_type": "code",
   "execution_count": 14,
   "metadata": {},
   "outputs": [],
   "source": [
    "#driver.find_element_by_css_selector(url).click()"
   ]
  }
 ],
 "metadata": {
  "kernelspec": {
   "display_name": "Python 3",
   "language": "python",
   "name": "python3"
  },
  "language_info": {
   "codemirror_mode": {
    "name": "ipython",
    "version": 3
   },
   "file_extension": ".py",
   "mimetype": "text/x-python",
   "name": "python",
   "nbconvert_exporter": "python",
   "pygments_lexer": "ipython3",
   "version": "3.7.1"
  }
 },
 "nbformat": 4,
 "nbformat_minor": 2
}
