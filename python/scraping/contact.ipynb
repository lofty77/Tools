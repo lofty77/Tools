{
 "cells": [
  {
   "cell_type": "code",
   "execution_count": 1,
   "metadata": {},
   "outputs": [],
   "source": [
    "from selenium import webdriver\n",
    "from selenium.webdriver.common.by import By\n",
    "from selenium.webdriver.support.ui import WebDriverWait\n",
    "from selenium.webdriver.support import expected_conditions as EC\n",
    "import json\n",
    "import time\n",
    "import csv\n",
    "import pandas as pd\n",
    "import re"
   ]
  },
  {
   "cell_type": "code",
   "execution_count": 2,
   "metadata": {},
   "outputs": [
    {
     "name": "stdout",
     "output_type": "stream",
     "text": [
      "['CDwindow-25983AB9D3ED72825395E8A9E0AF7555']\n",
      "['CDwindow-25983AB9D3ED72825395E8A9E0AF7555', 'CDwindow-2154714DAE8CCD0B12ADF2B7657BA28F']\n",
      "title: 宁波海运行业导航_集装箱码头_北三集司码头查询\n",
      "name :受理中心 number :电   话：0574-27699252\n",
      "                                                                                \n",
      "name :检查桥 number :电   话：0574-27699250\n",
      "                                                                                \n",
      "name :堆场计划 number :电   话：0574-27699228\n",
      "                                                                                \n",
      "name :配载 number :电   话：0574-27699229\n",
      "                                                                                \n",
      "name :控制中心 number :电   话：0574-27699213\n",
      "                                                                                \n",
      "name :空箱箱管 number :电   话：0574-27699772\n",
      "                                                                                \n",
      "name :服务热线 number :电   话：0574-27699888\n",
      "                                                                                \n",
      "name :中转/收据兑换 number :电   话：0574-27699252\n",
      "                                                                                \n",
      "name :进口 number :电   话：0574-27699357\n",
      "                                                                                \n"
     ]
    }
   ],
   "source": [
    "# Start the driver\n",
    "driver = webdriver.Chrome()\n",
    "# Setup wait for later\n",
    "wait = WebDriverWait(driver, 10)\n",
    "\n",
    "driver.get(\"http://www.weiyun001.com/account/login.html\");\n",
    "\n",
    "\n",
    "time.sleep(1)\n",
    "\n",
    "driver.find_element_by_id(\"wx-btn\").click()\n",
    "\n",
    "\n",
    "time.sleep(10)\n",
    "\n",
    "\n",
    "driver.find_element_by_link_text(\"海运黄页\").click()\n",
    "\n",
    "time.sleep(1)\n",
    "\n",
    "driver.find_element_by_link_text(\"宁波\").click()\n",
    "\n",
    "time.sleep(1)\n",
    "print(driver.window_handles)\n",
    "\n",
    "driver.find_element_by_link_text(\"北三集司码头\").click()\n",
    "\n",
    "wait.until(EC.number_of_windows_to_be(2))\n",
    "\n",
    "handles = driver.window_handles\n",
    "\n",
    "driver.switch_to.window(handles[1])\n",
    "\n",
    "\n",
    "print(driver.window_handles)\n",
    "\n",
    "print(\"title: \" + driver.title)\n",
    "\n",
    "cards  = driver.find_elements_by_class_name(\"u-card1\")\n",
    "\n",
    "\n",
    "for card in cards:\n",
    "    name = card.find_element_by_tag_name(\"h3\").get_attribute('textContent')\n",
    "    number = card.find_element_by_class_name(\"card-bd\").get_attribute('textContent').lstrip()\n",
    "    print(\"name :\" + name +\" number :\" + number)\n",
    "\n",
    "\n"
   ]
  },
  {
   "cell_type": "code",
   "execution_count": null,
   "metadata": {},
   "outputs": [],
   "source": []
  },
  {
   "cell_type": "code",
   "execution_count": 3,
   "metadata": {},
   "outputs": [],
   "source": [
    "driver.quit()"
   ]
  }
 ],
 "metadata": {
  "kernelspec": {
   "display_name": "Python 3",
   "language": "python",
   "name": "python3"
  },
  "language_info": {
   "codemirror_mode": {
    "name": "ipython",
    "version": 3
   },
   "file_extension": ".py",
   "mimetype": "text/x-python",
   "name": "python",
   "nbconvert_exporter": "python",
   "pygments_lexer": "ipython3",
   "version": "3.7.1"
  }
 },
 "nbformat": 4,
 "nbformat_minor": 2
}
