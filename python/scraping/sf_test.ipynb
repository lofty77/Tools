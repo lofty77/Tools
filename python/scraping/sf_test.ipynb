{
 "cells": [
  {
   "cell_type": "code",
   "execution_count": 1,
   "metadata": {},
   "outputs": [],
   "source": [
    "from selenium import webdriver\n",
    "from selenium.webdriver.common.by import By\n",
    "from selenium.webdriver.support.ui import WebDriverWait\n",
    "from selenium.webdriver.support import expected_conditions as EC\n",
    "import json\n",
    "import time\n",
    "import csv\n",
    "import pandas as pd\n",
    "import re"
   ]
  },
  {
   "cell_type": "code",
   "execution_count": 2,
   "metadata": {},
   "outputs": [
    {
     "data": {
      "text/plain": [
       "'2019-05-18 10:44:34'"
      ]
     },
     "execution_count": 2,
     "metadata": {},
     "output_type": "execute_result"
    }
   ],
   "source": [
    "# time\n",
    "t1 = time.time()\n",
    "time.strftime('%Y-%m-%d %H:%M:%S',time.localtime(t1))\n"
   ]
  },
  {
   "cell_type": "code",
   "execution_count": 3,
   "metadata": {},
   "outputs": [],
   "source": [
    "bidInfo = {}"
   ]
  },
  {
   "cell_type": "code",
   "execution_count": 4,
   "metadata": {},
   "outputs": [
    {
     "data": {
      "text/plain": [
       "83"
      ]
     },
     "execution_count": 4,
     "metadata": {},
     "output_type": "execute_result"
    }
   ],
   "source": [
    "csvFile = open(\"namelist.csv\",\"w+\")\n",
    "writer = csv.writer(csvFile)\n",
    "\n",
    "bidInfo = {}\n",
    "\n",
    "header = (\"name\",\"date\",\"title\",\"consultPrice\",\"currentPrice\",\"bidCount\",\"delayCount\",\"applyCount\",\"area\",\"url\")\n",
    "\n",
    "writer.writerow(header)\n",
    "\n",
    "#writer.writerow(('name','url'))\n",
    "\n"
   ]
  },
  {
   "cell_type": "code",
   "execution_count": 5,
   "metadata": {},
   "outputs": [],
   "source": [
    "sourceUrl = \"https://sf.taobao.com/item_list.htm?category=50025969&auction_source=0&province=%CC%EC%BD%F2&sorder=2\" \\\n",
    "                 \"&st_param=-1&auction_start_from=2018-01-01&auction_start_to=2019-05-13&spm=a213w.3064813.9001.2\"  \n",
    "\n"
   ]
  },
  {
   "cell_type": "code",
   "execution_count": 6,
   "metadata": {},
   "outputs": [],
   "source": [
    "# Start the driver\n",
    "driver = webdriver.Chrome()\n",
    "# Setup wait for later\n",
    "wait = WebDriverWait(driver, 10)\n",
    "\n",
    "driver.get(sourceUrl)\n",
    "\n",
    "# Store the ID of the original window\n",
    "original_window = driver.current_window_handle\n",
    "\n",
    "# Check we don't have other windows open already\n",
    "assert len(driver.window_handles) == 1"
   ]
  },
  {
   "cell_type": "code",
   "execution_count": 7,
   "metadata": {},
   "outputs": [
    {
     "data": {
      "text/plain": [
       "<selenium.webdriver.remote.webelement.WebElement (session=\"b90762fe753cb51c7847b4ea3cc355cc\", element=\"0.4031990617606025-1\")>"
      ]
     },
     "execution_count": 7,
     "metadata": {},
     "output_type": "execute_result"
    }
   ],
   "source": [
    "wait.until(EC.presence_of_element_located((By.CLASS_NAME, \"page-total\")))\n",
    "#pages = driver.find_element_by_class_name(\"page-total\").text\n"
   ]
  },
  {
   "cell_type": "code",
   "execution_count": 8,
   "metadata": {},
   "outputs": [],
   "source": [
    "#test page \n",
    "pages = 1"
   ]
  },
  {
   "cell_type": "code",
   "execution_count": 9,
   "metadata": {},
   "outputs": [
    {
     "name": "stdout",
     "output_type": "stream",
     "text": [
      "***item failed******: Page :1   Item :0\n",
      "***item failed******: Page :1   Item :1\n",
      "***item failed******: Page :1   Item :2\n",
      "***item failed******: Page :1   Item :3\n",
      "Name: 杨宁: Page :1   Item :4\n",
      "area :116.97\n",
      "Name: 魏环利: Page :1   Item :5\n",
      "area :85.05\n",
      "Name: 李玉芹: Page :1   Item :6\n",
      "area :41.79\n",
      "Name: 于德龙: Page :1   Item :7\n",
      "area :95.14\n",
      "***item failed******: Page :1   Item :8\n",
      "Name: 张丹琪: Page :1   Item :9\n",
      "area :137.02\n",
      "***item failed******: Page :1   Item :10\n",
      "***item failed******: Page :1   Item :11\n",
      "***item failed******: Page :1   Item :12\n",
      "***item failed******: Page :1   Item :13\n",
      "***item failed******: Page :1   Item :14\n",
      "***item failed******: Page :1   Item :15\n",
      "***item failed******: Page :1   Item :16\n",
      "***item failed******: Page :1   Item :17\n",
      "***item failed******: Page :1   Item :18\n",
      "***item failed******: Page :1   Item :19\n",
      "***item failed******: Page :1   Item :20\n",
      "***item failed******: Page :1   Item :21\n",
      "***item failed******: Page :1   Item :22\n",
      "***item failed******: Page :1   Item :23\n",
      "***item failed******: Page :1   Item :24\n",
      "***item failed******: Page :1   Item :25\n",
      "***item failed******: Page :1   Item :26\n",
      "***item failed******: Page :1   Item :27\n",
      "Name: 郭慧杰: Page :1   Item :28\n",
      "area :0\n",
      "Name: 夏建明: Page :1   Item :29\n",
      "area :89.37\n",
      "Name: 陈健: Page :1   Item :30\n",
      "area :117.05\n",
      "***item failed******: Page :1   Item :31\n"
     ]
    }
   ],
   "source": [
    "for page in range(1,int(pages)+1):\n",
    "    if (page > 1):\n",
    "        driver.find_element_by_link_text(str(page)).click()\n",
    "        time.sleep(1)\n",
    "    \n",
    "    wait.until(EC.presence_of_element_located((By.CLASS_NAME, \"sf-pai-item-list\")))\n",
    "    data = driver.find_element_by_id(\"sf-item-list-data\").get_attribute('innerHTML')\n",
    "    jsonData =  json.loads(data)\n",
    "    items = jsonData[\"data\"]\n",
    "    \n",
    "    itemLen = len(items)\n",
    "    for item in range(itemLen):    \n",
    "    #for item in range(4):        \n",
    "        bidInfo[\"status\"] = items[item][\"status\"]\n",
    "\n",
    "        \n",
    "        if(bidInfo[\"status\"] == \"done\"):\n",
    "            \n",
    "            bidInfo[\"id\"] = items[item][\"id\"]\n",
    "            bidInfo[\"title\"] = items[item][\"title\"]\n",
    "            bidInfo[\"consultPrice\"] = items[item][\"consultPrice\"]\n",
    "            bidInfo[\"currentPrice\"] = items[item][\"currentPrice\"]\n",
    "            bidInfo[\"bidCount\"] = items[item][\"bidCount\"]\n",
    "            bidInfo[\"delayCount\"] = items[item][\"delayCount\"]\n",
    "            bidInfo[\"applyCount\"] = items[item][\"applyCount\"]\n",
    "\n",
    "            url = \"#pai-item-\"+str(bidInfo[\"id\"])\n",
    "            # Click the link which opens in a new window\n",
    "            driver.find_element_by_css_selector(url).click()\n",
    "            time.sleep(1) # have to wait sometime\n",
    "\n",
    "            # Wait for the new window or tab\n",
    "            wait.until(EC.number_of_windows_to_be(2))\n",
    "            handles = driver.window_handles\n",
    "            driver.switch_to.window(handles[1])\n",
    "            # size\n",
    "            \n",
    "            urlNew = driver.current_url\n",
    "            url2 = str(urlNew)+\"#J_Confirmation\"\n",
    "            driver.get(url2)\n",
    "            \n",
    "            \n",
    "            wait.until(EC.presence_of_element_located((By.CLASS_NAME, \"content-wrap\")))\n",
    "            info = driver.find_element_by_class_name(\"c-content\").text\n",
    "            index = info.find(\"通过\")\n",
    "            \n",
    "            # getName\n",
    "            bidInfo[\"name\"] = info[4:index]\n",
    "            # getDate\n",
    "            bidInfo[\"date\"] = driver.find_element_by_class_name(\"c-stamp\").text\n",
    "            \n",
    "\n",
    "            #print\n",
    "            print(\"Name: \"+bidInfo[\"name\"]+\": Page :\"+str(page)+\"   Item :\"+str(item))\n",
    "\n",
    "\n",
    "\n",
    "           # get area\n",
    "            driver.get(str(urlNew)+\"#NoticeDetail\")\n",
    "            time.sleep(1)\n",
    "            notice = driver.find_element_by_id(\"J_NoticeDetail\").get_attribute('textContent')            \n",
    "            left = notice.find(\"面积\")\n",
    "            right = notice.find(\"方米\")\n",
    "            size = notice[(left+2) : right]\n",
    "            \n",
    "            if(len(size) < 20):\n",
    "                area = (re.findall(r\"\\d+\\.?\\d*\",size))[0]\n",
    "            else:\n",
    "                area = 0\n",
    "            \n",
    "            bidInfo[\"area\"] = area\n",
    "            bidInfo[\"url\"] = urlNew\n",
    "\n",
    "            print(\"area :\" + str(area) )\n",
    "\n",
    "\n",
    "\n",
    "            \n",
    "            # add to file\n",
    "#            writer.writerow((bidInfo[\"name\"],driver.current_url))\n",
    "#           (\"name\",\"date\",\"title\",\"consultPrice\",\"currentPrice\",\"bidCount\",\"delayCount\",\"applyCount\",\"area\",\"url\")\n",
    "\n",
    "            writer.writerow((bidInfo[\"name\"],bidInfo[\"date\"],bidInfo[\"title\"],\n",
    "                                   bidInfo[\"consultPrice\"],bidInfo[\"currentPrice\"],\n",
    "                                   bidInfo[\"bidCount\"],bidInfo[\"delayCount\"],bidInfo[\"applyCount\"],\n",
    "                                   bidInfo[\"area\"],bidInfo[\"url\"]\n",
    "                                 ))\n",
    "                                 \n",
    "\n",
    "            driver.close()\n",
    "            driver.switch_to.window(handles[0])\n",
    "        else:\n",
    "            print(\"***item failed******\"+\": Page :\"+str(page)+\"   Item :\"+str(item))\n",
    "\n"
   ]
  },
  {
   "cell_type": "code",
   "execution_count": 10,
   "metadata": {},
   "outputs": [],
   "source": [
    "driver.quit()"
   ]
  },
  {
   "cell_type": "code",
   "execution_count": 11,
   "metadata": {},
   "outputs": [],
   "source": [
    "csvFile.close()\n",
    "csv = pd.read_csv('namelist.csv', encoding='utf-8')\n",
    "csv.to_excel('namelist.xlsx', sheet_name='data')"
   ]
  },
  {
   "cell_type": "code",
   "execution_count": 12,
   "metadata": {},
   "outputs": [
    {
     "name": "stdout",
     "output_type": "stream",
     "text": [
      "00:00:32\n"
     ]
    }
   ],
   "source": [
    "t2 = time.time()\n",
    "time.strftime('%Y-%m-%d %H:%M:%S',time.localtime(t2))\n",
    "\n",
    "seconds = t2 - t1\n",
    "m, s = divmod(seconds, 60)\n",
    "h, m = divmod(m, 60)\n",
    "print (\"%02d:%02d:%02d\" % (h, m, s))\n"
   ]
  },
  {
   "cell_type": "code",
   "execution_count": 13,
   "metadata": {},
   "outputs": [],
   "source": [
    "#            print(\"URL: \"+driver.current_url)\n",
    "#             print(\"id:\"+str(bidInfo[\"id\"])+\" title: \"+bidInfo[\"title\"])\n",
    "#             print(\"consultPrice:\"+str(bidInfo[\"consultPrice\"]) + \" currentPrice:\" +str(bidInfo[\"currentPrice\"]))\n",
    "#             print(\"bidCount:\"+str(bidInfo[\"bidCount\"]) +\" delayCount:\"+str(bidInfo[\"delayCount\"])+\" applyCount:\"+str(bidInfo[\"applyCount\"]))\n",
    "#             print(\"date:\"+bidInfo[\"date\"])"
   ]
  }
 ],
 "metadata": {
  "kernelspec": {
   "display_name": "Python 3",
   "language": "python",
   "name": "python3"
  },
  "language_info": {
   "codemirror_mode": {
    "name": "ipython",
    "version": 3
   },
   "file_extension": ".py",
   "mimetype": "text/x-python",
   "name": "python",
   "nbconvert_exporter": "python",
   "pygments_lexer": "ipython3",
   "version": "3.7.1"
  }
 },
 "nbformat": 4,
 "nbformat_minor": 2
}
