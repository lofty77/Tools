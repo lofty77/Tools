{
 "cells": [
  {
   "cell_type": "code",
   "execution_count": 1,
   "metadata": {},
   "outputs": [],
   "source": [
    "from pyecharts.engine import create_default_environment\n",
    "\n",
    "\n",
    "import xlrd\n",
    "data = xlrd.open_workbook(r'/home/liang.liang/code/Tools/python/pycharts/test.xlsx')\n",
    "#data = xlrd.open_workbook(r'/home/liang.liang/code/Tools/python/pycharts/2019CW12.1.xlsx')\n",
    "#data = xlrd.open_workbook(r'/home/liang.liang/code/Tools/python/pycharts/workitems2019.xlsx')\n",
    "\n",
    "\n",
    "table = data.sheets()[0]\n",
    "\n",
    "\n",
    "Data =  {\"KeyID\":table.col_values(2,1),\n",
    "         \"delayDays\":[int(i)/8 for i in table.col_values(3,1) ],\n",
    "         \"funcGroup\":table.col_values(4,1),\n",
    "         \"status\":table.col_values(5,1),\n",
    "         \"group\":table.col_values(6,1),\n",
    "         \"targetCW\":table.col_values(7,1)   #targetCW\n",
    "\n",
    "        }\n",
    "\n",
    "\n",
    "status = (\"New\",\"In Analysis\",\"Pending\",\"In Implementation\",\"In Testing\",\"Released\")\n",
    "group  = (\"Audio\",\"Media\",\"Radio\",\"Online\",\"HMI\",\"SDS\",\"AndroidApp\",\"AndroidOS\",\"Update\",\"Navi\",\"System\",\"CarConnect\")\n",
    "\n",
    "###\n",
    "groupTimeLine = {}\n",
    "\n",
    "groupTimeLine[\"All\"] = {\"New\":[],\"In Analysis\":[],\"Pending\":[],\"In Implementation\":[],\"In Testing\":[],\"Released\":[]}\n",
    "\n",
    "for i in group:\n",
    "    groupTimeLine[\"%s\" %i] = {\"New\":[],\"In Analysis\":[],\"Pending\":[],\"In Implementation\":[],\"In Testing\":[],\"Released\":[]}\n",
    "\n",
    "###\n",
    "\n",
    "groupBar = {}\n",
    "for i in group:\n",
    "    groupBar[\"%s\" %i] =  {\"New\":0,\"In Analysis\":0,\"Pending\":0,\"In Implementation\":0,\"In Testing\":0,\"Released\":0}    \n",
    "\n",
    "###\n",
    "\n",
    "delay = {}\n",
    "for i in status:\n",
    "    delay[\"%s\" %i] = [0]*len(group)\n",
    "#####\n",
    "\n",
    "\n",
    "###\n",
    "\n",
    "\n",
    "\n",
    "\n",
    "\n",
    "featureLen = len(Data[\"KeyID\"])\n",
    "\n",
    "autoHeigh = featureLen*16\n",
    "autowidth = 1200\n",
    "\n",
    "countReleased = Data[\"status\"].count(\"Released\")"
   ]
  },
  {
   "cell_type": "code",
   "execution_count": 2,
   "metadata": {},
   "outputs": [],
   "source": [
    "# start cw status overview report"
   ]
  },
  {
   "cell_type": "code",
   "execution_count": 3,
   "metadata": {},
   "outputs": [
    {
     "data": {
      "text/plain": [
       "['CW01',\n",
       " 'CW02',\n",
       " 'CW03',\n",
       " 'CW04',\n",
       " 'CW05',\n",
       " 'CW06',\n",
       " 'CW07',\n",
       " 'CW08',\n",
       " 'CW09',\n",
       " 'CW10',\n",
       " 'CW11']"
      ]
     },
     "execution_count": 3,
     "metadata": {},
     "output_type": "execute_result"
    }
   ],
   "source": [
    "CWs = []\n",
    "for i in range(1,12):\n",
    "    CWs.append(\"CW%02d\" %i)\n",
    "CWs"
   ]
  },
  {
   "cell_type": "code",
   "execution_count": 4,
   "metadata": {},
   "outputs": [
    {
     "data": {
      "text/plain": [
       "{'New': [0, 0, 0, 0, 0, 0, 0, 0, 0, 0, 0],\n",
       " 'In Analysis': [0, 0, 0, 0, 0, 0, 0, 0, 0, 0, 0],\n",
       " 'Pending': [0, 0, 0, 0, 0, 0, 0, 0, 0, 0, 0],\n",
       " 'In Implementation': [0, 0, 0, 0, 0, 0, 0, 0, 0, 0, 0],\n",
       " 'In Testing': [0, 0, 0, 0, 0, 0, 0, 0, 0, 0, 0],\n",
       " 'Released': [0, 0, 0, 0, 0, 0, 0, 0, 0, 0, 0]}"
      ]
     },
     "execution_count": 4,
     "metadata": {},
     "output_type": "execute_result"
    }
   ],
   "source": [
    "cwFeatures ={}\n",
    "for i in status:\n",
    "    cwFeatures[\"%s\" %i]=[0]*len(CWs)\n",
    "cwFeatures"
   ]
  },
  {
   "cell_type": "code",
   "execution_count": null,
   "metadata": {},
   "outputs": [],
   "source": []
  },
  {
   "cell_type": "code",
   "execution_count": 5,
   "metadata": {},
   "outputs": [],
   "source": [
    "\n",
    "for st in status:\n",
    "    for cw in range(0,11):\n",
    "        cw1 = \"%02d\" % (cw+1)\n",
    "        for i in range(0,featureLen):\n",
    "            if(Data[\"status\"][i] == st and Data[\"targetCW\"][i] == cw1 ):\n",
    "                cwFeatures[st][cw] += 1\n",
    "\n"
   ]
  },
  {
   "cell_type": "code",
   "execution_count": 6,
   "metadata": {},
   "outputs": [
    {
     "data": {
      "text/plain": [
       "{'New': [0, 0, 0, 0, 0, 0, 0, 0, 0, 0, 92],\n",
       " 'In Analysis': [0, 0, 0, 0, 0, 0, 0, 0, 0, 0, 0],\n",
       " 'Pending': [0, 0, 0, 0, 0, 0, 0, 0, 0, 0, 0],\n",
       " 'In Implementation': [0, 0, 0, 0, 2, 0, 2, 0, 0, 0, 27],\n",
       " 'In Testing': [0, 0, 0, 0, 19, 0, 16, 0, 0, 0, 3],\n",
       " 'Released': [0, 0, 0, 0, 57, 0, 13, 0, 0, 1, 0]}"
      ]
     },
     "execution_count": 6,
     "metadata": {},
     "output_type": "execute_result"
    }
   ],
   "source": [
    "cwFeatures"
   ]
  },
  {
   "cell_type": "code",
   "execution_count": 7,
   "metadata": {},
   "outputs": [
    {
     "ename": "NameError",
     "evalue": "name 'bar' is not defined",
     "output_type": "error",
     "traceback": [
      "\u001b[0;31m---------------------------------------------------------------------------\u001b[0m",
      "\u001b[0;31mNameError\u001b[0m                                 Traceback (most recent call last)",
      "\u001b[0;32m<ipython-input-7-9d8bdbfff3a9>\u001b[0m in \u001b[0;36m<module>\u001b[0;34m\u001b[0m\n\u001b[1;32m     20\u001b[0m \u001b[0;34m\u001b[0m\u001b[0m\n\u001b[1;32m     21\u001b[0m \u001b[0;34m\u001b[0m\u001b[0m\n\u001b[0;32m---> 22\u001b[0;31m \u001b[0mbar\u001b[0m\u001b[0;34m\u001b[0m\u001b[0;34m\u001b[0m\u001b[0m\n\u001b[0m\u001b[1;32m     23\u001b[0m \u001b[0;34m\u001b[0m\u001b[0m\n\u001b[1;32m     24\u001b[0m \u001b[0;31m#env = create_default_environment(\"html\")\u001b[0m\u001b[0;34m\u001b[0m\u001b[0;34m\u001b[0m\u001b[0;34m\u001b[0m\u001b[0m\n",
      "\u001b[0;31mNameError\u001b[0m: name 'bar' is not defined"
     ]
    }
   ],
   "source": [
    "from pyecharts import Bar\n",
    "\n",
    "\n",
    "barCW = Bar(title=\"Feature Status\", title_text_size = 20\n",
    "          ,subtitle =\"Current status for 2019 CW\"\n",
    "          ,width = autowidth)\n",
    "\n",
    "\n",
    "\n",
    "for i in status:\n",
    "    barCW.add(i, CWs, cwFeatures[i]\n",
    "        ,xaxis_rotate=0,yaxis_rotate=0,xaxis_interval= 0\n",
    "        ,is_label_show=False,yaxis_pos = \"left\"\n",
    "        ,xaxis_type = 'category',is_stack = True,is_convert = True,yaxis_label_textsize = 12\n",
    "        ,yaxis_name_gap = 5\n",
    "        ,is_toolbox_show = True,is_more_utils=True\n",
    "        ,yaxis_interval = 0,yaxis_margin= 0\n",
    "        ,legend_pos=\"30%\"\n",
    "           )\n",
    "    \n",
    "    \n",
    "bar\n",
    "\n",
    "#env = create_default_environment(\"html\")\n",
    "#env.render_chart_to_file(barCW, path='CW.html')\n"
   ]
  },
  {
   "cell_type": "code",
   "execution_count": null,
   "metadata": {},
   "outputs": [],
   "source": []
  },
  {
   "cell_type": "code",
   "execution_count": null,
   "metadata": {},
   "outputs": [],
   "source": [
    "# end"
   ]
  },
  {
   "cell_type": "code",
   "execution_count": null,
   "metadata": {},
   "outputs": [],
   "source": []
  },
  {
   "cell_type": "code",
   "execution_count": null,
   "metadata": {},
   "outputs": [],
   "source": [
    "for i in groupTimeLine.keys():\n",
    "    for j in status:\n",
    "        groupTimeLine[i][j] = [0]*featureLen\n",
    "    \n",
    "\n",
    "#groupTimeLine"
   ]
  },
  {
   "cell_type": "code",
   "execution_count": null,
   "metadata": {},
   "outputs": [],
   "source": [
    "for i in range(featureLen):\n",
    "    groupTimeLine[\"All\"][Data[\"status\"][i]][i] = Data[\"delayDays\"][i]\n",
    "    groupTimeLine[Data[\"group\"][i]][Data[\"status\"][i]][i] = Data[\"delayDays\"][i]\n",
    "    \n",
    "    groupBar[Data[\"group\"][i]][Data[\"status\"][i]] += 1\n",
    "\n",
    "    \n",
    "#groupTimeLine"
   ]
  },
  {
   "cell_type": "code",
   "execution_count": null,
   "metadata": {},
   "outputs": [],
   "source": [
    "for i in status:\n",
    "    groupCount = 0\n",
    "    for j in group:\n",
    "        delay[i][groupCount] = groupBar[j][i]\n",
    "        groupCount += 1"
   ]
  },
  {
   "cell_type": "code",
   "execution_count": null,
   "metadata": {},
   "outputs": [],
   "source": [
    "from pyecharts import Liquid\n",
    "\n",
    "liquid = Liquid(title=\"37W Project\", title_text_size = 20\n",
    "              ,subtitle = \"Features Completion Rate\"\n",
    "             \n",
    "             )\n",
    "liquid.add(\"Liquid\", [countReleased/1008],width = autowidth/2)\n",
    "#liquid.render()"
   ]
  },
  {
   "cell_type": "code",
   "execution_count": null,
   "metadata": {},
   "outputs": [],
   "source": []
  },
  {
   "cell_type": "code",
   "execution_count": null,
   "metadata": {},
   "outputs": [],
   "source": [
    "\n",
    "from pyecharts import Bar\n",
    "\n",
    "\n",
    "bar = Bar(title=\"Feature Status\", title_text_size = 20\n",
    "          ,subtitle =\"Current status for each group\"\n",
    "          ,width = autowidth)\n",
    "\n",
    "\n",
    "\n",
    "for i in status:\n",
    "    bar.add(i, group, delay[i] \n",
    "        ,xaxis_rotate=30,yaxis_rotate=0,xaxis_interval= 0\n",
    "        ,is_label_show=False,yaxis_pos = \"left\"\n",
    "        ,xaxis_type = 'category',is_stack = True,is_convert = False,yaxis_label_textsize = 12\n",
    "        ,yaxis_name_gap = 5\n",
    "        ,is_toolbox_show = True,is_more_utils=True\n",
    "        ,yaxis_interval = 0,yaxis_margin= 0\n",
    "        ,legend_pos=\"30%\"\n",
    "           )\n",
    "    \n",
    "    \n",
    "bar    \n",
    "#env = create_default_environment(\"html\")\n",
    "#env.render_chart_to_file(bar, path='demo1.html')\n",
    "\n",
    "\n",
    "\n"
   ]
  },
  {
   "cell_type": "code",
   "execution_count": null,
   "metadata": {},
   "outputs": [],
   "source": [
    "\n",
    "'''\n",
    "from pyecharts import Bar, Timeline\n",
    "\n",
    "from random import randint\n",
    "\n",
    "from pyecharts.engine import create_default_environment\n",
    "\n",
    "class BarCreator:\n",
    "    def __init__(self, val):\n",
    "        self.value = val\n",
    "\n",
    "Bars = {}\n",
    "for i in groupTimeLine.keys():\n",
    "    Bars[i] = BarCreator(Bar(i\n",
    "                             ,\"Total Delay Items:\"+str(featureLen)+ \". \" \n",
    "                             + \"Y axis:Feature keyID,  \" + \"X axis:days overdue\"\n",
    "                             ,width = autowidth, height = autoHeigh\n",
    "                            ))\n",
    "    for j in status:    \n",
    "        Bars[i].value.add(j, Data[\"KeyID\"],groupTimeLine[i][j]\n",
    "        ,xaxis_rotate=0,yaxis_rotate=0,xaxis_interval= 0\n",
    "        ,is_label_show=False,yaxis_pos = \"left\"\n",
    "        ,xaxis_type = 'category',is_stack = True,is_convert = True,yaxis_label_textsize = 12\n",
    "        ,yaxis_name_gap = 5\n",
    "        ,is_toolbox_show = True,is_more_utils=True\n",
    "        ,yaxis_interval = 0,yaxis_margin= 0\n",
    "        ,legend_pos=\"15%\"\n",
    "       )\n",
    "\n",
    "        \n",
    "timeline = Timeline(is_auto_play=False, timeline_bottom=0,width = autowidth, height = autoHeigh)\n",
    "\n",
    "for i in groupTimeLine.keys():\n",
    "    timeline.add(Bars[i].value, i)\n",
    "\n",
    "    \n",
    "timeline\n",
    "#timeline.render()\n",
    "\n",
    "#env = create_default_environment(\"html\")\n",
    "#env.render_chart_to_file(timeline, path='timeline1.html')\n",
    "\n",
    "'''"
   ]
  },
  {
   "cell_type": "code",
   "execution_count": null,
   "metadata": {},
   "outputs": [],
   "source": []
  },
  {
   "cell_type": "code",
   "execution_count": null,
   "metadata": {},
   "outputs": [],
   "source": [
    "#coding=utf-8\n",
    "from __future__ import unicode_literals\n",
    "\n",
    "from pyecharts import Page\n",
    "from pyecharts import Bar, Line, Grid\n",
    "from pyecharts import Liquid\n",
    "\n",
    "\n",
    "\n",
    "grid1 = Grid()\n",
    "grid1.add(liquid, grid_left=  \"10%\")\n",
    "\n",
    "\n",
    "grid2 = Grid()\n",
    "grid2.add(bar,grid_left=  \"10%\")\n",
    "\n",
    "grid3 = Grid()\n",
    "grid3.add(barCW,grid_left=  \"10%\")\n",
    "\n",
    "\n",
    "page = Page()         # step 1\n",
    "\n",
    "page.add(grid1)\n",
    "page.add(grid2)\n",
    "page.add(grid3)\n",
    "\n",
    "#page.add(timeline)\n",
    "\n",
    "#page\n",
    "\n",
    "page.render(path='20190318.html')\n"
   ]
  },
  {
   "cell_type": "code",
   "execution_count": null,
   "metadata": {},
   "outputs": [],
   "source": []
  },
  {
   "cell_type": "code",
   "execution_count": null,
   "metadata": {},
   "outputs": [],
   "source": []
  },
  {
   "cell_type": "code",
   "execution_count": null,
   "metadata": {},
   "outputs": [],
   "source": []
  },
  {
   "cell_type": "code",
   "execution_count": null,
   "metadata": {},
   "outputs": [],
   "source": []
  },
  {
   "cell_type": "code",
   "execution_count": null,
   "metadata": {},
   "outputs": [],
   "source": []
  }
 ],
 "metadata": {
  "kernelspec": {
   "display_name": "Python 3",
   "language": "python",
   "name": "python3"
  },
  "language_info": {
   "codemirror_mode": {
    "name": "ipython",
    "version": 3
   },
   "file_extension": ".py",
   "mimetype": "text/x-python",
   "name": "python",
   "nbconvert_exporter": "python",
   "pygments_lexer": "ipython3",
   "version": "3.7.1"
  }
 },
 "nbformat": 4,
 "nbformat_minor": 2
}
