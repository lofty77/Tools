{
 "cells": [
  {
   "cell_type": "code",
   "execution_count": 1,
   "metadata": {},
   "outputs": [],
   "source": [
    "from selenium import webdriver\n",
    "from selenium.webdriver.common.by import By\n",
    "from selenium.webdriver.support.ui import WebDriverWait\n",
    "from selenium.webdriver.support import expected_conditions as EC\n",
    "import json\n",
    "import time\n",
    "import csv\n",
    "import pandas as pd"
   ]
  },
  {
   "cell_type": "code",
   "execution_count": 2,
   "metadata": {},
   "outputs": [
    {
     "data": {
      "text/plain": [
       "'2019-05-17 09:39:30'"
      ]
     },
     "execution_count": 2,
     "metadata": {},
     "output_type": "execute_result"
    }
   ],
   "source": [
    "# time\n",
    "t1 = time.time()\n",
    "time.strftime('%Y-%m-%d %H:%M:%S',time.localtime(t1))\n"
   ]
  },
  {
   "cell_type": "code",
   "execution_count": 3,
   "metadata": {},
   "outputs": [],
   "source": [
    "bidInfo = {}"
   ]
  },
  {
   "cell_type": "code",
   "execution_count": 4,
   "metadata": {},
   "outputs": [
    {
     "data": {
      "text/plain": [
       "10"
      ]
     },
     "execution_count": 4,
     "metadata": {},
     "output_type": "execute_result"
    }
   ],
   "source": [
    "csvFile = open(\"namelist.csv\",\"w+\")\n",
    "writer = csv.writer(csvFile)\n",
    "writer.writerow(('name','url'))\n",
    "\n"
   ]
  },
  {
   "cell_type": "code",
   "execution_count": 5,
   "metadata": {},
   "outputs": [],
   "source": [
    "sourceUrl = \"https://sf.taobao.com/item_list.htm?category=50025969&auction_source=0&province=%CC%EC%BD%F2&sorder=2\" \\\n",
    "                 \"&st_param=-1&auction_start_from=2018-01-01&auction_start_to=2019-05-13&spm=a213w.3064813.9001.2\"  \n",
    "\n"
   ]
  },
  {
   "cell_type": "code",
   "execution_count": 6,
   "metadata": {},
   "outputs": [],
   "source": [
    "# Start the driver\n",
    "driver = webdriver.Chrome()\n",
    "# Setup wait for later\n",
    "wait = WebDriverWait(driver, 10)\n",
    "\n",
    "driver.get(sourceUrl)\n",
    "\n",
    "# Store the ID of the original window\n",
    "original_window = driver.current_window_handle\n",
    "\n",
    "# Check we don't have other windows open already\n",
    "assert len(driver.window_handles) == 1"
   ]
  },
  {
   "cell_type": "code",
   "execution_count": 7,
   "metadata": {},
   "outputs": [
    {
     "data": {
      "text/plain": [
       "<selenium.webdriver.remote.webelement.WebElement (session=\"a9f5f0ab110307e9e2b0fcc5e7a62cdf\", element=\"0.8831545459493104-1\")>"
      ]
     },
     "execution_count": 7,
     "metadata": {},
     "output_type": "execute_result"
    }
   ],
   "source": [
    "wait.until(EC.presence_of_element_located((By.CLASS_NAME, \"page-total\")))\n",
    "#pages = driver.find_element_by_class_name(\"page-total\").text\n"
   ]
  },
  {
   "cell_type": "code",
   "execution_count": 8,
   "metadata": {},
   "outputs": [],
   "source": [
    "#test page \n",
    "pages = 1"
   ]
  },
  {
   "cell_type": "code",
   "execution_count": 9,
   "metadata": {},
   "outputs": [
    {
     "name": "stdout",
     "output_type": "stream",
     "text": [
      "***item failed******: Page :1   Item :0\n",
      "***item failed******: Page :1   Item :1\n",
      "***item failed******: Page :1   Item :2\n",
      "Name:杨宁: Page :1   Item :3\n",
      "url:https://sf-item.taobao.com/sf_item/591345585914.htm?spm=a213w.7398504.paiList.4.4b4c26cdhMJiXZ#J_Confirmation\n",
      "id:591345585914 title: 天津市西青区泰佳道与汇川路交口东南侧武台馨苑13-1-2205号\n",
      "consultPrice:2970000.0 currentPrice:2630000.0\n",
      "bidCount:50 delayCount:17 applyCount:9\n",
      "date:2019年05月13日\n",
      "Name:魏环利: Page :1   Item :4\n",
      "url:https://sf-item.taobao.com/sf_item/593056639808.htm?spm=a213w.7398504.paiList.5.4b4c26cdhMJiXZ#J_Confirmation\n",
      "id:593056639808 title: 天津市和平区西安道与长沙路交口东北侧诚基经贸中心1-2-902\n",
      "consultPrice:3620000.0 currentPrice:3724000.0\n",
      "bidCount:64 delayCount:53 applyCount:11\n",
      "date:2019年05月13日\n",
      "Name:李玉芹: Page :1   Item :5\n",
      "url:https://sf-item.taobao.com/sf_item/592456853691.htm?spm=a213w.7398504.paiList.6.4b4c26cdhMJiXZ#J_Confirmation\n",
      "id:592456853691 title: 天津市河东区津塘路丰盈里4-303房地产\n",
      "consultPrice:3320000.0 currentPrice:3079800.0\n",
      "bidCount:19 delayCount:17 applyCount:3\n",
      "date:2019年05月13日\n",
      "Name:于德龙: Page :1   Item :6\n",
      "url:https://sf-item.taobao.com/sf_item/592498100588.htm?spm=a213w.7398504.paiList.7.4b4c26cdhMJiXZ#J_Confirmation\n",
      "id:592498100588 title: 天津市东丽区华明家园明湖苑28-3-402号房屋\n",
      "consultPrice:1320000.0 currentPrice:854800.0\n",
      "bidCount:2 delayCount:1 applyCount:2\n",
      "date:2019年05月13日\n",
      "***item failed******: Page :1   Item :7\n",
      "Name:张丹琪: Page :1   Item :8\n",
      "url:https://sf-item.taobao.com/sf_item/592561621637.htm?spm=a213w.7398504.paiList.9.4b4c26cdhMJiXZ#J_Confirmation\n",
      "id:592561621637 title: 天津市津南区双港镇津沽路西侧格林小城橄榄苑32-3-102号房屋\n",
      "consultPrice:3596000.0 currentPrice:3080000.0\n",
      "bidCount:1 delayCount:0 applyCount:1\n",
      "date:2019年05月13日\n",
      "***item failed******: Page :1   Item :9\n",
      "***item failed******: Page :1   Item :10\n",
      "***item failed******: Page :1   Item :11\n",
      "***item failed******: Page :1   Item :12\n",
      "***item failed******: Page :1   Item :13\n",
      "***item failed******: Page :1   Item :14\n",
      "***item failed******: Page :1   Item :15\n",
      "***item failed******: Page :1   Item :16\n",
      "***item failed******: Page :1   Item :17\n",
      "***item failed******: Page :1   Item :18\n",
      "***item failed******: Page :1   Item :19\n",
      "***item failed******: Page :1   Item :20\n",
      "***item failed******: Page :1   Item :21\n",
      "***item failed******: Page :1   Item :22\n",
      "***item failed******: Page :1   Item :23\n",
      "***item failed******: Page :1   Item :24\n",
      "***item failed******: Page :1   Item :25\n",
      "***item failed******: Page :1   Item :26\n",
      "Name:郭慧杰: Page :1   Item :27\n",
      "url:https://sf-item.taobao.com/sf_item/592529770988.htm?spm=a213w.7398504.paiList.28.4b4c26cdhMJiXZ#J_Confirmation\n",
      "id:592529770988 title: 武清区大良镇良兆花园1-3-301号房屋\n",
      "consultPrice:637600.0 currentPrice:528100.0\n",
      "bidCount:45 delayCount:22 applyCount:6\n",
      "date:2019年05月09日\n",
      "Name:夏建明: Page :1   Item :28\n",
      "url:https://sf-item.taobao.com/sf_item/592206836359.htm?spm=a213w.7398504.paiList.29.4b4c26cdhMJiXZ#J_Confirmation\n",
      "id:592206836359 title: 天津市河西区景兴里57门801-805房屋\n",
      "consultPrice:2267300.0 currentPrice:1904000.0\n",
      "bidCount:39 delayCount:38 applyCount:2\n",
      "date:2019年05月09日\n",
      "Name:陈健: Page :1   Item :29\n",
      "url:https://sf-item.taobao.com/sf_item/592342929250.htm?spm=a213w.7398504.paiList.30.4b4c26cdhMJiXZ#J_Confirmation\n",
      "id:592342929250 title: 滨海新区塘沽美韵家园21-1-201号房地产\n",
      "consultPrice:1510000.0 currentPrice:1140000.0\n",
      "bidCount:1 delayCount:1 applyCount:1\n",
      "date:2019年05月09日\n",
      "***item failed******: Page :1   Item :30\n",
      "Name:朱秀娥: Page :1   Item :31\n",
      "url:https://sf-item.taobao.com/sf_item/592441777807.htm?spm=a213w.7398504.paiList.32.4b4c26cdhMJiXZ#J_Confirmation\n",
      "id:592441777807 title: 天津市宁河区芦台镇安全楼2-2-303房地产\n",
      "consultPrice:648000.0 currentPrice:518400.0\n",
      "bidCount:1 delayCount:0 applyCount:1\n",
      "date:2019年05月09日\n"
     ]
    }
   ],
   "source": [
    "for page in range(1,int(pages)+1):\n",
    "    if (page > 1):\n",
    "        driver.find_element_by_link_text(str(page)).click()\n",
    "        time.sleep(1)\n",
    "    \n",
    "    wait.until(EC.presence_of_element_located((By.CLASS_NAME, \"sf-pai-item-list\")))\n",
    "    data = driver.find_element_by_id(\"sf-item-list-data\").get_attribute('innerHTML')\n",
    "    jsonData =  json.loads(data)\n",
    "    items = jsonData[\"data\"]\n",
    "    \n",
    "    itemLen = len(items)\n",
    "    for item in range(itemLen):    \n",
    "    #for item in range(4):        \n",
    "        bidInfo[\"status\"] = items[item][\"status\"]\n",
    "\n",
    "        \n",
    "        if(bidInfo[\"status\"] == \"done\"):\n",
    "            \n",
    "            bidInfo[\"id\"] = items[item][\"id\"]\n",
    "            bidInfo[\"title\"] = items[item][\"title\"]\n",
    "            bidInfo[\"consultPrice\"] = items[item][\"consultPrice\"]\n",
    "            bidInfo[\"currentPrice\"] = items[item][\"currentPrice\"]\n",
    "            bidInfo[\"bidCount\"] = items[item][\"bidCount\"]\n",
    "            bidInfo[\"delayCount\"] = items[item][\"delayCount\"]\n",
    "            bidInfo[\"applyCount\"] = items[item][\"applyCount\"]\n",
    "\n",
    "            url = \"#pai-item-\"+str(bidInfo[\"id\"])\n",
    "            # Click the link which opens in a new window\n",
    "            driver.find_element_by_css_selector(url).click()\n",
    "            time.sleep(1) # have to wait sometime\n",
    "\n",
    "            # Wait for the new window or tab\n",
    "            wait.until(EC.number_of_windows_to_be(2))\n",
    "            handles = driver.window_handles\n",
    "            driver.switch_to.window(handles[1])\n",
    "            #\n",
    "            url2 = str(driver.current_url)+\"#J_Confirmation\"\n",
    "            driver.get(url2)\n",
    "            \n",
    "            \n",
    "            wait.until(EC.presence_of_element_located((By.CLASS_NAME, \"content-wrap\")))\n",
    "            info = driver.find_element_by_class_name(\"c-content\").text\n",
    "            index = info.find(\"通过\")\n",
    "            \n",
    "            # getName\n",
    "            bidInfo[\"name\"] = info[4:index]\n",
    "            # getDate\n",
    "            bidInfo[\"date\"] = driver.find_element_by_class_name(\"c-stamp\").text\n",
    "            \n",
    "\n",
    "            \n",
    "            print(\"Name:\"+bidInfo[\"name\"]+\": Page :\"+str(page)+\"   Item :\"+str(item))\n",
    "            print(\"url:\"+driver.current_url)\n",
    "            print(\"id:\"+str(bidInfo[\"id\"])+\" title: \"+bidInfo[\"title\"])\n",
    "            print(\"consultPrice:\"+str(bidInfo[\"consultPrice\"]) + \" currentPrice:\" +str(bidInfo[\"currentPrice\"]))\n",
    "            print(\"bidCount:\"+str(bidInfo[\"bidCount\"]) +\" delayCount:\"+str(bidInfo[\"delayCount\"])+\" applyCount:\"+str(bidInfo[\"applyCount\"]))\n",
    "            print(\"date:\"+bidInfo[\"date\"])\n",
    "            # add to file\n",
    "            writer.writerow((bidInfo[\"name\"],driver.current_url))\n",
    "            driver.close()\n",
    "            driver.switch_to.window(handles[0])\n",
    "        else:\n",
    "            print(\"***item failed******\"+\": Page :\"+str(page)+\"   Item :\"+str(item))\n",
    "\n"
   ]
  },
  {
   "cell_type": "code",
   "execution_count": 10,
   "metadata": {},
   "outputs": [],
   "source": [
    "driver.quit()"
   ]
  },
  {
   "cell_type": "code",
   "execution_count": 11,
   "metadata": {},
   "outputs": [],
   "source": [
    "csvFile.close()\n",
    "csv = pd.read_csv('namelist.csv', encoding='utf-8')\n",
    "csv.to_excel('namelist.xlsx', sheet_name='data')"
   ]
  },
  {
   "cell_type": "code",
   "execution_count": 12,
   "metadata": {},
   "outputs": [
    {
     "name": "stdout",
     "output_type": "stream",
     "text": [
      "00:00:28\n"
     ]
    }
   ],
   "source": [
    "t2 = time.time()\n",
    "time.strftime('%Y-%m-%d %H:%M:%S',time.localtime(t2))\n",
    "\n",
    "seconds = t2 - t1\n",
    "m, s = divmod(seconds, 60)\n",
    "h, m = divmod(m, 60)\n",
    "print (\"%02d:%02d:%02d\" % (h, m, s))\n"
   ]
  }
 ],
 "metadata": {
  "kernelspec": {
   "display_name": "Python 3",
   "language": "python",
   "name": "python3"
  },
  "language_info": {
   "codemirror_mode": {
    "name": "ipython",
    "version": 3
   },
   "file_extension": ".py",
   "mimetype": "text/x-python",
   "name": "python",
   "nbconvert_exporter": "python",
   "pygments_lexer": "ipython3",
   "version": "3.7.1"
  }
 },
 "nbformat": 4,
 "nbformat_minor": 2
}
