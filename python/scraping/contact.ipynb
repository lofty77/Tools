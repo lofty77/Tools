{
 "cells": [
  {
   "cell_type": "code",
   "execution_count": null,
   "metadata": {},
   "outputs": [],
   "source": [
    "from selenium import webdriver\n",
    "from selenium.webdriver.common.by import By\n",
    "from selenium.webdriver.support.ui import WebDriverWait\n",
    "from selenium.webdriver.support import expected_conditions as EC\n",
    "import json\n",
    "import time\n",
    "import csv\n",
    "import pandas as pd\n",
    "import re"
   ]
  },
  {
   "cell_type": "code",
   "execution_count": null,
   "metadata": {},
   "outputs": [],
   "source": [
    "#label={\"船公司\":\"ship-company\", \"船代\":\"ship-agency\",\"码头\":\"wharf\",\"堆场\":\"yard\",\"拼箱仓库\":\"depot\"}\n",
    "\n",
    "label={\"船公司\":\"ship-company\"}\n",
    "\n",
    "\n",
    "\n",
    "label_value = label.values()\n",
    "\n",
    "locations = []"
   ]
  },
  {
   "cell_type": "code",
   "execution_count": null,
   "metadata": {},
   "outputs": [],
   "source": [
    "# Start the driver\n",
    "driver = webdriver.Chrome()\n",
    "# Setup wait for later\n",
    "wait = WebDriverWait(driver, 10)\n",
    "\n",
    "driver.get(\"http://www.weiyun001.com/account/login.html\")\n",
    "\n",
    "time.sleep(1)\n",
    "\n",
    "driver.find_element_by_id(\"wx-btn\").click()\n",
    "\n",
    "time.sleep(12)\n",
    "\n",
    "driver.find_element_by_link_text(\"海运黄页\").click()\n",
    "\n",
    "time.sleep(2)\n",
    "\n",
    "\n",
    "# local name\n",
    "sites = driver.find_element_by_id(\"show_local_btn\").find_elements_by_tag_name(\"a\")\n",
    "\n",
    "for site in sites:\n",
    " #   locations.append(site.get_attribute('textContent'))\n",
    "    driver.find_element_by_link_text(site.get_attribute('textContent')).click()    \n",
    "    time.sleep(10)\n",
    "    # open items\n",
    "    openitems = driver.find_elements_by_link_text(\"展开\")\n",
    "    for item in openitems:\n",
    "        item.click()\n",
    "        time.sleep(1)\n",
    "   # finish \n",
    "\n",
    "    for i in label_value:\n",
    "        print(\"------------------------------------\")\n",
    "        elems = driver.find_elements_by_id(i)\n",
    "        if(elems):\n",
    "            values = elems[0].find_elements_by_tag_name(\"li\")\n",
    "            for value in values:\n",
    "                driver.find_element_by_link_text(value.get_attribute('textContent')).click()\n",
    "                wait.until(EC.number_of_windows_to_be(2))\n",
    "                handles = driver.window_handles\n",
    "                driver.switch_to.window(handles[1])\n",
    "                time.sleep(10)\n",
    "                driver.close()\n",
    "                time.sleep(1)\n",
    "                driver.switch_to.window(handles[0])\n",
    "                time.sleep(10)\n",
    "\n",
    "            else:\n",
    "                pass\n",
    "        else:\n",
    "            pass\n"
   ]
  },
  {
   "cell_type": "code",
   "execution_count": null,
   "metadata": {},
   "outputs": [],
   "source": []
  },
  {
   "cell_type": "code",
   "execution_count": null,
   "metadata": {},
   "outputs": [],
   "source": [
    "\n"
   ]
  },
  {
   "cell_type": "code",
   "execution_count": null,
   "metadata": {},
   "outputs": [],
   "source": [
    "# # Start the driver\n",
    "# driver = webdriver.Chrome()\n",
    "# # Setup wait for later\n",
    "# wait = WebDriverWait(driver, 10)\n",
    "\n",
    "# driver.get(\"http://www.weiyun001.com/account/login.html\");\n",
    "\n",
    "\n",
    "# time.sleep(1)\n",
    "\n",
    "# driver.find_element_by_id(\"wx-btn\").click()\n",
    "\n",
    "\n",
    "# time.sleep(10)\n",
    "\n",
    "\n",
    "# driver.find_element_by_link_text(\"海运黄页\").click()\n",
    "\n",
    "# time.sleep(1)\n",
    "\n",
    "# driver.find_element_by_link_text(\"宁波\").click()\n",
    "\n",
    "# time.sleep(1)\n",
    "# print(driver.window_handles)\n",
    "\n",
    "# driver.find_element_by_link_text(\"北三集司码头\").click()\n",
    "\n",
    "# wait.until(EC.number_of_windows_to_be(2))\n",
    "\n",
    "# handles = driver.window_handles\n",
    "\n",
    "# driver.switch_to.window(handles[1])\n",
    "\n",
    "\n",
    "# print(driver.window_handles)\n",
    "\n",
    "# print(\"title: \" + driver.title)\n",
    "\n",
    "# cards  = driver.find_elements_by_class_name(\"u-card1\")\n",
    "\n",
    "\n",
    "# for card in cards:\n",
    "#     name = card.find_element_by_tag_name(\"h3\").get_attribute('textContent')\n",
    "#     number = card.find_element_by_class_name(\"card-bd\").get_attribute('textContent').lstrip()\n",
    "#     print(\"name :\" + name +\" number :\" + number)\n",
    "\n",
    "\n"
   ]
  },
  {
   "cell_type": "code",
   "execution_count": null,
   "metadata": {},
   "outputs": [],
   "source": []
  },
  {
   "cell_type": "code",
   "execution_count": null,
   "metadata": {},
   "outputs": [],
   "source": [
    "#driver.quit()"
   ]
  },
  {
   "cell_type": "code",
   "execution_count": null,
   "metadata": {},
   "outputs": [],
   "source": []
  },
  {
   "cell_type": "code",
   "execution_count": null,
   "metadata": {},
   "outputs": [],
   "source": []
  }
 ],
 "metadata": {
  "kernelspec": {
   "display_name": "Python 3",
   "language": "python",
   "name": "python3"
  },
  "language_info": {
   "codemirror_mode": {
    "name": "ipython",
    "version": 3
   },
   "file_extension": ".py",
   "mimetype": "text/x-python",
   "name": "python",
   "nbconvert_exporter": "python",
   "pygments_lexer": "ipython3",
   "version": "3.7.1"
  }
 },
 "nbformat": 4,
 "nbformat_minor": 2
}
