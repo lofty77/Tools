{
 "cells": [
  {
   "cell_type": "code",
   "execution_count": 1,
   "metadata": {},
   "outputs": [],
   "source": [
    "from selenium import webdriver\n",
    "import json\n",
    "import time"
   ]
  },
  {
   "cell_type": "code",
   "execution_count": 2,
   "metadata": {},
   "outputs": [],
   "source": [
    "driver = webdriver.Chrome()\n"
   ]
  },
  {
   "cell_type": "code",
   "execution_count": 3,
   "metadata": {},
   "outputs": [],
   "source": [
    "#url = \"https://sf-item.taobao.com/sf_item/592140469999.htm?spm=a213w.7398504.paiList.1.a1da26cdBOcTJJ\"\n",
    "\n",
    "#url = \"https://sf-item.taobao.com/sf_item/591732235950.htm?spm=a213w.7398504.paiList.6.7ede26cdIZuymq\"\n",
    "\n",
    "url = \"https://sf.taobao.com/item_list.htm?spm=a213w.7398504.filter.61.22f526cdj7uTkT&category=50025969\" \\\n",
    "    \"&auction_source=0&province=%CC%EC%BD%F2&sorder=2&st_param=-1&auction_start_seg=-1\""
   ]
  },
  {
   "cell_type": "code",
   "execution_count": 4,
   "metadata": {},
   "outputs": [],
   "source": [
    "driver.get(url)"
   ]
  },
  {
   "cell_type": "code",
   "execution_count": 5,
   "metadata": {},
   "outputs": [],
   "source": [
    "urlList = []"
   ]
  },
  {
   "cell_type": "code",
   "execution_count": 6,
   "metadata": {},
   "outputs": [
    {
     "name": "stdout",
     "output_type": "stream",
     "text": [
      "['CDwindow-3A4959BF0FAAC1ED1934641EF0CA53DE', 'CDwindow-EB396BA5AC30AD2358BC4EAFB4E8D625']\n",
      "0本场拍卖已结束 ！天津市滨海新区中新天津生态城和旭路1060号季景园9-101室 - 司法拍卖 - 阿里拍卖\n",
      "['CDwindow-3A4959BF0FAAC1ED1934641EF0CA53DE', 'CDwindow-A9E3C5944DBD2956E8F5E4C766243641']\n",
      "1本场拍卖已流拍 ！天津市北辰区引河南里1-4-302号房地产 - 司法拍卖 - 阿里拍卖\n",
      "['CDwindow-3A4959BF0FAAC1ED1934641EF0CA53DE', 'CDwindow-1B600D45BD10520A9E244FFE13D519B9']\n",
      "2本场拍卖已结束 ！天津市蓟县碧玉家园北侧，福地花园南侧山水颐城北园4-1-201房地产 - 司法拍卖 - 阿里拍卖\n",
      "['CDwindow-3A4959BF0FAAC1ED1934641EF0CA53DE', 'CDwindow-54872A988FC2D272DFFB50368392772F']\n",
      "3本场拍卖已流拍 ！天津市蓟县碧玉家园北侧，福地花园南侧山水颐城北园20-5-801房地产 - 司法拍卖 - 阿里拍卖\n",
      "['CDwindow-3A4959BF0FAAC1ED1934641EF0CA53DE', 'CDwindow-D06A4DB7DD6849C3B9FA31F5B5F3B68B']\n",
      "4本场拍卖已流拍 ！天津市滨海新区大港世纪大道88号1506号房地产 - 司法拍卖 - 阿里拍卖\n",
      "['CDwindow-3A4959BF0FAAC1ED1934641EF0CA53DE', 'CDwindow-42BDB6CD69F770117754C55EB96574F4']\n",
      "5本场拍卖已结束 ！红桥区纪念馆路延长线与本溪路交口东北侧美居花园8-1-18018-1-1801号 - 司法拍卖 - 阿里拍卖\n",
      "['CDwindow-3A4959BF0FAAC1ED1934641EF0CA53DE', 'CDwindow-F07E6476817250779AD3F3944481F8A2']\n",
      "6本场拍卖已结束 ！天津市蓟县碧玉家园北侧，福地花园南侧山水颐城北园5-4-101房地产 - 司法拍卖 - 阿里拍卖\n",
      "['CDwindow-3A4959BF0FAAC1ED1934641EF0CA53DE', 'CDwindow-986FA3189CF7DBAC93E6EC78D5859AB7']\n",
      "7本场拍卖已流拍 ！天津市蓟县碧玉家园北侧，福地花园南侧山水颐城北园1-1-201房地产 - 司法拍卖 - 阿里拍卖\n",
      "['CDwindow-3A4959BF0FAAC1ED1934641EF0CA53DE', 'CDwindow-2C7A29AAE239F61B3867FD9A8BFDC697']\n",
      "8本场拍卖已流拍 ！天津市蓟县碧玉家园北侧，福地花园南侧山水颐城北园20-1-202房地产 - 司法拍卖 - 阿里拍卖\n",
      "['CDwindow-3A4959BF0FAAC1ED1934641EF0CA53DE', 'CDwindow-F057BF2968E686D80C1A4AD78AC1C9E6']\n",
      "9本场拍卖已流拍 ！天津市滨海新区大港世纪大道88号1503号房地产 - 司法拍卖 - 阿里拍卖\n",
      "['CDwindow-3A4959BF0FAAC1ED1934641EF0CA53DE', 'CDwindow-371AAC3CC3E2740350727A4DA2A769CD']\n",
      "10本场拍卖已流拍 ！天津市滨海新区大港世纪大道88号1502号房地产 - 司法拍卖 - 阿里拍卖\n",
      "['CDwindow-3A4959BF0FAAC1ED1934641EF0CA53DE', 'CDwindow-C6E4BFD764958C22D6BC535E0B697E7B']\n",
      "11本场拍卖已流拍 ！红桥区团结路与海源道交口西北侧民畅园13-1701房产 - 司法拍卖 - 阿里拍卖\n",
      "['CDwindow-3A4959BF0FAAC1ED1934641EF0CA53DE', 'CDwindow-0CB48144AF49FC41959891D03CDE4821']\n",
      "12本场拍卖已流拍 ！天津市河东区月光园19-1002号房地产 - 司法拍卖 - 阿里拍卖\n",
      "['CDwindow-3A4959BF0FAAC1ED1934641EF0CA53DE', 'CDwindow-2959D770B2BA2FF0CD64EEDBDE0A2BA1']\n",
      "13本场拍卖已流拍 ！天津市蓟县碧玉家园北侧，福地花园南侧山水颐城北园4-1-101房地产 - 司法拍卖 - 阿里拍卖\n",
      "['CDwindow-3A4959BF0FAAC1ED1934641EF0CA53DE', 'CDwindow-D5F987397155A3E9C37F2EEFBB727E59']\n",
      "14本场拍卖已流拍 ！天津市滨海新区大港世纪大道88号1509号房地产 - 司法拍卖 - 阿里拍卖\n",
      "['CDwindow-3A4959BF0FAAC1ED1934641EF0CA53DE', 'CDwindow-74B59407CB9440AD19C2030BD27573CE']\n",
      "15本场拍卖已流拍 ！天津市滨海新区大港世纪大道88号1508号房地产 - 司法拍卖 - 阿里拍卖\n",
      "['CDwindow-3A4959BF0FAAC1ED1934641EF0CA53DE', 'CDwindow-97C9F07643A25EA7468D1B031DB8D07E']\n",
      "16本场拍卖已流拍 ！天津市滨海新区大港世纪大道88号1505号房地产 - 司法拍卖 - 阿里拍卖\n",
      "['CDwindow-3A4959BF0FAAC1ED1934641EF0CA53DE', 'CDwindow-7416CE40BCA4E878EFC003D47FD43B98']\n",
      "17本场拍卖已流拍 ！天津市滨海新区大港世纪大道88号1504号房地产 - 司法拍卖 - 阿里拍卖\n",
      "['CDwindow-3A4959BF0FAAC1ED1934641EF0CA53DE', 'CDwindow-50F22B7BB197044AD15A710C6D299880']\n",
      "18本场拍卖已流拍 ！天津市滨海新区大港世纪大道88号1507号房地产 - 司法拍卖 - 阿里拍卖\n",
      "['CDwindow-3A4959BF0FAAC1ED1934641EF0CA53DE', 'CDwindow-960205286CF1B2D941F49CF203F2AB9C']\n",
      "19本场拍卖已流拍 ！天津市开发区鹍鹏街12号6门501室 - 司法拍卖 - 阿里拍卖\n",
      "['CDwindow-3A4959BF0FAAC1ED1934641EF0CA53DE', 'CDwindow-639C32786D94B6FD08D8EF06443EC86B']\n",
      "20本场拍卖已流拍 ！天津市开发区第三大街20号1号楼1门602室 - 司法拍卖 - 阿里拍卖\n",
      "['CDwindow-3A4959BF0FAAC1ED1934641EF0CA53DE', 'CDwindow-C418414C03DE3F9E720DDE3E8D6BEB45']\n",
      "21本场拍卖已结束 ！天津市宝坻区瑞祥花园3-1701号不动产 - 司法拍卖 - 阿里拍卖\n",
      "['CDwindow-3A4959BF0FAAC1ED1934641EF0CA53DE', 'CDwindow-D089997E58F6764837EE5BB4891825A7']\n",
      "22本场变卖已结束 ！天津市河西区宾水道增9号C-2102房地产一套 - 司法拍卖 - 阿里拍卖\n",
      "['CDwindow-3A4959BF0FAAC1ED1934641EF0CA53DE', 'CDwindow-E6AE59E6966577B1271721D49AB989D9']\n",
      "23本场拍卖已结束 ！天津市滨海新区塘沽枫景家园3-3-802号房地产 - 司法拍卖 - 阿里拍卖\n",
      "['CDwindow-3A4959BF0FAAC1ED1934641EF0CA53DE', 'CDwindow-9ADD1F83757CAD8A969C607F54302C8A']\n",
      "24本场拍卖已结束 ！天津市武清区京津公路西侧龙吉园33-2-201号房产 - 司法拍卖 - 阿里拍卖\n",
      "['CDwindow-3A4959BF0FAAC1ED1934641EF0CA53DE', 'CDwindow-501763B4897493D1ABFF91F9B868CF9E']\n",
      "25本场拍卖已结束 ！天津市河西区友谊南路与左江道交口东南侧泉园6-2-502号房产 - 司法拍卖 - 阿里拍卖\n",
      "['CDwindow-3A4959BF0FAAC1ED1934641EF0CA53DE', 'CDwindow-BBD68BE269C9ED3AF8EB65E8B9C3C3D9']\n",
      "26本场拍卖已结束 ！天津市武清区汊沽港镇港韵新苑小区38-1-702，c-11房产 - 司法拍卖 - 阿里拍卖\n",
      "['CDwindow-3A4959BF0FAAC1ED1934641EF0CA53DE', 'CDwindow-054B8D10FE7DBA4E1B532236F3FDC2A7']\n",
      "27本场拍卖已结束 ！武清区汊沽港镇港韵新苑小区13-1-1002，c1-05房产 - 司法拍卖 - 阿里拍卖\n",
      "['CDwindow-3A4959BF0FAAC1ED1934641EF0CA53DE', 'CDwindow-8BA5BBC3F6F9AD0C9F6D7356D6030CF8']\n",
      "28本场拍卖已流拍 ！天津市静海区团泊新城东区独流减河西侧，七排干东侧水岸澜轩14－1405室 - 司法拍卖 - 阿里拍卖\n",
      "['CDwindow-3A4959BF0FAAC1ED1934641EF0CA53DE', 'CDwindow-98FC10F48657CC73396087FA80E484D7']\n",
      "29本场拍卖已流拍 ！天津市滨海新区塘沽水景花都11-2-1102号房地产 - 司法拍卖 - 阿里拍卖\n",
      "['CDwindow-3A4959BF0FAAC1ED1934641EF0CA53DE', 'CDwindow-3D931CF1C53142938458B77DB5ABBBD7']\n",
      "30本场拍卖已流拍 ！北辰区小淀镇嘉阳花园44-1603 - 司法拍卖 - 阿里拍卖\n",
      "['CDwindow-3A4959BF0FAAC1ED1934641EF0CA53DE', 'CDwindow-6D02347E9AFFBC9199A706FA6F7D490B']\n",
      "31本场拍卖已流拍 ！天津市宝坻区周良庄镇京津温泉城上京嵘园2-10-402号房屋 - 司法拍卖 - 阿里拍卖\n"
     ]
    }
   ],
   "source": [
    "for i in range(2,3):\n",
    "    driver.find_element_by_link_text(str(i)).click()\n",
    "    time.sleep(1)\n",
    "    data = driver.find_element_by_id(\"sf-item-list-data\").get_attribute('innerHTML')\n",
    "    jsonData =  json.loads(data)\n",
    "    jd = jsonData[\"data\"]\n",
    "    for i in range(len(jd)):\n",
    "        num = jd[i][\"id\"]\n",
    "        url = \"#pai-item-\"+str(num)+\" .pic\"\n",
    "        urlList.append(url)\n",
    "        driver.find_element_by_css_selector(url).click()\n",
    "        time.sleep(1)\n",
    "        handles = driver.window_handles\n",
    "        print(handles)\n",
    "        driver.switch_to.window(handles[1])\n",
    "        data = driver.find_element_by_class_name(\"bid-fail\").text\n",
    "        print(str(i) + data+driver.title)\n",
    "        driver.close()\n",
    "        driver.switch_to.window(handles[0])\n"
   ]
  },
  {
   "cell_type": "code",
   "execution_count": 7,
   "metadata": {},
   "outputs": [],
   "source": [
    "#for i in range(len(urlList))\n",
    "\n",
    "\n",
    "#     driver.switchTo().window(\"vars.get(\"root\").toString()\");\n",
    "#     driver.findElement(By.cssSelector(\"#pai-item-591508706185 .pic\")).click();\n",
    "#     driver.switchTo().window(\"vars.get(\"win8140\").toString()\");\n",
    "#     driver.close();"
   ]
  },
  {
   "cell_type": "code",
   "execution_count": 8,
   "metadata": {},
   "outputs": [
    {
     "data": {
      "text/plain": [
       "['#pai-item-590871909472 .pic',\n",
       " '#pai-item-592296215593 .pic',\n",
       " '#pai-item-592218695978 .pic',\n",
       " '#pai-item-592218487814 .pic',\n",
       " '#pai-item-592152387339 .pic',\n",
       " '#pai-item-592054657921 .pic',\n",
       " '#pai-item-592048830017 .pic',\n",
       " '#pai-item-592048386042 .pic',\n",
       " '#pai-item-592047962769 .pic',\n",
       " '#pai-item-591980558218 .pic',\n",
       " '#pai-item-591979738960 .pic',\n",
       " '#pai-item-591976885596 .pic',\n",
       " '#pai-item-591972669484 .pic',\n",
       " '#pai-item-591895081218 .pic',\n",
       " '#pai-item-591829765445 .pic',\n",
       " '#pai-item-591829713499 .pic',\n",
       " '#pai-item-591829045033 .pic',\n",
       " '#pai-item-591827145465 .pic',\n",
       " '#pai-item-591605604210 .pic',\n",
       " '#pai-item-591024982061 .pic',\n",
       " '#pai-item-590872593331 .pic',\n",
       " '#pai-item-590570345848 .pic',\n",
       " '#pai-item-591913335846 .pic',\n",
       " '#pai-item-591870493079 .pic',\n",
       " '#pai-item-590555428093 .pic',\n",
       " '#pai-item-591972533660 .pic',\n",
       " '#pai-item-590647600859 .pic',\n",
       " '#pai-item-590649084235 .pic',\n",
       " '#pai-item-592206758561 .pic',\n",
       " '#pai-item-592194163067 .pic',\n",
       " '#pai-item-591583798643 .pic',\n",
       " '#pai-item-591096263604 .pic']"
      ]
     },
     "execution_count": 8,
     "metadata": {},
     "output_type": "execute_result"
    }
   ],
   "source": [
    "urlList"
   ]
  },
  {
   "cell_type": "code",
   "execution_count": null,
   "metadata": {},
   "outputs": [],
   "source": []
  },
  {
   "cell_type": "code",
   "execution_count": 9,
   "metadata": {},
   "outputs": [],
   "source": [
    "#590871909472\n",
    "#pai-item-591508706185 .pic"
   ]
  },
  {
   "cell_type": "code",
   "execution_count": null,
   "metadata": {},
   "outputs": [],
   "source": []
  },
  {
   "cell_type": "code",
   "execution_count": null,
   "metadata": {},
   "outputs": [],
   "source": []
  },
  {
   "cell_type": "code",
   "execution_count": null,
   "metadata": {},
   "outputs": [],
   "source": []
  },
  {
   "cell_type": "code",
   "execution_count": 10,
   "metadata": {},
   "outputs": [],
   "source": [
    "#data = driver.find_element_by_class_name(\"bid-fail\").text\n",
    "#print(data)"
   ]
  },
  {
   "cell_type": "code",
   "execution_count": 11,
   "metadata": {},
   "outputs": [],
   "source": [
    "#d = driver.find_element_by_id(\"sf-item-list-data\").get_attribute('innerHTML')\n"
   ]
  },
  {
   "cell_type": "code",
   "execution_count": 12,
   "metadata": {},
   "outputs": [],
   "source": [
    "#jd = json.loads(d)\n"
   ]
  },
  {
   "cell_type": "code",
   "execution_count": 13,
   "metadata": {},
   "outputs": [],
   "source": [
    "# for i in range(len(jd[\"data\"])):\n",
    "#     print(jd[\"data\"][i][\"id\"])"
   ]
  },
  {
   "cell_type": "code",
   "execution_count": 14,
   "metadata": {},
   "outputs": [],
   "source": [
    "#driver.find_element_by_css_selector(url).click()"
   ]
  }
 ],
 "metadata": {
  "kernelspec": {
   "display_name": "Python 3",
   "language": "python",
   "name": "python3"
  },
  "language_info": {
   "codemirror_mode": {
    "name": "ipython",
    "version": 3
   },
   "file_extension": ".py",
   "mimetype": "text/x-python",
   "name": "python",
   "nbconvert_exporter": "python",
   "pygments_lexer": "ipython3",
   "version": "3.7.1"
  }
 },
 "nbformat": 4,
 "nbformat_minor": 2
}
