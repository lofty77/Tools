{
 "cells": [
  {
   "cell_type": "code",
   "execution_count": 1,
   "metadata": {},
   "outputs": [],
   "source": [
    "from selenium import webdriver\n",
    "from selenium.webdriver.common.by import By\n",
    "from selenium.webdriver.support.ui import WebDriverWait\n",
    "from selenium.webdriver.support import expected_conditions as EC\n",
    "import json\n",
    "import time\n",
    "import csv\n",
    "import pandas as pd\n",
    "import re"
   ]
  },
  {
   "cell_type": "code",
   "execution_count": 2,
   "metadata": {},
   "outputs": [],
   "source": [
    "class DataManagement:\n",
    "    def __init__(self):\n",
    "        self.data = {}\n",
    "    \n",
    "    def setData(self,attribute, data):\n",
    "        if(attribute == \"name\"):\n",
    "            index = data.find(\"通过\")\n",
    "            data = data[4:index]\n",
    "            self.data[attribute] =  data\n",
    "        elif(attribute == \"area\" or attribute == \"areaB\"):\n",
    "            index1 = data.find(\"建筑面积\")\n",
    "            index2 = data.find(\"面积\")\n",
    "            left = index1 if index1 > 0 else index2\n",
    "\n",
    "            if(left != -1):\n",
    "                size = data[(left+2) : (left+22)]\n",
    "                areas = re.findall(r\"\\d+\\.?\\d*\",size)\n",
    "                self.data[attribute] = areas[0] if areas else 0\n",
    "            else:\n",
    "                self.data[attribute] = 0\n",
    "        else:\n",
    "            self.data[attribute] =  data\n",
    "\n",
    "            \n",
    "    def getData(self,attribute):\n",
    "        return self.data[attribute]"
   ]
  },
  {
   "cell_type": "code",
   "execution_count": 3,
   "metadata": {},
   "outputs": [
    {
     "name": "stdout",
     "output_type": "stream",
     "text": [
      "area: 95\n",
      "notice :武汉市黄陂区人民法院关于拍卖武汉市江岸区汉口花园二期F区1栋2单元4层1室房地产（第一次拍卖）湖北省武汉市黄陂区人民法院将于2018年5月19日10时至2018年5月20日10时止（延时的除外）在武汉市黄陂区人民法院淘宝网司法拍卖网络平台上进行公开拍卖活动（户名：湖北省武汉市黄陂区人民法院人民法院，网址：http://sf.taobao.com/027/04），现公告如下：一、拍卖标的：位于武武汉市江岸区汉口花园二期F区1栋2单元4层1室房产，不动产权证号：鄂（2016）武汉市江岸不动产权第0003243号,建筑面积：95平方米，权利类型：国有建设用地使用权/房屋（构筑物）所有权；权利性质：出让/市场化商品房；用途：城镇住宅用地/成套住宅；使用期限：国有建设用地使用权至2074年5月30日止，分摊土地面积地：16.31平方米。建成时间：2006年，房屋内部已装修。评估价：人民币174.23万元，评估单价：18340元/㎡,起拍价：148.10万元，起拍单价：15589元/㎡，保证金：25万元，增价幅度：5000元（或其整数倍）。二、咨询、展示看样的时间与方式：自2018年5月15日起至2018年5月17日17时止（节假日除外）接受咨询，有意者请与本院联系统一安排看样。三、本次拍卖活动设置延时出价功能，在拍卖活动结束前，每最后5分钟如果有竞买人出价，就自动延迟5分钟。四、拍卖方式：增价拍卖，至少一人报名且出价不低于起拍价，方可成交。五、竞买人应当具备完全民事行为能力，法律、行政法规和司法解释对买受人资格或者条件有特殊规定的，竞买人应当具备规定的资格或者条件。委托他人代为竞买的，应当在竞价程序开始前经人民法院确认。六、本标的物现状：法院不承担拍卖标的瑕疵保证。拍卖财产以实物现状为准，有意者请亲自实地看样，未看样的竞买人视为对本标的实物现状的确认，责任自负。竞买人决定参与竞买的，视为对拍卖财产完全了解，并接受拍卖财产一切已知和未知的瑕疵。七、特别提醒，竞买人参加竞买前需自行到相关职能部门详细咨询限购、过户等相关政策，过户风险自行承担。拍卖成交买受人付清全部拍卖价款后，凭法院出具的执行裁定书、协助执行通知书及拍卖成交确认书自行至相关管理部门办理标的物权属变更手续。办理过程中所涉及的买卖双方所需承担的一切税、费和所需补交的相关税、费等费用均有买受人承担。具体费用请竞买人于拍卖前至相关单位自行查询，与拍卖人无涉。八、对上述标的权属有异议者，请于2018年5月17日前与本院联系。九、与本标的物有利害关系的当事人可参加竞拍，不参加竞拍的请关注本次拍卖活动的整个过程。十、拍卖竞价前淘宝系统将冻结竞买人支付宝账户内的资金作为应缴的保证金，拍卖结束后未能竞得者冻结的保证金自动解冻，冻结期间不计利息。本标的物竞得者原冻结的保证金自动转入法院指定账户，拍卖余款在2018年5月28日17时前缴入法院指定账户（户名：湖北省武汉市黄陂区人民法院，开户银行：工行武汉百秀支行，账号：3202019929200068332  跨行行号：102521000974），拍卖未成交的，竞买人冻结的保证金自动解冻，冻结期间不计利息。十一、司法拍卖因标的物本身价值，其起拍价、保证金、成交价相对较高。竞买人参与竞价，支付保证金及余款可能会碰到当天限额无法支付的情况，请竞买人根据自身情况选择网上充值银行。各大银行充值和支付的限额情况可上网查询，网址：http://www.taobao.com/market/paimai/sf-helpcenter.php?path=sf-hc-right-content5#q1十二、依照《最高人民法院关于人民法院网络司法拍卖若干问题的规定》（法释〔2016〕18号）规定，竞买人成功竞得网拍标的物后，淘宝网拍平台将生成相应《司法拍卖网络竞价成功确认书》并公示，确认书中载明实际买受人姓名、网拍竞买号等信息。竞买人在拍卖竞价前请务必再仔细阅读本院发布的拍卖须知。标的情况介绍摘录自湖北兴业房地产估价有限公司（鄂）兴房[2018]（估）字第023号估价报告书。标的物详情咨询电话：18007128535（王法官）,法院监督电话：027-61004933。联系地址： 湖北省武汉市黄陂区百锦街222号。网    址: http://sf.taobao.com 淘宝技术咨询电话：400-822-2870。   湖北省武汉市黄陂区人民法院                               二〇一八年四月十七日    财产交接\n"
     ]
    }
   ],
   "source": [
    "\n",
    "#test\n",
    "#testURL = \"https://sf-item.taobao.com/sf_item/564864058728.htm?spm=a213w.7398504.paiList.12.328e26cdDu0PJF\"\n",
    "#testURL = \"https://sf-item.taobao.com/sf_item/571120945902.htm?spm=a213w.7398504.paiList.12.4bd326cdTYOUzJ\"\n",
    "#testURL =\"https://sf-item.taobao.com/sf_item/590204222735.htm?spm=a213w.7398504.paiList.30.571726cdw9Wk85\"\n",
    "#testURL =\"https://sf-item.taobao.com/sf_item/579314363255.htm?spm=a213w.7398504.paiList.7.7a8c7fe4QiCYYX\"\n",
    "testURL =\"https://sf-item.taobao.com/sf_item/567866273104.htm?spm=a213w.7398504.paiList.29.7db97fe4hwM4V1\"\n",
    "\n",
    "\n",
    "\n",
    "\n",
    "# Start the driver\n",
    "driver = webdriver.Chrome()\n",
    "# Setup wait for later\n",
    "wait = WebDriverWait(driver, 10)\n",
    "\n",
    "driver.get(str(testURL)+\"#NoticeDetail\")\n",
    "\n",
    "time.sleep(4)\n",
    "\n",
    "data = DataManagement()\n",
    "\n",
    "notice = driver.find_element_by_id(\"J_NoticeDetail\").get_attribute('textContent') \n",
    "\n",
    "data.setData(\"area\",notice)\n",
    "\n",
    "print(\"area: \"+ str(data.getData(\"area\")))\n",
    "\n",
    "print(\"notice :\" +  notice)"
   ]
  },
  {
   "cell_type": "code",
   "execution_count": null,
   "metadata": {},
   "outputs": [],
   "source": []
  },
  {
   "cell_type": "code",
   "execution_count": null,
   "metadata": {},
   "outputs": [],
   "source": []
  },
  {
   "cell_type": "code",
   "execution_count": 4,
   "metadata": {},
   "outputs": [],
   "source": [
    "import time\n",
    "import re\n",
    "\n",
    "\n",
    "def getCurrentTimeStamp():\n",
    "    t = time.time()\n",
    "    print(time.strftime('%Y-%m-%d %H:%M:%S',time.localtime(t)))\n",
    "    return t\n",
    "\n",
    "\n",
    "def printDuration(start, end):\n",
    "    seconds = t2 - t1\n",
    "    m, s = divmod(seconds, 60)\n",
    "    h, m = divmod(m, 60)\n",
    "    print (\"%02d:%02d:%02d\" % (h, m, s))\n",
    "    "
   ]
  },
  {
   "cell_type": "code",
   "execution_count": 5,
   "metadata": {},
   "outputs": [
    {
     "name": "stdout",
     "output_type": "stream",
     "text": [
      "2019-05-20 19:45:38\n"
     ]
    }
   ],
   "source": [
    "t1 =  getCurrentTimeStamp()"
   ]
  },
  {
   "cell_type": "code",
   "execution_count": 6,
   "metadata": {},
   "outputs": [
    {
     "name": "stdout",
     "output_type": "stream",
     "text": [
      "2019-05-20 19:45:38\n"
     ]
    }
   ],
   "source": [
    "t2 = getCurrentTimeStamp()"
   ]
  },
  {
   "cell_type": "code",
   "execution_count": 7,
   "metadata": {},
   "outputs": [
    {
     "name": "stdout",
     "output_type": "stream",
     "text": [
      "00:00:00\n"
     ]
    }
   ],
   "source": [
    "printDuration(t1, t2)"
   ]
  },
  {
   "cell_type": "code",
   "execution_count": 8,
   "metadata": {},
   "outputs": [],
   "source": [
    "from enum import Enum\n",
    "class DataEnum:\n",
    "    ID     = 1\n",
    "    NAME   = 2\n",
    "    TITLE  = 3\n"
   ]
  },
  {
   "cell_type": "code",
   "execution_count": null,
   "metadata": {},
   "outputs": [],
   "source": []
  },
  {
   "cell_type": "code",
   "execution_count": 9,
   "metadata": {},
   "outputs": [],
   "source": [
    "# data = DataManagement()\n",
    "# data.setData(\"ID\",123)\n",
    "# print(\"ID: \"+ str(data.getData(\"ID\")))\n",
    "# data.setData(\"name\",\"1234567890通过\")\n",
    "# print(\"NAME: \"+ data.getData(\"name\"))\n",
    "\n",
    "# data.setData(\"area\",\"建筑123.12QQQQQQQQ\")\n",
    "# print(\"area: \"+ data.getData(\"area\"))\n",
    "\n",
    "\n",
    "# data.setData(\"areaB\",\"建筑123.12QQQQQQQQ\")\n",
    "# print(\"areaB: \"+ data.getData(\"areaB\"))\n"
   ]
  },
  {
   "cell_type": "code",
   "execution_count": 10,
   "metadata": {},
   "outputs": [],
   "source": [
    "#             bidInfo[\"id\"] = items[item][\"id\"]\n",
    "#             bidInfo[\"title\"] = items[item][\"title\"]\n",
    "#             bidInfo[\"consultPrice\"] = items[item][\"consultPrice\"]\n",
    "#             bidInfo[\"currentPrice\"] = items[item][\"currentPrice\"]\n",
    "#             bidInfo[\"bidCount\"] = items[item][\"bidCount\"]\n",
    "#             bidInfo[\"delayCount\"] = items[item][\"delayCount\"]\n",
    "#             bidInfo[\"applyCount\"] = items[item][\"applyCount\"]\n"
   ]
  },
  {
   "cell_type": "code",
   "execution_count": null,
   "metadata": {},
   "outputs": [],
   "source": []
  },
  {
   "cell_type": "code",
   "execution_count": null,
   "metadata": {},
   "outputs": [],
   "source": []
  }
 ],
 "metadata": {
  "kernelspec": {
   "display_name": "Python 3",
   "language": "python",
   "name": "python3"
  },
  "language_info": {
   "codemirror_mode": {
    "name": "ipython",
    "version": 3
   },
   "file_extension": ".py",
   "mimetype": "text/x-python",
   "name": "python",
   "nbconvert_exporter": "python",
   "pygments_lexer": "ipython3",
   "version": "3.7.1"
  }
 },
 "nbformat": 4,
 "nbformat_minor": 2
}
