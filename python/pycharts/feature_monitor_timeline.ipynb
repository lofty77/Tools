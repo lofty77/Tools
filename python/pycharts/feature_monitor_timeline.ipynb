{
 "cells": [
  {
   "cell_type": "code",
   "execution_count": 25,
   "metadata": {},
   "outputs": [],
   "source": [
    "from pyecharts.engine import create_default_environment\n",
    "\n",
    "\n",
    "import xlrd\n",
    "#data = xlrd.open_workbook(r'/home/liang.liang/code/jupyterCode/demo.xlsx')\n",
    "#data = xlrd.open_workbook(r'/home/liang.liang/code/Tools/python/pycharts/workitems.xlsx')\n",
    "data = xlrd.open_workbook(r'/home/liang.liang/code/Tools/python/pycharts/workitems2019.xlsx')\n",
    "\n",
    "\n",
    "table = data.sheets()[0]\n",
    "\n",
    "\n",
    "Data =  {\"KeyID\":table.col_values(2,1),\n",
    "         \"delayDays\":[int(i)/8 for i in table.col_values(3,1) ],\n",
    "         \"funcGroup\":table.col_values(4,1),\n",
    "         \"status\":table.col_values(5,1),\n",
    "         \"group\":table.col_values(6,1)\n",
    "        }\n",
    "\n",
    "\n",
    "status = (\"New\",\"In Analysis\",\"Pending\",\"In Implementation\",\"In Testing\")\n",
    "\n",
    "\n",
    "\n",
    "groupTimeLine = {\n",
    "    \"All\": {\"New\":[],\"In Analysis\":[],\"Pending\":[],\"In Implementation\":[],\"In Testing\":[]},\n",
    "    \"Audio\": {\"New\":[],\"In Analysis\":[],\"Pending\":[],\"In Implementation\":[],\"In Testing\":[]},\n",
    "    \"Media\": {\"New\":[],\"In Analysis\":[],\"Pending\":[],\"In Implementation\":[],\"In Testing\":[]},\n",
    "    \"Radio\": {\"New\":[],\"In Analysis\":[],\"Pending\":[],\"In Implementation\":[],\"In Testing\":[]},\n",
    "    \"Online\": {\"New\":[],\"In Analysis\":[],\"Pending\":[],\"In Implementation\":[],\"In Testing\":[]},\n",
    "    \"HMI\": {\"New\":[],\"In Analysis\":[],\"Pending\":[],\"In Implementation\":[],\"In Testing\":[]},\n",
    "    \"SDS\": {\"New\":[],\"In Analysis\":[],\"Pending\":[],\"In Implementation\":[],\"In Testing\":[]},\n",
    "    \"AndroidApp\": {\"New\":[],\"In Analysis\":[],\"Pending\":[],\"In Implementation\":[],\"In Testing\":[]},\n",
    "    \"AndroidOS\": {\"New\":[],\"In Analysis\":[],\"Pending\":[],\"In Implementation\":[],\"In Testing\":[]},\n",
    "    \"Update\": {\"New\":[],\"In Analysis\":[],\"Pending\":[],\"In Implementation\":[],\"In Testing\":[]},\n",
    "    \"Navi\": {\"New\":[],\"In Analysis\":[],\"Pending\":[],\"In Implementation\":[],\"In Testing\":[]},\n",
    "    \"System\": {\"New\":[],\"In Analysis\":[],\"Pending\":[],\"In Implementation\":[],\"In Testing\":[]},\n",
    "    \"CarConnect\": {\"New\":[],\"In Analysis\":[],\"Pending\":[],\"In Implementation\":[],\"In Testing\":[]}\n",
    " \n",
    "}\n",
    "\n",
    "\n",
    "featureLen = len(Data[\"KeyID\"])\n",
    "\n",
    "autoHeigh = featureLen*16\n",
    "autowidth = 1200"
   ]
  },
  {
   "cell_type": "code",
   "execution_count": 26,
   "metadata": {},
   "outputs": [
    {
     "data": {
      "text/plain": [
       "259"
      ]
     },
     "execution_count": 26,
     "metadata": {},
     "output_type": "execute_result"
    }
   ],
   "source": [
    "featureLen"
   ]
  },
  {
   "cell_type": "code",
   "execution_count": 27,
   "metadata": {},
   "outputs": [],
   "source": [
    "for i in groupTimeLine.keys():\n",
    "    for j in status:\n",
    "        groupTimeLine[i][j] = [0]*featureLen\n",
    "    \n",
    "\n",
    "#groupTimeLine"
   ]
  },
  {
   "cell_type": "code",
   "execution_count": 28,
   "metadata": {},
   "outputs": [],
   "source": [
    "for i in range(featureLen):\n",
    "    groupTimeLine[\"All\"][Data[\"status\"][i]][i] = Data[\"delayDays\"][i]\n",
    "    groupTimeLine[Data[\"group\"][i]][Data[\"status\"][i]][i] = Data[\"delayDays\"][i]\n",
    "    \n",
    "#groupTimeLine"
   ]
  },
  {
   "cell_type": "code",
   "execution_count": 29,
   "metadata": {},
   "outputs": [],
   "source": [
    "from pyecharts import Bar, Timeline\n",
    "\n",
    "from random import randint\n",
    "\n",
    "from pyecharts.engine import create_default_environment\n",
    "\n",
    "class BarCreator:\n",
    "    def __init__(self, val):\n",
    "        self.value = val\n",
    "\n",
    "Bars = {}\n",
    "for i in groupTimeLine.keys():\n",
    "    Bars[i] = BarCreator(Bar(i, \"Delay Days\",width = autowidth, height = autoHeigh))\n",
    "    for j in status:    \n",
    "        Bars[i].value.add(j, Data[\"KeyID\"],groupTimeLine[i][j]\n",
    "        ,xaxis_rotate=0,yaxis_rotate=0,xaxis_interval= 0\n",
    "        ,is_label_show=False,yaxis_pos = \"left\"\n",
    "        ,xaxis_type = 'category',is_stack = True,is_convert = True,yaxis_label_textsize = 12\n",
    "        ,yaxis_name_gap = 5\n",
    "        ,is_toolbox_show = True,is_more_utils=True\n",
    "        ,yaxis_interval = 0,yaxis_margin= 0\n",
    "       )\n",
    "\n",
    "        \n",
    "timeline = Timeline(is_auto_play=False, timeline_bottom=0,width = autowidth, height = autoHeigh)\n",
    "\n",
    "for i in groupTimeLine.keys():\n",
    "    timeline.add(Bars[i].value, i)\n",
    "\n",
    "    \n",
    "#timeline\n",
    "#timeline.render()\n",
    "\n",
    "env = create_default_environment(\"html\")\n",
    "env.render_chart_to_file(timeline, path='timeline1.html')"
   ]
  },
  {
   "cell_type": "code",
   "execution_count": null,
   "metadata": {},
   "outputs": [],
   "source": []
  },
  {
   "cell_type": "code",
   "execution_count": 30,
   "metadata": {},
   "outputs": [
    {
     "data": {
      "text/plain": [
       "'\\nfrom pyecharts import Bar\\n\\n\\nbar = Bar(title=\"37W Project\", subtitle =\"Delay Days for Features\",width = autowidth, height = autoHeigh)\\n\\nfor i in st_key:\\n    bar.add(i, x_keyid_group,status[i], xaxis_rotate=0,yaxis_rotate=0,xaxis_interval= 0\\n       ,is_label_show=False,yaxis_pos = \"left\"\\n       ,xaxis_type = \\'category\\',is_stack = True,is_convert = False,yaxis_label_textsize = 12\\n       ,yaxis_name_gap = 5\\n       ,is_toolbox_show = True,is_more_utils=True\\n       ,yaxis_interval = 0,yaxis_margin= 0\\n           \\n           )\\n\\n\\n    \\n    \\nbar    \\n#env = create_default_environment(\"html\")\\n#env.render_chart_to_file(bar, path=\\'demo1.html\\')\\n\\n'"
      ]
     },
     "execution_count": 30,
     "metadata": {},
     "output_type": "execute_result"
    }
   ],
   "source": [
    "'''\n",
    "from pyecharts import Bar\n",
    "\n",
    "\n",
    "bar = Bar(title=\"37W Project\", subtitle =\"Delay Days for Features\",width = autowidth, height = autoHeigh)\n",
    "\n",
    "for i in st_key:\n",
    "    bar.add(i, x_keyid_group,status[i], xaxis_rotate=0,yaxis_rotate=0,xaxis_interval= 0\n",
    "       ,is_label_show=False,yaxis_pos = \"left\"\n",
    "       ,xaxis_type = 'category',is_stack = True,is_convert = False,yaxis_label_textsize = 12\n",
    "       ,yaxis_name_gap = 5\n",
    "       ,is_toolbox_show = True,is_more_utils=True\n",
    "       ,yaxis_interval = 0,yaxis_margin= 0\n",
    "           \n",
    "           )\n",
    "\n",
    "\n",
    "    \n",
    "    \n",
    "bar    \n",
    "#env = create_default_environment(\"html\")\n",
    "#env.render_chart_to_file(bar, path='demo1.html')\n",
    "\n",
    "'''"
   ]
  },
  {
   "cell_type": "code",
   "execution_count": null,
   "metadata": {},
   "outputs": [],
   "source": []
  },
  {
   "cell_type": "code",
   "execution_count": null,
   "metadata": {},
   "outputs": [],
   "source": []
  },
  {
   "cell_type": "code",
   "execution_count": null,
   "metadata": {},
   "outputs": [],
   "source": []
  },
  {
   "cell_type": "code",
   "execution_count": null,
   "metadata": {},
   "outputs": [],
   "source": []
  }
 ],
 "metadata": {
  "kernelspec": {
   "display_name": "Python 3",
   "language": "python",
   "name": "python3"
  },
  "language_info": {
   "codemirror_mode": {
    "name": "ipython",
    "version": 3
   },
   "file_extension": ".py",
   "mimetype": "text/x-python",
   "name": "python",
   "nbconvert_exporter": "python",
   "pygments_lexer": "ipython3",
   "version": "3.7.1"
  }
 },
 "nbformat": 4,
 "nbformat_minor": 2
}
