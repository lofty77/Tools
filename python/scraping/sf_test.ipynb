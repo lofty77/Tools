{
 "cells": [
  {
   "cell_type": "code",
   "execution_count": 1,
   "metadata": {},
   "outputs": [],
   "source": [
    "from selenium import webdriver\n",
    "from selenium.webdriver.common.by import By\n",
    "from selenium.webdriver.support.ui import WebDriverWait\n",
    "from selenium.webdriver.support import expected_conditions as EC\n",
    "import json\n",
    "import time\n",
    "import csv\n",
    "import pandas as pd"
   ]
  },
  {
   "cell_type": "code",
   "execution_count": 2,
   "metadata": {},
   "outputs": [],
   "source": [
    "csvFile = open(\"namelist.csv\",\"w+\")\n",
    "writer = csv.writer(csvFile)\n",
    "writer.writerow(('name','url'))\n",
    "urlList = []"
   ]
  },
  {
   "cell_type": "code",
   "execution_count": 3,
   "metadata": {},
   "outputs": [],
   "source": [
    "sourceUrl = \"https://sf.taobao.com/item_list.htm?category=50025969&auction_source=0&province=%CC%EC%BD%F2&sorder=2\" \\\n",
    "                 \"&st_param=-1&auction_start_from=2018-01-01&auction_start_to=2019-05-13&spm=a213w.3064813.9001.2\"  \n",
    "\n"
   ]
  },
  {
   "cell_type": "code",
   "execution_count": 4,
   "metadata": {},
   "outputs": [],
   "source": [
    "# Start the driver\n",
    "driver = webdriver.Chrome()\n",
    "# Setup wait for later\n",
    "wait = WebDriverWait(driver, 10)\n",
    "\n",
    "driver.get(sourceUrl)\n",
    "\n",
    "# Store the ID of the original window\n",
    "original_window = driver.current_window_handle\n",
    "\n",
    "# Check we don't have other windows open already\n",
    "assert len(driver.window_handles) == 1"
   ]
  },
  {
   "cell_type": "code",
   "execution_count": 5,
   "metadata": {},
   "outputs": [],
   "source": [
    "WebDriverWait(driver, 10).until(EC.presence_of_element_located((By.CLASS_NAME, \"page-total\")))\n",
    "\n",
    "pages = driver.find_element_by_class_name(\"page-total\").text\n"
   ]
  },
  {
   "cell_type": "code",
   "execution_count": null,
   "metadata": {},
   "outputs": [],
   "source": []
  },
  {
   "cell_type": "code",
   "execution_count": 6,
   "metadata": {},
   "outputs": [
    {
     "name": "stdout",
     "output_type": "stream",
     "text": [
      "Name:杨宁\n",
      "url:https://sf-item.taobao.com/sf_item/591345585914.htm?spm=a213w.7398504.paiList.1.4b4c26cdb0YzHA#J_Confirmation\n",
      "Name:魏环利\n",
      "url:https://sf-item.taobao.com/sf_item/593056639808.htm?spm=a213w.7398504.paiList.2.4b4c26cdb0YzHA#J_Confirmation\n",
      "Name:李玉芹\n",
      "url:https://sf-item.taobao.com/sf_item/592456853691.htm?spm=a213w.7398504.paiList.3.4b4c26cdb0YzHA#J_Confirmation\n",
      "Name:于德龙\n",
      "url:https://sf-item.taobao.com/sf_item/592498100588.htm?spm=a213w.7398504.paiList.4.4b4c26cdb0YzHA#J_Confirmation\n",
      "item failed\n",
      "Name:张丹琪\n",
      "url:https://sf-item.taobao.com/sf_item/592561621637.htm?spm=a213w.7398504.paiList.6.4b4c26cdb0YzHA#J_Confirmation\n"
     ]
    }
   ],
   "source": [
    "#for j in range(1,int(pages)+1):\n",
    "for j in range(1,2):\n",
    "\n",
    "    if (j > 1):\n",
    "        driver.find_element_by_link_text(str(j)).click()\n",
    "        time.sleep(1)\n",
    "        #WebDriverWait(driver, 10).until(EC.presence_of_element_located((By.CLASS_NAME, \"current\")))\n",
    "\n",
    "    else:\n",
    "        pass\n",
    "    \n",
    "    WebDriverWait(driver, 10).until(EC.presence_of_element_located((By.ID, \"sf-item-list-data\")))\n",
    "    data = driver.find_element_by_id(\"sf-item-list-data\").get_attribute('innerHTML')\n",
    "    jsonData =  json.loads(data)\n",
    "    jd = jsonData[\"data\"]\n",
    "    \n",
    " #   itemLen = len(jd)\n",
    " #   for i in range(itemLen):\n",
    "        \n",
    "    \n",
    "    #for i in range(len(jd)):\n",
    "    for i in range(6):\n",
    "        \n",
    "        itemStatus = jd[i][\"status\"]\n",
    "        \n",
    "        if(itemStatus == \"done\"):\n",
    "            num = jd[i][\"id\"]\n",
    "            url = \"#pai-item-\"+str(num)+\" .pic\"\n",
    "            urlList.append(url)\n",
    "            # Click the link which opens in a new window\n",
    "            driver.find_element_by_css_selector(url).click()\n",
    "            # Wait for the new window or tab\n",
    "            wait.until(EC.number_of_windows_to_be(2))\n",
    "\n",
    "            handles = driver.window_handles\n",
    "            #print(handles)\n",
    "            driver.switch_to.window(handles[1])\n",
    "            #\n",
    "            url2 = str(driver.current_url)+\"#J_Confirmation\"\n",
    "            driver.get(url2)\n",
    "            WebDriverWait(driver, 10).until(EC.presence_of_element_located((By.CLASS_NAME, \"c-content\")))\n",
    "            info = driver.find_element_by_class_name(\"c-content\").text\n",
    "            index = info.find(\"通过\")\n",
    "            # getName\n",
    "            name = info[4:index]\n",
    "            print(\"Name:\"+name)\n",
    "            #print(str(j)+\":\"+str(i) +\":\"+ driver.title)\n",
    "            print(\"url:\"+driver.current_url)\n",
    "            # add to file\n",
    "            writer.writerow((name,driver.current_url))\n",
    "            driver.close()\n",
    "            driver.switch_to.window(handles[0])\n",
    "        else:\n",
    "            print(\"item failed\")\n",
    "\n"
   ]
  },
  {
   "cell_type": "code",
   "execution_count": 7,
   "metadata": {},
   "outputs": [],
   "source": [
    "driver.quit()"
   ]
  },
  {
   "cell_type": "code",
   "execution_count": 8,
   "metadata": {},
   "outputs": [],
   "source": [
    "csvFile.close()\n",
    "csv = pd.read_csv('namelist.csv', encoding='utf-8')\n",
    "csv.to_excel('namelist.xlsx', sheet_name='data')"
   ]
  },
  {
   "cell_type": "code",
   "execution_count": null,
   "metadata": {},
   "outputs": [],
   "source": []
  },
  {
   "cell_type": "code",
   "execution_count": null,
   "metadata": {},
   "outputs": [],
   "source": []
  }
 ],
 "metadata": {
  "kernelspec": {
   "display_name": "Python 3",
   "language": "python",
   "name": "python3"
  },
  "language_info": {
   "codemirror_mode": {
    "name": "ipython",
    "version": 3
   },
   "file_extension": ".py",
   "mimetype": "text/x-python",
   "name": "python",
   "nbconvert_exporter": "python",
   "pygments_lexer": "ipython3",
   "version": "3.7.1"
  }
 },
 "nbformat": 4,
 "nbformat_minor": 2
}
