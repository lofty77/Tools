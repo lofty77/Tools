{
 "cells": [
  {
   "cell_type": "code",
   "execution_count": 1,
   "metadata": {},
   "outputs": [],
   "source": [
    "from selenium import webdriver\n",
    "from selenium.webdriver.common.by import By\n",
    "from selenium.webdriver.support.ui import WebDriverWait\n",
    "from selenium.webdriver.support import expected_conditions as EC\n",
    "import json\n",
    "import time\n",
    "import csv\n",
    "import pandas as pd\n",
    "import re"
   ]
  },
  {
   "cell_type": "code",
   "execution_count": 2,
   "metadata": {},
   "outputs": [],
   "source": [
    "# time\n",
    "def getCurrentTimeStamp():\n",
    "    t = time.time()\n",
    "    print(time.strftime('%Y-%m-%d %H:%M:%S',time.localtime(t)))\n",
    "    return t\n",
    "\n",
    "\n",
    "def printDuration(start, end):\n",
    "    seconds = end - start\n",
    "    m, s = divmod(seconds, 60)\n",
    "    h, m = divmod(m, 60)\n",
    "    print (\"%02d:%02d:%02d\" % (h, m, s))"
   ]
  },
  {
   "cell_type": "code",
   "execution_count": 3,
   "metadata": {},
   "outputs": [],
   "source": [
    "class DataManagement:\n",
    "    def __init__(self):\n",
    "        self.data = {}\n",
    "    \n",
    "    def setData(self,attribute, data):\n",
    "        if(attribute == \"name\"):\n",
    "            index = data.find(\"通过\")\n",
    "            data = data[4:index]\n",
    "            self.data[attribute] =  data\n",
    "        elif(attribute == \"area\" or attribute == \"areaB\"):\n",
    "            index1 = data.find(\"建筑面积\")\n",
    "            index2 = data.find(\"面积\")\n",
    "            left = index1 if index1 > 0 else index2\n",
    "\n",
    "            if(left != -1):\n",
    "                size = data[(left+2) : (left+22)]\n",
    "                areas = re.findall(r\"\\d+\\.?\\d*\",size)\n",
    "                self.data[attribute] = areas[0] if areas else 0\n",
    "            else:\n",
    "                self.data[attribute] = 0\n",
    "        else:\n",
    "            self.data[attribute] =  data\n",
    "\n",
    "            \n",
    "    def getData(self,attribute):\n",
    "        return self.data[attribute]"
   ]
  },
  {
   "cell_type": "code",
   "execution_count": 4,
   "metadata": {},
   "outputs": [
    {
     "name": "stdout",
     "output_type": "stream",
     "text": [
      "2019-05-20 20:37:39\n"
     ]
    }
   ],
   "source": [
    "# time\n",
    "startTime =  getCurrentTimeStamp()"
   ]
  },
  {
   "cell_type": "code",
   "execution_count": null,
   "metadata": {},
   "outputs": [],
   "source": []
  },
  {
   "cell_type": "code",
   "execution_count": 5,
   "metadata": {},
   "outputs": [
    {
     "data": {
      "text/plain": [
       "89"
      ]
     },
     "execution_count": 5,
     "metadata": {},
     "output_type": "execute_result"
    }
   ],
   "source": [
    "csvFile = open(\"namelist.csv\",\"w+\")\n",
    "writer = csv.writer(csvFile)\n",
    "\n",
    "data = DataManagement()\n",
    "\n",
    "\n",
    "header = (\"name\",\"date\",\"title\",\"consultPrice\",\"currentPrice\",\"bidCount\",\"delayCount\",\"applyCount\",\"area\",\"areaB\",\"url\")\n",
    "\n",
    "writer.writerow(header)"
   ]
  },
  {
   "cell_type": "code",
   "execution_count": 6,
   "metadata": {},
   "outputs": [],
   "source": [
    "# tianjin\n",
    "# sourceUrl = \"https://sf.taobao.com/item_list.htm?category=50025969&auction_source=0&province=%CC%EC%BD%F2&sorder=2\" \\\n",
    "#                  \"&st_param=-1&auction_start_from=2018-01-01&auction_start_to=2019-05-13&spm=a213w.3064813.9001.2\"  \n",
    "\n",
    "\n",
    "# wuhan\n",
    "sourceUrl = \"https://sf.taobao.com/item_list.htm?category=50025969&auction_source=0&city=%CE%E4%BA%BA&sorder=2\" \\\n",
    "                  \"&st_param=-1&auction_start_from=2018-01-01&auction_start_to=2019-05-19&spm=a213w.3064813.9001.2\""
   ]
  },
  {
   "cell_type": "code",
   "execution_count": 7,
   "metadata": {},
   "outputs": [],
   "source": [
    "# Start the driver\n",
    "driver = webdriver.Chrome()\n",
    "# Setup wait for later\n",
    "wait = WebDriverWait(driver, 10)\n",
    "\n",
    "driver.get(sourceUrl)\n",
    "\n",
    "# Store the ID of the original window\n",
    "original_window = driver.current_window_handle\n",
    "\n",
    "# Check we don't have other windows open already\n",
    "assert len(driver.window_handles) == 1"
   ]
  },
  {
   "cell_type": "code",
   "execution_count": 8,
   "metadata": {},
   "outputs": [
    {
     "data": {
      "text/plain": [
       "<selenium.webdriver.remote.webelement.WebElement (session=\"6debe61ac75f9d4eb90913a5136a1fcc\", element=\"0.6162222530317452-1\")>"
      ]
     },
     "execution_count": 8,
     "metadata": {},
     "output_type": "execute_result"
    }
   ],
   "source": [
    "wait.until(EC.presence_of_element_located((By.CLASS_NAME, \"page-total\")))\n"
   ]
  },
  {
   "cell_type": "code",
   "execution_count": 9,
   "metadata": {},
   "outputs": [],
   "source": [
    "#if test, set  pages = 1 \n",
    "#pages = 1\n",
    "pages = driver.find_element_by_class_name(\"page-total\").text"
   ]
  },
  {
   "cell_type": "code",
   "execution_count": null,
   "metadata": {},
   "outputs": [],
   "source": []
  },
  {
   "cell_type": "code",
   "execution_count": 10,
   "metadata": {},
   "outputs": [],
   "source": [
    "for page in range(1,int(pages)+1):\n",
    "    if(page > 1):\n",
    "        driver.find_element_by_link_text(str(page)).click()\n",
    "        time.sleep(1)\n",
    "    \n",
    "    wait.until(EC.presence_of_element_located((By.CLASS_NAME, \"sf-pai-item-list\")))\n",
    "    jsonData =  json.loads(driver.find_element_by_id(\"sf-item-list-data\").get_attribute('innerHTML'))\n",
    "    items = jsonData[\"data\"]\n",
    "    \n",
    "    itemLen = len(items)\n",
    "    #itemLen = 6   #test\n",
    "    for item in range(itemLen):            \n",
    "        if(items[item][\"status\"] == \"done\"):            \n",
    "            data.setData(\"id\",items[item][\"id\"])\n",
    "            data.setData(\"title\",items[item][\"title\"])\n",
    "            data.setData(\"consultPrice\",items[item][\"consultPrice\"])\n",
    "            data.setData(\"currentPrice\",items[item][\"currentPrice\"])\n",
    "            data.setData(\"bidCount\",items[item][\"bidCount\"])\n",
    "            data.setData(\"delayCount\",items[item][\"delayCount\"])\n",
    "            data.setData(\"applyCount\",items[item][\"applyCount\"])\n",
    "            \n",
    "\n",
    "            url = \"#pai-item-\"+str(data.getData(\"id\"))\n",
    "                        \n",
    "            # Click the link which opens in a new window\n",
    "            driver.find_element_by_css_selector(url).click()\n",
    "            time.sleep(1) # have to wait sometime\n",
    "\n",
    "            # Wait for the new window or tab\n",
    "            wait.until(EC.number_of_windows_to_be(2))\n",
    "            handles = driver.window_handles\n",
    "            driver.switch_to.window(handles[1])\n",
    "            # size\n",
    "            \n",
    "            urlNew = driver.current_url\n",
    "            data.setData(\"url\",urlNew)\n",
    "\n",
    "            \n",
    "            url2 = str(urlNew)+\"#J_Confirmation\"\n",
    "            driver.get(url2)\n",
    "            \n",
    "            \n",
    "            wait.until(EC.presence_of_element_located((By.CLASS_NAME, \"content-wrap\")))            \n",
    "            data.setData(\"name\",driver.find_element_by_class_name(\"c-content\").text)\n",
    "            data.setData(\"date\",driver.find_element_by_class_name(\"c-stamp\").text)\n",
    "\n",
    "           # get area\n",
    "            driver.get(str(urlNew)+\"#NoticeDetail\")\n",
    "            time.sleep(1)\n",
    "            data.setData(\"area\",driver.find_element_by_id(\"J_NoticeDetail\").get_attribute('textContent'))\n",
    "\n",
    "           ###  Tip\n",
    "            driver.get(str(urlNew)+\"#RemindTip\")\n",
    "            time.sleep(1)\n",
    "            data.setData(\"areaB\",driver.find_element_by_id(\"J_desc\").get_attribute('textContent'))\n",
    "                \n",
    "\n",
    "### write into file\n",
    "            writer.writerow((data.getData(\"name\"),\n",
    "                                   data.getData(\"date\"),\n",
    "                                   data.getData(\"title\"),\n",
    "                                   data.getData(\"consultPrice\"),\n",
    "                                   data.getData(\"currentPrice\"),\n",
    "                                   data.getData(\"bidCount\"),\n",
    "                                   data.getData(\"delayCount\"),\n",
    "                                   data.getData(\"applyCount\"),\n",
    "                                   data.getData(\"area\"),\n",
    "                                   data.getData(\"areaB\"),\n",
    "                                   data.getData(\"url\")\n",
    "                                 ))\n",
    "          \n",
    "            driver.close()\n",
    "            driver.switch_to.window(handles[0])\n",
    "        else:\n",
    "            pass\n",
    "           # print(\"***item failed******\"+\": Page :\"+str(page)+\"   Item :\"+str(item))\n",
    "\n"
   ]
  },
  {
   "cell_type": "code",
   "execution_count": 11,
   "metadata": {},
   "outputs": [],
   "source": [
    "driver.quit()"
   ]
  },
  {
   "cell_type": "code",
   "execution_count": 12,
   "metadata": {},
   "outputs": [],
   "source": [
    "csvFile.close()\n",
    "csv = pd.read_csv('namelist.csv', encoding='utf-8')\n",
    "csv.to_excel('namelist.xlsx', sheet_name='data')"
   ]
  },
  {
   "cell_type": "code",
   "execution_count": 13,
   "metadata": {},
   "outputs": [
    {
     "name": "stdout",
     "output_type": "stream",
     "text": [
      "2019-05-20 21:28:27\n",
      "00:50:48\n"
     ]
    }
   ],
   "source": [
    "endTime = getCurrentTimeStamp()\n",
    "\n",
    "printDuration(startTime, endTime)"
   ]
  },
  {
   "cell_type": "code",
   "execution_count": null,
   "metadata": {},
   "outputs": [],
   "source": []
  },
  {
   "cell_type": "code",
   "execution_count": null,
   "metadata": {},
   "outputs": [],
   "source": [
    "\n"
   ]
  },
  {
   "cell_type": "code",
   "execution_count": 14,
   "metadata": {},
   "outputs": [],
   "source": [
    "# match = r\"\\d+\\.\\d*\"\n",
    "\n",
    "# areas = re.findall(match,\"abc12121223ac-1.12dddd\")\n",
    "\n",
    "# areas\n",
    "\n"
   ]
  },
  {
   "cell_type": "code",
   "execution_count": null,
   "metadata": {},
   "outputs": [],
   "source": []
  },
  {
   "cell_type": "code",
   "execution_count": null,
   "metadata": {},
   "outputs": [],
   "source": []
  }
 ],
 "metadata": {
  "kernelspec": {
   "display_name": "Python 3",
   "language": "python",
   "name": "python3"
  },
  "language_info": {
   "codemirror_mode": {
    "name": "ipython",
    "version": 3
   },
   "file_extension": ".py",
   "mimetype": "text/x-python",
   "name": "python",
   "nbconvert_exporter": "python",
   "pygments_lexer": "ipython3",
   "version": "3.7.1"
  }
 },
 "nbformat": 4,
 "nbformat_minor": 2
}
