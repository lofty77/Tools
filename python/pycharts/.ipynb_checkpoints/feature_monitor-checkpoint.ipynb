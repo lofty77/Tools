{
 "cells": [
  {
   "cell_type": "code",
   "execution_count": 1,
   "metadata": {},
   "outputs": [],
   "source": [
    "from pyecharts.engine import create_default_environment\n",
    "\n",
    "\n",
    "import xlrd\n",
    "#data = xlrd.open_workbook(r'/home/liang.liang/code/jupyterCode/demo.xlsx')\n",
    "\n",
    "data = xlrd.open_workbook(r'/home/liang.liang/code/Tools/python/pycharts/workitems.xlsx')\n",
    "\n",
    "\n",
    "table = data.sheets()[0]\n",
    "\n",
    "\n",
    "keyId=table.col_values(2,1)\n",
    "delayHours=table.col_values(3,1)\n",
    "functionGroup=table.col_values(4,1)\n",
    "status=table.col_values(5,1)\n",
    "\n",
    "status_list = [\"New\",\"In Analysis\",\"Pending\",\"In Implementation\",\"In Testing\"]\n",
    "\n",
    "\n",
    "funcGroup_list = [\"Android\",\"AppCon\",\"Audio\",\"BT\",\"BT_Org\",\"HMI\",\n",
    "                    \"HU\",\"Kombi\",\"MAP\",\"Media\",\"MFL\",\"Navi\",\n",
    "                    \"Online\",\"ORU\",\"PSO2.0\",\"Radio\",\"SDS\",\"SPApp\",\n",
    "                    \"Software\",\"Speech\",\"SWDL\",\"System\",\"WiFi\",\"Diagnose\"\n",
    "                 ]\n",
    "\n",
    "\n",
    "\n",
    "featureLen = len(keyId)\n",
    "statusLen = len(status_list)\n",
    "groupLen = len(funcGroup_list)\n",
    "\n",
    "x_keyid_group = [0]*featureLen\n",
    "x_keyid_status = [0]*featureLen\n",
    "\n",
    "delayDays = [int(i)/8 for i in delayHours ]\n",
    "\n",
    "\n",
    "status_dict = {\"New\":[],\"In Analysis\":[],\"Pending\":[],\"In Implementation\":[],\"In Testing\":[]}\n",
    "\n",
    "st_key= status_dict.keys()\n",
    "\n",
    "for i in st_key:\n",
    "    status_dict[i] = [0]*featureLen\n",
    "    \n",
    "    \n",
    "    \n",
    "funcGroup_dict = {\"Android\":[],\"AppCon\":[],\"Audio\":[],\"BT\":[],\"BT_Org\":[],\"HMI\":[],\n",
    "                    \"HU\":[],\"Kombi\":[],\"MAP\":[],\"Media\":[],\"MFL\":[],\"Navi\":[],\n",
    "                    \"Online\":[],\"ORU\":[],\"PSO2.0\":[],\"Radio\":[],\"SDS\":[],\"SPApp\":[],\n",
    "                    \"Software\":[],\"Speech\":[],\"SWDL\":[],\"System\":[],\"WiFi\":[],\"Diagnose\":[]\n",
    "                   }\n",
    "\n",
    "fg_key = funcGroup_dict.keys()\n",
    "\n",
    "for i in fg_key:\n",
    "    funcGroup_dict[i] = [0]*featureLen\n",
    "    \n",
    "    \n",
    "\n",
    "####\n",
    "    \n",
    "statusGroup_dict = {\"New\":[],\"In Analysis\":[],\"Pending\":[],\"In Implementation\":[],\"In Testing\":[]}\n",
    "\n",
    "st2_key = statusGroup_dict.keys()\n",
    "\n",
    "for i in st2_key:\n",
    "    statusGroup_dict[i] = [0]*groupLen\n",
    "    \n",
    "    \n",
    "    \n",
    "### auto height/width\n",
    "\n",
    "#autoHeigh = featureLen * 25\n",
    "\n",
    "autoHeigh = 400\n",
    "autowidth = 800"
   ]
  },
  {
   "cell_type": "code",
   "execution_count": 2,
   "metadata": {},
   "outputs": [
    {
     "data": {
      "text/plain": [
       "dict_keys(['New', 'In Analysis', 'Pending', 'In Implementation', 'In Testing'])"
      ]
     },
     "execution_count": 2,
     "metadata": {},
     "output_type": "execute_result"
    }
   ],
   "source": [
    "st2_key"
   ]
  },
  {
   "cell_type": "code",
   "execution_count": 3,
   "metadata": {},
   "outputs": [],
   "source": [
    "for i in range(featureLen):\n",
    "    x_keyid_group[i] = str(keyId[i]) + '['+functionGroup[i] + ']'\n",
    " #   x_keyid_status[i] = str(keyId[i]) + '['+status[i] + ']'\n"
   ]
  },
  {
   "cell_type": "code",
   "execution_count": 4,
   "metadata": {},
   "outputs": [],
   "source": [
    "for i in range(featureLen):\n",
    "    \n",
    "    if(status[i] == \"New\"):\n",
    "        st_short = \"New\"\n",
    "    elif(status[i] == \"In Analysis\"):\n",
    "        st_short = \"Analy\"\n",
    "    elif(status[i] == \"Pending\"):\n",
    "        st_short = \"Pend\"\n",
    "    elif(status[i] == \"In Implementation\"):\n",
    "        st_short = \"Imple\"\n",
    "    else:\n",
    "        st_short = \"Test\"\n",
    "\n",
    "    x_keyid_status[i] = str(keyId[i]) + '['+st_short + ']'\n",
    "\n",
    "\n",
    " #   x_keyid_status[i] = str(keyId[i]) + '['+status[i] + ']'\n",
    "\n",
    "\n",
    "\n"
   ]
  },
  {
   "cell_type": "code",
   "execution_count": 5,
   "metadata": {},
   "outputs": [
    {
     "data": {
      "text/plain": [
       "['1.11.1[New]',\n",
       " '1.11.3[New]',\n",
       " '1.11.6[New]',\n",
       " '1.5[New]',\n",
       " '1.7[New]',\n",
       " '1.8[New]',\n",
       " '1.9.2[New]']"
      ]
     },
     "execution_count": 5,
     "metadata": {},
     "output_type": "execute_result"
    }
   ],
   "source": [
    "x_keyid_status"
   ]
  },
  {
   "cell_type": "code",
   "execution_count": 6,
   "metadata": {},
   "outputs": [],
   "source": [
    "for i in range(featureLen):\n",
    "    status_dict[status[i]][i] = delayDays[i]\n"
   ]
  },
  {
   "cell_type": "code",
   "execution_count": 7,
   "metadata": {},
   "outputs": [],
   "source": [
    "for i in range(featureLen):\n",
    "    funcGroup_dict[functionGroup[i]][i] = delayDays[i]"
   ]
  },
  {
   "cell_type": "code",
   "execution_count": null,
   "metadata": {},
   "outputs": [],
   "source": []
  },
  {
   "cell_type": "code",
   "execution_count": 8,
   "metadata": {},
   "outputs": [],
   "source": [
    "for i in range(featureLen):\n",
    "    groupIndex = funcGroup_list.index(functionGroup[i])\n",
    "    statusGroup_dict[status[i]][groupIndex] += delayDays[i]\n",
    "     "
   ]
  },
  {
   "cell_type": "code",
   "execution_count": null,
   "metadata": {},
   "outputs": [],
   "source": []
  },
  {
   "cell_type": "code",
   "execution_count": 9,
   "metadata": {},
   "outputs": [],
   "source": [
    "from pyecharts import Bar\n",
    "\n",
    "\n",
    "bar = Bar(title=\"37W Project\", subtitle =\"Delay Days for Features\",width = autowidth, height = autoHeigh)\n",
    "\n",
    "for i in status_list:\n",
    "    bar.add(i, x_keyid_group,status_dict[i], xaxis_rotate=0,yaxis_rotate=0,xaxis_interval= 0\n",
    "       ,is_label_show=False,yaxis_pos = \"left\"\n",
    "       ,xaxis_type = 'category',is_stack = True,is_convert = True,yaxis_label_textsize = 12\n",
    "       ,yaxis_name_gap = 5\n",
    "       ,is_toolbox_show = True,is_more_utils=True\n",
    "       ,yaxis_interval = 0,yaxis_margin= 0\n",
    "           \n",
    "           )\n",
    "\n",
    "\n",
    "    \n",
    "    \n",
    "#bar    \n",
    "env = create_default_environment(\"html\")\n",
    "env.render_chart_to_file(bar, path='demo1.html')\n",
    "\n"
   ]
  },
  {
   "cell_type": "code",
   "execution_count": 10,
   "metadata": {},
   "outputs": [],
   "source": [
    "from pyecharts import Bar\n",
    "\n",
    "\n",
    "#bar = Bar(\"37W Project\", \"Delay Days for Features\")\n",
    "\n",
    "bar = Bar(title=\"37W Project\", subtitle =\"Delay Days for Features\",width = autowidth, height = autoHeigh)\n",
    "\n",
    "for i in funcGroup_list:\n",
    "    bar.add(i, x_keyid_status,funcGroup_dict[i], xaxis_rotate=0,xaxis_interval= 0\n",
    "       ,is_label_show=False,is_more_utils=True\n",
    "       ,xaxis_type = 'category',xaxis_label_textsize = 10,yaxis_label_textsize = 12\n",
    "       ,is_stack = True,label_pos = 'top',is_convert = True\n",
    "       ,yaxis_interval = 0,yaxis_margin= 0\n",
    "       ,legend_top = \"bottom\",legend_text_size = 8\n",
    "       ,legend_selectedmode = \"multiple\"\n",
    "\n",
    "           )\n",
    "\n",
    "    \n",
    "#bar\n",
    "\n",
    "env = create_default_environment(\"html\")\n",
    "env.render_chart_to_file(bar, path='demo2.html')\n"
   ]
  },
  {
   "cell_type": "code",
   "execution_count": 11,
   "metadata": {},
   "outputs": [],
   "source": [
    "from pyecharts import Bar\n",
    "\n",
    "\n",
    "bar = Bar(title=\"37W Project\", subtitle =\"Delay Days for Features\",width = autowidth, height = 600)\n",
    "\n",
    "\n",
    "for i in status_list:\n",
    "    bar.add(i, funcGroup_list,statusGroup_dict[i], xaxis_rotate=0,xaxis_interval= 0\n",
    "       ,is_label_show=False,is_more_utils=True\n",
    "       ,xaxis_label_textsize = 10,yaxis_label_textsize = 10\n",
    "       ,is_stack = True,label_pos = 'top',is_convert = True\n",
    "       ,yaxis_interval = 0,yaxis_margin= 4 \n",
    "       ,legend_top = \"top\",legend_text_size = 12\n",
    "           )\n",
    "\n",
    "\n",
    "bar\n",
    "#bar.render()\n",
    "\n",
    "env = create_default_environment(\"html\")\n",
    "env.render_chart_to_file(bar, path='demo3.html')\n"
   ]
  },
  {
   "cell_type": "code",
   "execution_count": null,
   "metadata": {},
   "outputs": [],
   "source": []
  }
 ],
 "metadata": {
  "kernelspec": {
   "display_name": "Python 3",
   "language": "python",
   "name": "python3"
  },
  "language_info": {
   "codemirror_mode": {
    "name": "ipython",
    "version": 3
   },
   "file_extension": ".py",
   "mimetype": "text/x-python",
   "name": "python",
   "nbconvert_exporter": "python",
   "pygments_lexer": "ipython3",
   "version": "3.7.1"
  }
 },
 "nbformat": 4,
 "nbformat_minor": 2
}
