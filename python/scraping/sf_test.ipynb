{
 "cells": [
  {
   "cell_type": "code",
   "execution_count": 1,
   "metadata": {},
   "outputs": [],
   "source": [
    "G_Debug = True   # if debug mode.  Debug = True. if Release mode, Debug = False.\n",
    "G_Chrome_Hide = True\n",
    "G_Debug_Pages = 2\n",
    "G_Debug_Items = 5\n",
    "\n",
    "\n",
    "G_CVS_FILE_NAME =  'tianjin.csv'\n",
    "\n",
    "G_XLSX_FILE_NAME = 'tianjin2019.xlsx'\n",
    "\n",
    "G_BID_ATTRIBUTE = (\"id\",\"status\",\"start\",\"end\",\"title\",\"consultPrice\",\n",
    "                                \"marketPrice\",\"currentPrice\",\"bidCount\",\"delayCount\",\"applyCount\",\"itemUrl\")\n",
    "\n",
    "G_CVS_HEADER =  (\"name\",\"start\",\"end\",\"bidNumber\",\"title\",\"originPrice\",\n",
    "                         \"currentPrice\",\"discount\",\"unit\",\"bidCount\",\"delayCount\",\n",
    "                         \"applyCount\",\"area\",\"areaA\",\"areaB\",\"itemUrl\")\n"
   ]
  },
  {
   "cell_type": "code",
   "execution_count": 2,
   "metadata": {},
   "outputs": [],
   "source": [
    "from selenium import webdriver\n",
    "from selenium.webdriver.common.by import By\n",
    "from selenium.webdriver.support.ui import WebDriverWait\n",
    "from selenium.webdriver.support import expected_conditions as EC\n",
    "from selenium.webdriver.chrome.options import Options\n",
    "import json\n",
    "import time\n",
    "import csv\n",
    "import pandas as pd\n",
    "import re"
   ]
  },
  {
   "cell_type": "code",
   "execution_count": 3,
   "metadata": {},
   "outputs": [],
   "source": [
    "# time\n",
    "def getCurrentTimeStamp():\n",
    "    t = time.time()\n",
    "    print(time.strftime('%Y-%m-%d %H:%M:%S',time.localtime(t)))\n",
    "    return t\n",
    "\n",
    "\n",
    "def printDuration(start, end):\n",
    "    seconds = end - start\n",
    "    m, s = divmod(seconds, 60)\n",
    "    h, m = divmod(m, 60)\n",
    "    print (\"%02d:%02d:%02d\" % (h, m, s))\n",
    "    \n",
    "    \n",
    "\n",
    "# import time\n",
    "# dt = \"2019-06-03 10:00:00\"\n",
    "# #转换成时间数组\n",
    "# timeArray = time.strptime(dt, \"%Y-%m-%d %H:%M:%S\")\n",
    "# #转换成时间戳\n",
    "# timestamp = time.mktime(timeArray)\n",
    "# print (timestamp)"
   ]
  },
  {
   "cell_type": "code",
   "execution_count": 4,
   "metadata": {},
   "outputs": [],
   "source": [
    "def log(page_id,item_id,status):\n",
    "    print(\"page id: {0}, item id: {1}, status:{2}\".format(page_id,item_id,status))"
   ]
  },
  {
   "cell_type": "code",
   "execution_count": 5,
   "metadata": {},
   "outputs": [],
   "source": [
    "class DataManagement:\n",
    "    def __init__(self):\n",
    "        self.data = {}\n",
    "        self.data[\"name\"] = None\n",
    "        \n",
    "        global G_CVS_FILE_NAME\n",
    "        global G_XLSX_FILE_NAME\n",
    "        global G_CVS_HEADER\n",
    "        \n",
    "        self.cvs_file_name = G_CVS_FILE_NAME\n",
    "        self.xlsx_file_name = G_XLSX_FILE_NAME\n",
    "        self.cvs_head = G_CVS_HEADER\n",
    "        \n",
    "        self.__open_file()\n",
    "\n",
    "    def __process_attri_name(self,attribute, data):\n",
    "        index = data.find(\"通过\")\n",
    "        data = data[4:index]\n",
    "        self.data[attribute] =  data     \n",
    "            \n",
    "    def __process_attri_area(self,attribute, data):\n",
    "        left = data.find(\"建筑面积\")\n",
    "        if(left != -1):\n",
    "            size = data[(left+4) : (left+22)]\n",
    "            areas = re.findall(r\"\\d+\\.\\d*\",size)\n",
    "            self.data[attribute] = areas[0] if areas else 0\n",
    "        else:\n",
    "            self.data[attribute] = 0\n",
    "        \n",
    "    def __process_attri_date(self,attribute, data):\n",
    "        time1 = int(int(data)/1000 )\n",
    "        self.data[attribute] = str(time.strftime('%Y-%m-%d %H:%M:%S',time.localtime(time1)))\n",
    "        \n",
    "    def __process_attri_times(self,attribute, data):\n",
    "        keyword_postion = data.find(\"卖\")\n",
    "        if(keyword_postion != -1):\n",
    "            data = data[1:keyword_postion+1]\n",
    "        else:\n",
    "            data = \"no content\"\n",
    "            \n",
    "        self.data[attribute] = data\n",
    "\n",
    "\n",
    "\n",
    "    def __process_attri_common(self,attribute, data):\n",
    "        self.data[attribute] =  data        \n",
    "     \n",
    "    def __process_attri_url(self,attribute, data):\n",
    "        url = \"https:\"+data\n",
    "        self.data[attribute] =  url        \n",
    "\n",
    "    \n",
    "    def __clac_data(self):\n",
    "        # \n",
    "        if (int(self.data[\"consultPrice\"]) > 0):\n",
    "            originPrice = self.data[\"consultPrice\"]\n",
    "        else:\n",
    "            originPrice = self.data[\"marketPrice\"]\n",
    "        #\n",
    "        if (int(originPrice)  == 0):\n",
    "            self.data[\"discount\"] = \"error\"\n",
    "        else:\n",
    "            self.data[\"discount\"]  = float(\"%.2f\" % float(int(self.data[\"currentPrice\"])/originPrice))\n",
    " \n",
    "       # change unit to from RMB yuan to  RMB Wan\n",
    "        self.data[\"originPrice\"]  = float(\"%.2f\" % float(int(originPrice)/10000))        \n",
    "        self.data[\"currentPrice\"] = float(\"%.2f\" % float(int(self.data[\"currentPrice\"])/10000))\n",
    "\n",
    "      # set area\n",
    "        if(float(self.data[\"areaA\"]) > 0):\n",
    "            self.data[\"area\"]  = self.data[\"areaA\"]\n",
    "            self.data[\"unit\"] = float(\"%.2f\" % float(int(self.data[\"currentPrice\"])/float(self.data[\"area\"]) ))\n",
    "        elif(float(self.data[\"areaB\"]) > 0):\n",
    "            self.data[\"area\"] = self.data[\"areaB\"]\n",
    "            self.data[\"unit\"] = float(\"%.2f\" % float(int(self.data[\"currentPrice\"])/float(self.data[\"area\"]) ))\n",
    "        else:\n",
    "            self.data[\"area\"] = 0\n",
    "            self.data[\"unit\"] = 0\n",
    "      ###    \n",
    "        \n",
    "    \n",
    "    def set_data(self,attribute, data):\n",
    "        if(attribute == \"name\"):\n",
    "            self.__process_attri_name(attribute, data)\n",
    "        elif(attribute == \"areaA\" or attribute == \"areaB\"):\n",
    "            self.__process_attri_area(attribute, data)\n",
    "        elif(attribute == \"start\" or attribute == \"end\"):\n",
    "            self.__process_attri_date(attribute, data)\n",
    "        elif(attribute == \"bidNumber\"):\n",
    "            self.__process_attri_times(attribute, data)\n",
    "        elif(attribute == \"itemUrl\"):\n",
    "            self.__process_attri_url(attribute, data)\n",
    "        else:\n",
    "            self.__process_attri_common(attribute,data)    \n",
    "    \n",
    "    \n",
    "    def get_data(self,attribute):\n",
    "        return self.data[attribute]\n",
    "    \n",
    "    def __open_file(self):\n",
    "        self.csv_file = open(self.cvs_file_name,\"w+\")\n",
    "        self.writer = csv.writer(self.csv_file)        \n",
    "        self.writer.writerow(self.cvs_head)\n",
    "\n",
    "    def write_file(self):\n",
    "        \n",
    "        self.__clac_data()\n",
    "        \n",
    "        row = tuple(self.data[i] for i in self.cvs_head)\n",
    "        \n",
    "        self.writer.writerow(row)\n",
    "    \n",
    "    def close_file(self):\n",
    "        self.csv_file.close()\n",
    "        csv = pd.read_csv(self.cvs_file_name, encoding='utf-8')\n",
    "        csv.to_excel(self.xlsx_file_name, sheet_name='data')\n",
    "            \n"
   ]
  },
  {
   "cell_type": "code",
   "execution_count": null,
   "metadata": {},
   "outputs": [],
   "source": []
  },
  {
   "cell_type": "code",
   "execution_count": 6,
   "metadata": {},
   "outputs": [
    {
     "name": "stdout",
     "output_type": "stream",
     "text": [
      "2019-06-11 22:08:57\n"
     ]
    }
   ],
   "source": [
    "# time\n",
    "startTime =  getCurrentTimeStamp()"
   ]
  },
  {
   "cell_type": "code",
   "execution_count": null,
   "metadata": {},
   "outputs": [],
   "source": []
  },
  {
   "cell_type": "code",
   "execution_count": 7,
   "metadata": {},
   "outputs": [],
   "source": [
    "data = DataManagement()\n"
   ]
  },
  {
   "cell_type": "code",
   "execution_count": 8,
   "metadata": {},
   "outputs": [],
   "source": [
    "#will bid\n",
    "# sourceUrl = (\"https://sf.taobao.com/item_list.htm?spm=a213w.7398504.filter.60.53db26cdCGMLqt&category=50025969\"  \n",
    "#                    \"&auction_source=0&province=%CC%EC%BD%F2&sorder=1&st_param=-1&auction_start_seg=-1\")\n",
    "# #done bid\n",
    "sourceUrl = (\"https://sf.taobao.com/item_list.htm?category=50025969&auction_source=0&province=%CC%EC%BD%F2&sorder=2\"\n",
    "               \"&st_param=-1&auction_start_seg=&auction_start_from=2019-01-01&auction_start_to=2019-07-10&&spm=a213w.3064813.9001.2\")"
   ]
  },
  {
   "cell_type": "code",
   "execution_count": 9,
   "metadata": {},
   "outputs": [
    {
     "data": {
      "text/plain": [
       "<selenium.webdriver.remote.webelement.WebElement (session=\"21c997f6a5f22bddc7686fcbf2816f8c\", element=\"0.8757642964377286-1\")>"
      ]
     },
     "execution_count": 9,
     "metadata": {},
     "output_type": "execute_result"
    }
   ],
   "source": [
    "#set headless\n",
    "chrome_options=Options()\n",
    "chrome_options.add_argument('--headless')\n",
    "# Start the driver\n",
    "if(G_Chrome_Hide):\n",
    "    driver = webdriver.Chrome(options=chrome_options)\n",
    "else:\n",
    "    driver = webdriver.Chrome()\n",
    "    \n",
    "\n",
    "# Setup wait for later\n",
    "wait = WebDriverWait(driver, 10)\n",
    "\n",
    "driver.get(sourceUrl)\n",
    "\n",
    "# Store the ID of the original window\n",
    "original_window = driver.current_window_handle\n",
    "\n",
    "# Check we don't have other windows open already\n",
    "assert len(driver.window_handles) == 1\n",
    "\n",
    "wait.until(EC.presence_of_element_located((By.CLASS_NAME, \"page-total\")))"
   ]
  },
  {
   "cell_type": "code",
   "execution_count": null,
   "metadata": {},
   "outputs": [],
   "source": []
  },
  {
   "cell_type": "code",
   "execution_count": 10,
   "metadata": {},
   "outputs": [],
   "source": [
    "# TEST\n",
    "\n",
    "if(G_Debug):\n",
    "    pages = G_Debug_Pages\n",
    "else:\n",
    "    pages = driver.find_element_by_class_name(\"page-total\").text\n"
   ]
  },
  {
   "cell_type": "code",
   "execution_count": null,
   "metadata": {},
   "outputs": [],
   "source": []
  },
  {
   "cell_type": "code",
   "execution_count": 11,
   "metadata": {},
   "outputs": [
    {
     "name": "stdout",
     "output_type": "stream",
     "text": [
      "page id: 1, item id: 0, status:done\n",
      "page id: 1, item id: 1, status:done\n",
      "page id: 1, item id: 2, status:failure\n",
      "page id: 1, item id: 3, status:failure\n",
      "page id: 1, item id: 4, status:failure\n",
      "page id: 2, item id: 0, status:done\n",
      "page id: 2, item id: 1, status:done\n",
      "page id: 2, item id: 2, status:done\n",
      "page id: 2, item id: 3, status:done\n",
      "page id: 2, item id: 4, status:done\n"
     ]
    }
   ],
   "source": [
    "for page in range(1,int(pages)+1):\n",
    "    if(page > 1):\n",
    "        driver.find_element_by_link_text(str(page)).click()\n",
    "        time.sleep(1)\n",
    "    \n",
    "    wait.until(EC.presence_of_element_located((By.CLASS_NAME, \"sf-pai-item-list\")))\n",
    "    jsonData =  json.loads(driver.find_element_by_id(\"sf-item-list-data\").get_attribute('innerHTML'))\n",
    "    page_data = jsonData[\"data\"]\n",
    "    \n",
    "    if(G_Debug):\n",
    "        items = G_Debug_Items\n",
    "    else:\n",
    "        items = len(page_data)\n",
    "\n",
    "\n",
    "    for item in range(items):\n",
    "        log(page,item,page_data[item][\"status\"])\n",
    "        for key,value in page_data[item].items():\n",
    "            if key in G_BID_ATTRIBUTE:\n",
    "                data.set_data(key,value)\n",
    "\n",
    "        # Click the link which opens in a new window\n",
    "        driver.find_element_by_css_selector(\"#pai-item-\"+str(data.get_data(\"id\"))).click()\n",
    "        time.sleep(1) # have to wait sometime\n",
    "        # Wait for the new window or tab\n",
    "        wait.until(EC.number_of_windows_to_be(2))\n",
    "        handles = driver.window_handles\n",
    "        driver.switch_to.window(handles[1])\n",
    "        item_url = driver.current_url\n",
    "\n",
    "       # bid times\n",
    "        wait.until(EC.presence_of_element_located((By.XPATH, \"/html[1]/body[1]/div[3]/div[4]/div[1]/div[1]/h1[1]\")))\n",
    "        data.set_data(\"bidNumber\",driver.find_element_by_xpath(\"/html[1]/body[1]/div[3]/div[4]/div[1]/div[1]/h1[1]\").get_attribute('textContent'))\n",
    "        #TODO: degfine new field\n",
    "\n",
    "       # get area\n",
    "        driver.get(item_url+\"#NoticeDetail\")\n",
    "        time.sleep(1)\n",
    "        data.set_data(\"areaA\",driver.find_element_by_id(\"J_NoticeDetail\").get_attribute('textContent'))\n",
    "        \n",
    "       ###  Tip\n",
    "        driver.get(item_url+\"#RemindTip\")\n",
    "        time.sleep(1)\n",
    "        data.set_data(\"areaB\",driver.find_element_by_id(\"J_desc\").get_attribute('textContent'))\n",
    "              \n",
    "        if(data.get_data(\"status\") == \"done\"):\n",
    "            driver.get(item_url+\"#J_Confirmation\")\n",
    "            wait.until(EC.presence_of_element_located((By.CLASS_NAME, \"content-wrap\")))\n",
    "            name = driver.find_element_by_class_name(\"c-content\").text\n",
    "        else:\n",
    "            name = \"用户姓名失败通过\"\n",
    "        data.set_data(\"name\",name)\n",
    "                 \n",
    "        data.write_file()\n",
    "        driver.close()\n",
    "        driver.switch_to.window(handles[0])"
   ]
  },
  {
   "cell_type": "code",
   "execution_count": 12,
   "metadata": {},
   "outputs": [],
   "source": [
    "driver.quit()"
   ]
  },
  {
   "cell_type": "code",
   "execution_count": 13,
   "metadata": {},
   "outputs": [],
   "source": [
    "data.close_file()"
   ]
  },
  {
   "cell_type": "code",
   "execution_count": 14,
   "metadata": {},
   "outputs": [
    {
     "name": "stdout",
     "output_type": "stream",
     "text": [
      "2019-06-11 22:09:43\n",
      "00:00:46\n"
     ]
    }
   ],
   "source": [
    "endTime = getCurrentTimeStamp()\n",
    "\n",
    "printDuration(startTime, endTime)"
   ]
  },
  {
   "cell_type": "code",
   "execution_count": null,
   "metadata": {},
   "outputs": [],
   "source": []
  },
  {
   "cell_type": "code",
   "execution_count": null,
   "metadata": {},
   "outputs": [],
   "source": [
    "\n"
   ]
  },
  {
   "cell_type": "code",
   "execution_count": null,
   "metadata": {},
   "outputs": [],
   "source": [
    "\n"
   ]
  },
  {
   "cell_type": "code",
   "execution_count": null,
   "metadata": {},
   "outputs": [],
   "source": []
  },
  {
   "cell_type": "code",
   "execution_count": null,
   "metadata": {},
   "outputs": [],
   "source": []
  },
  {
   "cell_type": "code",
   "execution_count": null,
   "metadata": {},
   "outputs": [],
   "source": [
    "\n",
    "\n"
   ]
  },
  {
   "cell_type": "code",
   "execution_count": null,
   "metadata": {},
   "outputs": [],
   "source": []
  },
  {
   "cell_type": "code",
   "execution_count": null,
   "metadata": {},
   "outputs": [],
   "source": []
  },
  {
   "cell_type": "code",
   "execution_count": null,
   "metadata": {},
   "outputs": [],
   "source": []
  },
  {
   "cell_type": "code",
   "execution_count": null,
   "metadata": {},
   "outputs": [],
   "source": []
  }
 ],
 "metadata": {
  "kernelspec": {
   "display_name": "Python 3",
   "language": "python",
   "name": "python3"
  },
  "language_info": {
   "codemirror_mode": {
    "name": "ipython",
    "version": 3
   },
   "file_extension": ".py",
   "mimetype": "text/x-python",
   "name": "python",
   "nbconvert_exporter": "python",
   "pygments_lexer": "ipython3",
   "version": "3.7.1"
  }
 },
 "nbformat": 4,
 "nbformat_minor": 2
}
